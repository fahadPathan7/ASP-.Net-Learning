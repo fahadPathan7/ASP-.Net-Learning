{
 "cells": [
  {
   "cell_type": "markdown",
   "id": "388e0390-6dab-4441-939b-77e45b0cbab3",
   "metadata": {},
   "source": [
    "## Level 6 Logic and Loops"
   ]
  },
  {
   "cell_type": "markdown",
   "id": "955fc8a1-4ec4-4410-8a87-cd38a0b3ca25",
   "metadata": {},
   "source": [
    "---"
   ]
  },
  {
   "cell_type": "markdown",
   "id": "bf368743-50a7-489c-bdab-04144a2f913a",
   "metadata": {},
   "source": [
    "### condition --->"
   ]
  },
  {
   "cell_type": "code",
   "execution_count": 5,
   "id": "a1252563-5e28-4f07-a728-3f28e419d652",
   "metadata": {},
   "outputs": [
    {
     "name": "stdin",
     "output_type": "stream",
     "text": [
      "Enter your salary:  35000\n"
     ]
    },
    {
     "name": "stdout",
     "output_type": "stream",
     "text": [
      "Need to improve\n"
     ]
    }
   ],
   "source": [
    "# if elif else\n",
    "salary = int(input(\"Enter your salary: \"))\n",
    "\n",
    "if (salary > 50000):\n",
    "    print(\"You are surely rich!\")\n",
    "elif (salary > 40000):\n",
    "    print(\"You are rich!\")\n",
    "else:\n",
    "    print(\"Need to improve\")"
   ]
  },
  {
   "cell_type": "markdown",
   "id": "470b358c-f848-4705-9c50-d526313fb3f9",
   "metadata": {},
   "source": [
    "#### with and or operator"
   ]
  },
  {
   "cell_type": "code",
   "execution_count": 5,
   "id": "ae9ad2ed-97f2-4668-af29-7412a49972ac",
   "metadata": {},
   "outputs": [
    {
     "name": "stdin",
     "output_type": "stream",
     "text": [
      "Enter power:  50\n",
      "Enter your stick color:  yellow\n"
     ]
    },
    {
     "name": "stdout",
     "output_type": "stream",
     "text": [
      "You need to improve your power.\n"
     ]
    }
   ],
   "source": [
    "power = int(input(\"Enter power: \"))\n",
    "color = input(\"Enter your stick color: \")\n",
    "\n",
    "if power > 50 and color == \"green\":\n",
    "    print(\"You are so powerful.\")\n",
    "elif power <= 50 and (color == \"blue\" or \"yellow\"):\n",
    "    print(\"You need to improve your power.\")\n",
    "else:\n",
    "    print(\"You are un-authorized\")"
   ]
  },
  {
   "cell_type": "markdown",
   "id": "7ccfb879-2a79-4f83-9bab-132560b3ea52",
   "metadata": {},
   "source": [
    "---"
   ]
  },
  {
   "cell_type": "markdown",
   "id": "c234be66-38df-474f-94f0-d67ab54a547b",
   "metadata": {},
   "source": [
    "### match and case logic --->"
   ]
  },
  {
   "cell_type": "code",
   "execution_count": 13,
   "id": "5550261c-2f4b-4062-9cc1-656431e8ed27",
   "metadata": {},
   "outputs": [
    {
     "name": "stdout",
     "output_type": "stream",
     "text": [
      "good 2\n"
     ]
    }
   ],
   "source": [
    "good_or_not = \"good\"\n",
    "army = 2\n",
    "\n",
    "match good_or_not:\n",
    "    case \"good\":\n",
    "        match army:\n",
    "            case 1: \n",
    "                print(\"good 1\")\n",
    "            case 2:\n",
    "                print(\"good 2\")\n",
    "    case \"not good\":\n",
    "        match army:\n",
    "            case 1:\n",
    "                print(\"not good 1\")\n",
    "            case 2:\n",
    "                print(\"not good 2\")"
   ]
  },
  {
   "cell_type": "markdown",
   "id": "0d508416-0403-427d-a0b0-dd1432f55b2a",
   "metadata": {},
   "source": [
    "---"
   ]
  },
  {
   "cell_type": "markdown",
   "id": "c4c7a269-e8c5-4c34-8a03-8031e6b6ee30",
   "metadata": {},
   "source": [
    "### formatting --->"
   ]
  },
  {
   "cell_type": "code",
   "execution_count": 16,
   "id": "c416d76e-14de-40eb-99a6-7cf055044457",
   "metadata": {},
   "outputs": [
    {
     "name": "stdout",
     "output_type": "stream",
     "text": [
      "Price of fruits is 100.00.\n"
     ]
    }
   ],
   "source": [
    "price = 100\n",
    "print(f\"Price of fruits is {price:.2f}.\")"
   ]
  },
  {
   "cell_type": "markdown",
   "id": "cca78828-b846-4730-bc71-7ea8c9187cac",
   "metadata": {},
   "source": [
    "---"
   ]
  },
  {
   "cell_type": "markdown",
   "id": "0c9cbb48-3068-49fe-a596-4cace180afb7",
   "metadata": {},
   "source": [
    "### slicing --->"
   ]
  },
  {
   "cell_type": "code",
   "execution_count": 25,
   "id": "ef8bec5b-5425-4081-a3e2-73634def6fd8",
   "metadata": {},
   "outputs": [
    {
     "name": "stdout",
     "output_type": "stream",
     "text": [
      "First name: Fahad. Last name: Pathan.\n"
     ]
    }
   ],
   "source": [
    "name = \"Fahad Pathan\"\n",
    "first_name = name[0:5]\n",
    "last_name = name[6:12]\n",
    "print(f\"First name: {first_name}. Last name: {last_name}.\")"
   ]
  },
  {
   "cell_type": "markdown",
   "id": "9e23723c-1bee-4202-b1ac-dbad3dfe4a6e",
   "metadata": {},
   "source": [
    "---"
   ]
  },
  {
   "cell_type": "markdown",
   "id": "783e1836-6adf-4593-b627-31ba76e3461c",
   "metadata": {},
   "source": [
    "### for loop --->"
   ]
  },
  {
   "cell_type": "code",
   "execution_count": 4,
   "id": "9db12f3a-3273-4128-aa38-dc4115428622",
   "metadata": {},
   "outputs": [
    {
     "name": "stdout",
     "output_type": "stream",
     "text": [
      "apple\n",
      "banana\n",
      "orange\n"
     ]
    }
   ],
   "source": [
    "fruits = [\"apple\", \"banana\", \"orange\", \"lichi\"]\n",
    "for fruit in fruits: \n",
    "    print(fruit)\n",
    "    if fruit == \"orange\": break"
   ]
  },
  {
   "cell_type": "markdown",
   "id": "a2e437c7-d356-4b24-a189-2e659f2bb07c",
   "metadata": {},
   "source": [
    "---"
   ]
  },
  {
   "cell_type": "markdown",
   "id": "2155c612-e4b9-46b6-b31f-8becc4bcd579",
   "metadata": {},
   "source": [
    "### while loop --->"
   ]
  },
  {
   "cell_type": "code",
   "execution_count": 10,
   "id": "9724593d-f48b-4953-9290-0709316a2361",
   "metadata": {},
   "outputs": [
    {
     "name": "stdout",
     "output_type": "stream",
     "text": [
      "1\n",
      "2\n",
      "3\n",
      "4\n",
      "5\n"
     ]
    }
   ],
   "source": [
    "num = 1\n",
    "\n",
    "while num <= 5:\n",
    "    print(num)\n",
    "    num += 1"
   ]
  },
  {
   "cell_type": "markdown",
   "id": "da921c02-06b7-441d-9022-af56a95669db",
   "metadata": {},
   "source": [
    "---"
   ]
  }
 ],
 "metadata": {
  "kernelspec": {
   "display_name": "Python 3 (ipykernel)",
   "language": "python",
   "name": "python3"
  },
  "language_info": {
   "codemirror_mode": {
    "name": "ipython",
    "version": 3
   },
   "file_extension": ".py",
   "mimetype": "text/x-python",
   "name": "python",
   "nbconvert_exporter": "python",
   "pygments_lexer": "ipython3",
   "version": "3.10.13"
  }
 },
 "nbformat": 4,
 "nbformat_minor": 5
}
