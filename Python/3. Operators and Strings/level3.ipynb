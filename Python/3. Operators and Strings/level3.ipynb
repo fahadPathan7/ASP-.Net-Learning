{
 "cells": [
  {
   "cell_type": "markdown",
   "id": "388e0390-6dab-4441-939b-77e45b0cbab3",
   "metadata": {},
   "source": [
    "## Level 3 Python Math (Meaning Operators) and Strings"
   ]
  },
  {
   "cell_type": "markdown",
   "id": "955fc8a1-4ec4-4410-8a87-cd38a0b3ca25",
   "metadata": {},
   "source": [
    "---"
   ]
  },
  {
   "cell_type": "markdown",
   "id": "bf368743-50a7-489c-bdab-04144a2f913a",
   "metadata": {},
   "source": [
    "### arithmetic operators --->"
   ]
  },
  {
   "cell_type": "code",
   "execution_count": 1,
   "id": "a1252563-5e28-4f07-a728-3f28e419d652",
   "metadata": {},
   "outputs": [
    {
     "name": "stdout",
     "output_type": "stream",
     "text": [
      "20 200 30 10 2.0 0 10240000000000\n"
     ]
    }
   ],
   "source": [
    "a = 20\n",
    "b = a * 10 # multiplication\n",
    "c = a + 10 # addition\n",
    "d = a - 10 # subtraction\n",
    "e = a / 10 # division\n",
    "f = a % 10 # mod\n",
    "g = a ** 10 # power\n",
    "print(a, b, c, d, e, f, g)"
   ]
  },
  {
   "cell_type": "markdown",
   "id": "7ccfb879-2a79-4f83-9bab-132560b3ea52",
   "metadata": {},
   "source": [
    "---"
   ]
  },
  {
   "cell_type": "markdown",
   "id": "5cd1868a-e65d-4420-b16c-1e1d877dd72f",
   "metadata": {},
   "source": [
    "### stringing together ---> "
   ]
  },
  {
   "cell_type": "code",
   "execution_count": 2,
   "id": "8766f6df-cc35-4771-bda4-2038390a3c5b",
   "metadata": {},
   "outputs": [
    {
     "name": "stdout",
     "output_type": "stream",
     "text": [
      "Jack and Rose was in the Titanic in 1912\n"
     ]
    }
   ],
   "source": [
    "name = \"Jack\"\n",
    "name1 = \"Rose\"\n",
    "year = 1912\n",
    "print(name + \" and \" + name1 + \" was in the Titanic in \" + str(year))"
   ]
  },
  {
   "cell_type": "markdown",
   "id": "079a2b43-aa83-4db1-9c8c-2469b14b99c7",
   "metadata": {},
   "source": [
    "-> exercise: simple interest rate count"
   ]
  },
  {
   "cell_type": "code",
   "execution_count": 4,
   "id": "228c2172-59c2-41e0-9f72-a59f8eb70bb4",
   "metadata": {},
   "outputs": [
    {
     "name": "stdin",
     "output_type": "stream",
     "text": [
      "Enter your amount:  1000\n",
      "Enter duration in year:  2\n"
     ]
    },
    {
     "name": "stdout",
     "output_type": "stream",
     "text": [
      "You will get total interest: 200.0\n"
     ]
    }
   ],
   "source": [
    "amount = input(\"Enter your amount: \")\n",
    "year = input(\"Enter duration in year: \")\n",
    "interest_rate = 10\n",
    "print(\"You will get total interest: \" + str((float(amount) * float(year) * interest_rate) / 100))"
   ]
  },
  {
   "cell_type": "markdown",
   "id": "60c369d9-3777-4f09-a4ca-81f64c3bf288",
   "metadata": {},
   "source": [
    "---"
   ]
  },
  {
   "cell_type": "code",
   "execution_count": null,
   "id": "7a5e8649-0eea-47cd-8c0d-b9fb55e229ad",
   "metadata": {},
   "outputs": [],
   "source": []
  }
 ],
 "metadata": {
  "kernelspec": {
   "display_name": "Python 3 (ipykernel)",
   "language": "python",
   "name": "python3"
  },
  "language_info": {
   "codemirror_mode": {
    "name": "ipython",
    "version": 3
   },
   "file_extension": ".py",
   "mimetype": "text/x-python",
   "name": "python",
   "nbconvert_exporter": "python",
   "pygments_lexer": "ipython3",
   "version": "3.10.13"
  }
 },
 "nbformat": 4,
 "nbformat_minor": 5
}
