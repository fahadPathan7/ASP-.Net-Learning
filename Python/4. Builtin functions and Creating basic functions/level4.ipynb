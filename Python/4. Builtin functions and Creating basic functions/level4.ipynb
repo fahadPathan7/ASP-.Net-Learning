{
 "cells": [
  {
   "cell_type": "markdown",
   "id": "388e0390-6dab-4441-939b-77e45b0cbab3",
   "metadata": {},
   "source": [
    "## Level 4 Built in Functions & Creating Basic Functions"
   ]
  },
  {
   "cell_type": "markdown",
   "id": "955fc8a1-4ec4-4410-8a87-cd38a0b3ca25",
   "metadata": {},
   "source": [
    "---"
   ]
  },
  {
   "cell_type": "markdown",
   "id": "bf368743-50a7-489c-bdab-04144a2f913a",
   "metadata": {},
   "source": [
    "### abs function --->"
   ]
  },
  {
   "cell_type": "code",
   "execution_count": 7,
   "id": "a1252563-5e28-4f07-a728-3f28e419d652",
   "metadata": {},
   "outputs": [
    {
     "name": "stdout",
     "output_type": "stream",
     "text": [
      "7\n"
     ]
    }
   ],
   "source": [
    "a = -7\n",
    "a = abs(a) # it will make the value positive\n",
    "print(a) "
   ]
  },
  {
   "cell_type": "markdown",
   "id": "7ccfb879-2a79-4f83-9bab-132560b3ea52",
   "metadata": {},
   "source": [
    "---"
   ]
  },
  {
   "cell_type": "markdown",
   "id": "d1166685-0133-4f3f-8789-05d5395fb0a6",
   "metadata": {},
   "source": [
    "### round function --->"
   ]
  },
  {
   "cell_type": "code",
   "execution_count": 8,
   "id": "b1e399a0-5bc3-42d3-b7f3-8796cf5eb379",
   "metadata": {},
   "outputs": [
    {
     "name": "stdout",
     "output_type": "stream",
     "text": [
      "8\n"
     ]
    }
   ],
   "source": [
    "a = 7.6\n",
    "a = round(a) # it will convert the value to the nearest integer\n",
    "print(a)"
   ]
  },
  {
   "cell_type": "markdown",
   "id": "0d1ff56d-00e2-4541-8f92-b25fa8f6ca98",
   "metadata": {},
   "source": [
    "---"
   ]
  },
  {
   "cell_type": "markdown",
   "id": "78093433-517f-4cfc-a8da-4eeb95bcaa9d",
   "metadata": {},
   "source": [
    "### max min function ---> "
   ]
  },
  {
   "cell_type": "code",
   "execution_count": 11,
   "id": "ffb64661-346a-4b93-b6ec-bfe24f3fbe76",
   "metadata": {},
   "outputs": [
    {
     "name": "stdout",
     "output_type": "stream",
     "text": [
      "10 5\n"
     ]
    }
   ],
   "source": [
    "a = 10\n",
    "b = 5\n",
    "c = 7\n",
    "max_val = max(a, b, c) # selects the maximum value\n",
    "min_val = min(a, b, c) # selects the minimum value\n",
    "print(max_val, min_val)"
   ]
  },
  {
   "cell_type": "markdown",
   "id": "812be914-6573-4517-b1a2-68bd4176792f",
   "metadata": {},
   "source": [
    "---"
   ]
  },
  {
   "cell_type": "markdown",
   "id": "47ebdb7a-bf39-496b-b525-b6b6ceadf905",
   "metadata": {},
   "source": [
    "### custom function --->"
   ]
  },
  {
   "cell_type": "code",
   "execution_count": 13,
   "id": "71444624-29d8-4399-abbc-6e7f3a668efc",
   "metadata": {},
   "outputs": [
    {
     "name": "stdin",
     "output_type": "stream",
     "text": [
      "Enter your name:  Fahad Pathan\n"
     ]
    },
    {
     "name": "stdout",
     "output_type": "stream",
     "text": [
      "Your name is Fahad Pathan\n"
     ]
    }
   ],
   "source": [
    "def name_func(): \n",
    "    name = input(\"Enter your name: \")\n",
    "    print(\"Your name is \" + name)\n",
    "\n",
    "name_func()"
   ]
  },
  {
   "cell_type": "markdown",
   "id": "2f46a07d-083e-46c7-92e9-6be31c832855",
   "metadata": {},
   "source": [
    "-> passing with parameter "
   ]
  },
  {
   "cell_type": "code",
   "execution_count": 15,
   "id": "25def162-2d28-4b97-a91c-dead546e5ce2",
   "metadata": {},
   "outputs": [
    {
     "name": "stdin",
     "output_type": "stream",
     "text": [
      "Enter your name:  Fahad Pathan\n",
      "Enter your age:  23\n"
     ]
    },
    {
     "name": "stdout",
     "output_type": "stream",
     "text": [
      "Fahad Pathan's age is 23\n"
     ]
    }
   ],
   "source": [
    "name = input(\"Enter your name: \")\n",
    "age = input(\"Enter your age: \")\n",
    "\n",
    "def name_age_func(name, age):\n",
    "    print(name + \"'s age is \" + age)\n",
    "\n",
    "name_age_func(name, age)"
   ]
  },
  {
   "cell_type": "markdown",
   "id": "3f4175eb-8e5d-4b87-8aa6-493ac7f405cc",
   "metadata": {},
   "source": [
    "-> creating advanced functions (keyword and default values)"
   ]
  },
  {
   "cell_type": "code",
   "execution_count": 17,
   "id": "c2eb63d5-af3a-45a8-825b-1b6e468518a3",
   "metadata": {},
   "outputs": [
    {
     "name": "stdin",
     "output_type": "stream",
     "text": [
      "Enter your name:  Fahad\n",
      "Enter your age:  23\n"
     ]
    },
    {
     "name": "stdout",
     "output_type": "stream",
     "text": [
      "Fahad's age is 23\n",
      "Fahad's age is 23\n",
      "Fahad's age is 23\n"
     ]
    }
   ],
   "source": [
    "name = input(\"Enter your name: \")\n",
    "age = input(\"Enter your age: \")\n",
    "\n",
    "def name_age_func(name, age):\n",
    "    print(name + \"'s age is \" + str(age))\n",
    "\n",
    "name_age_func(name, age)\n",
    "name_age_func(\"Fahad\", 23) \n",
    "name_age_func(age = 23, name = \"Fahad\")"
   ]
  },
  {
   "cell_type": "code",
   "execution_count": 19,
   "id": "8aede579-6a3b-4146-9681-338c63e2dc2b",
   "metadata": {},
   "outputs": [
    {
     "name": "stdout",
     "output_type": "stream",
     "text": [
      "Name is: Fahad\n",
      "Name is: No name\n"
     ]
    }
   ],
   "source": [
    "def name_func(name = \"No name\"):\n",
    "    print(\"Name is: \" + name)\n",
    "\n",
    "name_func(\"Fahad\")\n",
    "name_func()"
   ]
  },
  {
   "cell_type": "markdown",
   "id": "d1fd0522-990a-4c00-8dd3-fdd35b8daace",
   "metadata": {},
   "source": [
    "-> returning values from functions"
   ]
  },
  {
   "cell_type": "code",
   "execution_count": 20,
   "id": "e3a060b3-4655-475d-9ea9-3f0be3f70f61",
   "metadata": {},
   "outputs": [
    {
     "data": {
      "text/plain": [
       "100"
      ]
     },
     "execution_count": 20,
     "metadata": {},
     "output_type": "execute_result"
    }
   ],
   "source": [
    "def ten_multi(a):\n",
    "    return a * 10\n",
    "\n",
    "ten_multi(10)"
   ]
  },
  {
   "cell_type": "markdown",
   "id": "21fe5a6a-1adc-4d60-87a2-9a6965325c1e",
   "metadata": {},
   "source": [
    "---"
   ]
  }
 ],
 "metadata": {
  "kernelspec": {
   "display_name": "Python 3 (ipykernel)",
   "language": "python",
   "name": "python3"
  },
  "language_info": {
   "codemirror_mode": {
    "name": "ipython",
    "version": 3
   },
   "file_extension": ".py",
   "mimetype": "text/x-python",
   "name": "python",
   "nbconvert_exporter": "python",
   "pygments_lexer": "ipython3",
   "version": "3.10.13"
  }
 },
 "nbformat": 4,
 "nbformat_minor": 5
}
