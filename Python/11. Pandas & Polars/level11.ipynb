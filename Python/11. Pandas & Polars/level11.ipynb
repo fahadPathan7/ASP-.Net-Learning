{
 "cells": [
  {
   "cell_type": "markdown",
   "id": "388e0390-6dab-4441-939b-77e45b0cbab3",
   "metadata": {},
   "source": [
    "## Level 11 Pandas & Polars"
   ]
  },
  {
   "cell_type": "markdown",
   "id": "955fc8a1-4ec4-4410-8a87-cd38a0b3ca25",
   "metadata": {},
   "source": [
    "---"
   ]
  },
  {
   "cell_type": "markdown",
   "id": "bf368743-50a7-489c-bdab-04144a2f913a",
   "metadata": {},
   "source": [
    "### pandas & polars basic --->"
   ]
  },
  {
   "cell_type": "code",
   "execution_count": 2,
   "id": "a1252563-5e28-4f07-a728-3f28e419d652",
   "metadata": {},
   "outputs": [],
   "source": [
    "import pandas as pd\n",
    "import polars as pl"
   ]
  },
  {
   "cell_type": "code",
   "execution_count": 3,
   "id": "a5350a37-d320-4250-a316-352b6a59dfe6",
   "metadata": {},
   "outputs": [],
   "source": [
    "data_list_pd = [[1, \"Alice\"], [2, \"Bob\"], [3, \"Charlie\"]]"
   ]
  },
  {
   "cell_type": "code",
   "execution_count": 4,
   "id": "81fac8bd-3241-4f2c-bfe1-f65d430519a8",
   "metadata": {},
   "outputs": [
    {
     "data": {
      "text/html": [
       "<div>\n",
       "<style scoped>\n",
       "    .dataframe tbody tr th:only-of-type {\n",
       "        vertical-align: middle;\n",
       "    }\n",
       "\n",
       "    .dataframe tbody tr th {\n",
       "        vertical-align: top;\n",
       "    }\n",
       "\n",
       "    .dataframe thead th {\n",
       "        text-align: right;\n",
       "    }\n",
       "</style>\n",
       "<table border=\"1\" class=\"dataframe\">\n",
       "  <thead>\n",
       "    <tr style=\"text-align: right;\">\n",
       "      <th></th>\n",
       "      <th>0</th>\n",
       "      <th>1</th>\n",
       "    </tr>\n",
       "  </thead>\n",
       "  <tbody>\n",
       "    <tr>\n",
       "      <th>0</th>\n",
       "      <td>1</td>\n",
       "      <td>Alice</td>\n",
       "    </tr>\n",
       "    <tr>\n",
       "      <th>1</th>\n",
       "      <td>2</td>\n",
       "      <td>Bob</td>\n",
       "    </tr>\n",
       "    <tr>\n",
       "      <th>2</th>\n",
       "      <td>3</td>\n",
       "      <td>Charlie</td>\n",
       "    </tr>\n",
       "  </tbody>\n",
       "</table>\n",
       "</div>"
      ],
      "text/plain": [
       "   0        1\n",
       "0  1    Alice\n",
       "1  2      Bob\n",
       "2  3  Charlie"
      ]
     },
     "execution_count": 4,
     "metadata": {},
     "output_type": "execute_result"
    }
   ],
   "source": [
    "pd.DataFrame(data_list_pd)"
   ]
  },
  {
   "cell_type": "code",
   "execution_count": 5,
   "id": "42c08b40-f077-4ac3-9e02-b47fb2bdaa0a",
   "metadata": {},
   "outputs": [
    {
     "data": {
      "text/html": [
       "<div>\n",
       "<style scoped>\n",
       "    .dataframe tbody tr th:only-of-type {\n",
       "        vertical-align: middle;\n",
       "    }\n",
       "\n",
       "    .dataframe tbody tr th {\n",
       "        vertical-align: top;\n",
       "    }\n",
       "\n",
       "    .dataframe thead th {\n",
       "        text-align: right;\n",
       "    }\n",
       "</style>\n",
       "<table border=\"1\" class=\"dataframe\">\n",
       "  <thead>\n",
       "    <tr style=\"text-align: right;\">\n",
       "      <th></th>\n",
       "      <th>ID</th>\n",
       "      <th>Name</th>\n",
       "    </tr>\n",
       "  </thead>\n",
       "  <tbody>\n",
       "    <tr>\n",
       "      <th>0</th>\n",
       "      <td>1</td>\n",
       "      <td>Alice</td>\n",
       "    </tr>\n",
       "    <tr>\n",
       "      <th>1</th>\n",
       "      <td>2</td>\n",
       "      <td>Bob</td>\n",
       "    </tr>\n",
       "    <tr>\n",
       "      <th>2</th>\n",
       "      <td>3</td>\n",
       "      <td>Charlie</td>\n",
       "    </tr>\n",
       "  </tbody>\n",
       "</table>\n",
       "</div>"
      ],
      "text/plain": [
       "   ID     Name\n",
       "0   1    Alice\n",
       "1   2      Bob\n",
       "2   3  Charlie"
      ]
     },
     "execution_count": 5,
     "metadata": {},
     "output_type": "execute_result"
    }
   ],
   "source": [
    "df_pandas_list = pd.DataFrame(data_list_pd, columns=[\"ID\", \"Name\"])\n",
    "df_pandas_list"
   ]
  },
  {
   "cell_type": "code",
   "execution_count": 6,
   "id": "c50637a2-c4d4-4092-86ca-661e22b4521b",
   "metadata": {},
   "outputs": [
    {
     "name": "stderr",
     "output_type": "stream",
     "text": [
      "C:\\anaconda\\envs\\tf_gpu\\lib\\functools.py:889: DataOrientationWarning: Row orientation inferred during DataFrame construction. Explicitly specify the orientation by passing `orient=\"row\"` to silence this warning.\n",
      "  return dispatch(args[0].__class__)(*args, **kw)\n"
     ]
    },
    {
     "data": {
      "text/html": [
       "<div><style>\n",
       ".dataframe > thead > tr,\n",
       ".dataframe > tbody > tr {\n",
       "  text-align: right;\n",
       "  white-space: pre-wrap;\n",
       "}\n",
       "</style>\n",
       "<small>shape: (3, 2)</small><table border=\"1\" class=\"dataframe\"><thead><tr><th>ID</th><th>Name</th></tr><tr><td>i64</td><td>str</td></tr></thead><tbody><tr><td>1</td><td>&quot;Alice&quot;</td></tr><tr><td>2</td><td>&quot;Bob&quot;</td></tr><tr><td>3</td><td>&quot;Charlie&quot;</td></tr></tbody></table></div>"
      ],
      "text/plain": [
       "shape: (3, 2)\n",
       "┌─────┬─────────┐\n",
       "│ ID  ┆ Name    │\n",
       "│ --- ┆ ---     │\n",
       "│ i64 ┆ str     │\n",
       "╞═════╪═════════╡\n",
       "│ 1   ┆ Alice   │\n",
       "│ 2   ┆ Bob     │\n",
       "│ 3   ┆ Charlie │\n",
       "└─────┴─────────┘"
      ]
     },
     "execution_count": 6,
     "metadata": {},
     "output_type": "execute_result"
    }
   ],
   "source": [
    "df_polars_list = pl.DataFrame(data_list_pd, schema=[\"ID\", \"Name\"])\n",
    "df_polars_list"
   ]
  },
  {
   "cell_type": "markdown",
   "id": "082a5523-0b14-4183-9360-d4958c30e911",
   "metadata": {},
   "source": [
    "---\n",
    "### reading external data --->"
   ]
  },
  {
   "cell_type": "code",
   "execution_count": 7,
   "id": "b203919d-eca3-4c3d-a298-538992ba9ba0",
   "metadata": {},
   "outputs": [],
   "source": [
    "pd_csv_loaded = pd.read_csv(\"C:\\\\Users\\\\User\\\\Downloads\\\\sales_data.csv\")"
   ]
  },
  {
   "cell_type": "code",
   "execution_count": 8,
   "id": "c52f1804-7352-478c-bfe7-1fbe434cddf5",
   "metadata": {},
   "outputs": [
    {
     "data": {
      "text/html": [
       "<div>\n",
       "<style scoped>\n",
       "    .dataframe tbody tr th:only-of-type {\n",
       "        vertical-align: middle;\n",
       "    }\n",
       "\n",
       "    .dataframe tbody tr th {\n",
       "        vertical-align: top;\n",
       "    }\n",
       "\n",
       "    .dataframe thead th {\n",
       "        text-align: right;\n",
       "    }\n",
       "</style>\n",
       "<table border=\"1\" class=\"dataframe\">\n",
       "  <thead>\n",
       "    <tr style=\"text-align: right;\">\n",
       "      <th></th>\n",
       "      <th>Date</th>\n",
       "      <th>Day</th>\n",
       "      <th>Month</th>\n",
       "      <th>Year</th>\n",
       "      <th>Customer_Age</th>\n",
       "      <th>Age_Group</th>\n",
       "      <th>Customer_Gender</th>\n",
       "      <th>Country</th>\n",
       "      <th>State</th>\n",
       "      <th>Product_Category</th>\n",
       "      <th>Sub_Category</th>\n",
       "      <th>Product</th>\n",
       "      <th>Order_Quantity</th>\n",
       "      <th>Unit_Cost</th>\n",
       "      <th>Unit_Price</th>\n",
       "      <th>Profit</th>\n",
       "      <th>Cost</th>\n",
       "      <th>Revenue</th>\n",
       "    </tr>\n",
       "  </thead>\n",
       "  <tbody>\n",
       "    <tr>\n",
       "      <th>0</th>\n",
       "      <td>2013-11-26</td>\n",
       "      <td>26</td>\n",
       "      <td>November</td>\n",
       "      <td>2013</td>\n",
       "      <td>19</td>\n",
       "      <td>Youth (&lt;25)</td>\n",
       "      <td>M</td>\n",
       "      <td>Canada</td>\n",
       "      <td>British Columbia</td>\n",
       "      <td>Accessories</td>\n",
       "      <td>Bike Racks</td>\n",
       "      <td>Hitch Rack - 4-Bike</td>\n",
       "      <td>8</td>\n",
       "      <td>45</td>\n",
       "      <td>120</td>\n",
       "      <td>590</td>\n",
       "      <td>360</td>\n",
       "      <td>950</td>\n",
       "    </tr>\n",
       "    <tr>\n",
       "      <th>1</th>\n",
       "      <td>2015-11-26</td>\n",
       "      <td>26</td>\n",
       "      <td>November</td>\n",
       "      <td>2015</td>\n",
       "      <td>19</td>\n",
       "      <td>Youth (&lt;25)</td>\n",
       "      <td>M</td>\n",
       "      <td>Canada</td>\n",
       "      <td>British Columbia</td>\n",
       "      <td>Accessories</td>\n",
       "      <td>Bike Racks</td>\n",
       "      <td>Hitch Rack - 4-Bike</td>\n",
       "      <td>8</td>\n",
       "      <td>45</td>\n",
       "      <td>120</td>\n",
       "      <td>590</td>\n",
       "      <td>360</td>\n",
       "      <td>950</td>\n",
       "    </tr>\n",
       "    <tr>\n",
       "      <th>2</th>\n",
       "      <td>2014-03-23</td>\n",
       "      <td>23</td>\n",
       "      <td>March</td>\n",
       "      <td>2014</td>\n",
       "      <td>49</td>\n",
       "      <td>Adults (35-64)</td>\n",
       "      <td>M</td>\n",
       "      <td>Australia</td>\n",
       "      <td>New South Wales</td>\n",
       "      <td>Accessories</td>\n",
       "      <td>Bike Racks</td>\n",
       "      <td>Hitch Rack - 4-Bike</td>\n",
       "      <td>23</td>\n",
       "      <td>45</td>\n",
       "      <td>120</td>\n",
       "      <td>1366</td>\n",
       "      <td>1035</td>\n",
       "      <td>2401</td>\n",
       "    </tr>\n",
       "    <tr>\n",
       "      <th>3</th>\n",
       "      <td>2016-03-23</td>\n",
       "      <td>23</td>\n",
       "      <td>March</td>\n",
       "      <td>2016</td>\n",
       "      <td>49</td>\n",
       "      <td>Adults (35-64)</td>\n",
       "      <td>M</td>\n",
       "      <td>Australia</td>\n",
       "      <td>New South Wales</td>\n",
       "      <td>Accessories</td>\n",
       "      <td>Bike Racks</td>\n",
       "      <td>Hitch Rack - 4-Bike</td>\n",
       "      <td>20</td>\n",
       "      <td>45</td>\n",
       "      <td>120</td>\n",
       "      <td>1188</td>\n",
       "      <td>900</td>\n",
       "      <td>2088</td>\n",
       "    </tr>\n",
       "    <tr>\n",
       "      <th>4</th>\n",
       "      <td>2014-05-15</td>\n",
       "      <td>15</td>\n",
       "      <td>May</td>\n",
       "      <td>2014</td>\n",
       "      <td>47</td>\n",
       "      <td>Adults (35-64)</td>\n",
       "      <td>F</td>\n",
       "      <td>Australia</td>\n",
       "      <td>New South Wales</td>\n",
       "      <td>Accessories</td>\n",
       "      <td>Bike Racks</td>\n",
       "      <td>Hitch Rack - 4-Bike</td>\n",
       "      <td>4</td>\n",
       "      <td>45</td>\n",
       "      <td>120</td>\n",
       "      <td>238</td>\n",
       "      <td>180</td>\n",
       "      <td>418</td>\n",
       "    </tr>\n",
       "    <tr>\n",
       "      <th>...</th>\n",
       "      <td>...</td>\n",
       "      <td>...</td>\n",
       "      <td>...</td>\n",
       "      <td>...</td>\n",
       "      <td>...</td>\n",
       "      <td>...</td>\n",
       "      <td>...</td>\n",
       "      <td>...</td>\n",
       "      <td>...</td>\n",
       "      <td>...</td>\n",
       "      <td>...</td>\n",
       "      <td>...</td>\n",
       "      <td>...</td>\n",
       "      <td>...</td>\n",
       "      <td>...</td>\n",
       "      <td>...</td>\n",
       "      <td>...</td>\n",
       "      <td>...</td>\n",
       "    </tr>\n",
       "    <tr>\n",
       "      <th>113031</th>\n",
       "      <td>2016-04-12</td>\n",
       "      <td>12</td>\n",
       "      <td>April</td>\n",
       "      <td>2016</td>\n",
       "      <td>41</td>\n",
       "      <td>Adults (35-64)</td>\n",
       "      <td>M</td>\n",
       "      <td>United Kingdom</td>\n",
       "      <td>England</td>\n",
       "      <td>Clothing</td>\n",
       "      <td>Vests</td>\n",
       "      <td>Classic Vest, S</td>\n",
       "      <td>3</td>\n",
       "      <td>24</td>\n",
       "      <td>64</td>\n",
       "      <td>112</td>\n",
       "      <td>72</td>\n",
       "      <td>184</td>\n",
       "    </tr>\n",
       "    <tr>\n",
       "      <th>113032</th>\n",
       "      <td>2014-04-02</td>\n",
       "      <td>2</td>\n",
       "      <td>April</td>\n",
       "      <td>2014</td>\n",
       "      <td>18</td>\n",
       "      <td>Youth (&lt;25)</td>\n",
       "      <td>M</td>\n",
       "      <td>Australia</td>\n",
       "      <td>Queensland</td>\n",
       "      <td>Clothing</td>\n",
       "      <td>Vests</td>\n",
       "      <td>Classic Vest, M</td>\n",
       "      <td>22</td>\n",
       "      <td>24</td>\n",
       "      <td>64</td>\n",
       "      <td>655</td>\n",
       "      <td>528</td>\n",
       "      <td>1183</td>\n",
       "    </tr>\n",
       "    <tr>\n",
       "      <th>113033</th>\n",
       "      <td>2016-04-02</td>\n",
       "      <td>2</td>\n",
       "      <td>April</td>\n",
       "      <td>2016</td>\n",
       "      <td>18</td>\n",
       "      <td>Youth (&lt;25)</td>\n",
       "      <td>M</td>\n",
       "      <td>Australia</td>\n",
       "      <td>Queensland</td>\n",
       "      <td>Clothing</td>\n",
       "      <td>Vests</td>\n",
       "      <td>Classic Vest, M</td>\n",
       "      <td>22</td>\n",
       "      <td>24</td>\n",
       "      <td>64</td>\n",
       "      <td>655</td>\n",
       "      <td>528</td>\n",
       "      <td>1183</td>\n",
       "    </tr>\n",
       "    <tr>\n",
       "      <th>113034</th>\n",
       "      <td>2014-03-04</td>\n",
       "      <td>4</td>\n",
       "      <td>March</td>\n",
       "      <td>2014</td>\n",
       "      <td>37</td>\n",
       "      <td>Adults (35-64)</td>\n",
       "      <td>F</td>\n",
       "      <td>France</td>\n",
       "      <td>Seine (Paris)</td>\n",
       "      <td>Clothing</td>\n",
       "      <td>Vests</td>\n",
       "      <td>Classic Vest, L</td>\n",
       "      <td>24</td>\n",
       "      <td>24</td>\n",
       "      <td>64</td>\n",
       "      <td>684</td>\n",
       "      <td>576</td>\n",
       "      <td>1260</td>\n",
       "    </tr>\n",
       "    <tr>\n",
       "      <th>113035</th>\n",
       "      <td>2016-03-04</td>\n",
       "      <td>4</td>\n",
       "      <td>March</td>\n",
       "      <td>2016</td>\n",
       "      <td>37</td>\n",
       "      <td>Adults (35-64)</td>\n",
       "      <td>F</td>\n",
       "      <td>France</td>\n",
       "      <td>Seine (Paris)</td>\n",
       "      <td>Clothing</td>\n",
       "      <td>Vests</td>\n",
       "      <td>Classic Vest, L</td>\n",
       "      <td>23</td>\n",
       "      <td>24</td>\n",
       "      <td>64</td>\n",
       "      <td>655</td>\n",
       "      <td>552</td>\n",
       "      <td>1207</td>\n",
       "    </tr>\n",
       "  </tbody>\n",
       "</table>\n",
       "<p>113036 rows × 18 columns</p>\n",
       "</div>"
      ],
      "text/plain": [
       "              Date  Day     Month  Year  Customer_Age       Age_Group  \\\n",
       "0       2013-11-26   26  November  2013            19     Youth (<25)   \n",
       "1       2015-11-26   26  November  2015            19     Youth (<25)   \n",
       "2       2014-03-23   23     March  2014            49  Adults (35-64)   \n",
       "3       2016-03-23   23     March  2016            49  Adults (35-64)   \n",
       "4       2014-05-15   15       May  2014            47  Adults (35-64)   \n",
       "...            ...  ...       ...   ...           ...             ...   \n",
       "113031  2016-04-12   12     April  2016            41  Adults (35-64)   \n",
       "113032  2014-04-02    2     April  2014            18     Youth (<25)   \n",
       "113033  2016-04-02    2     April  2016            18     Youth (<25)   \n",
       "113034  2014-03-04    4     March  2014            37  Adults (35-64)   \n",
       "113035  2016-03-04    4     March  2016            37  Adults (35-64)   \n",
       "\n",
       "       Customer_Gender         Country             State Product_Category  \\\n",
       "0                    M          Canada  British Columbia      Accessories   \n",
       "1                    M          Canada  British Columbia      Accessories   \n",
       "2                    M       Australia   New South Wales      Accessories   \n",
       "3                    M       Australia   New South Wales      Accessories   \n",
       "4                    F       Australia   New South Wales      Accessories   \n",
       "...                ...             ...               ...              ...   \n",
       "113031               M  United Kingdom           England         Clothing   \n",
       "113032               M       Australia        Queensland         Clothing   \n",
       "113033               M       Australia        Queensland         Clothing   \n",
       "113034               F          France     Seine (Paris)         Clothing   \n",
       "113035               F          France     Seine (Paris)         Clothing   \n",
       "\n",
       "       Sub_Category              Product  Order_Quantity  Unit_Cost  \\\n",
       "0        Bike Racks  Hitch Rack - 4-Bike               8         45   \n",
       "1        Bike Racks  Hitch Rack - 4-Bike               8         45   \n",
       "2        Bike Racks  Hitch Rack - 4-Bike              23         45   \n",
       "3        Bike Racks  Hitch Rack - 4-Bike              20         45   \n",
       "4        Bike Racks  Hitch Rack - 4-Bike               4         45   \n",
       "...             ...                  ...             ...        ...   \n",
       "113031        Vests      Classic Vest, S               3         24   \n",
       "113032        Vests      Classic Vest, M              22         24   \n",
       "113033        Vests      Classic Vest, M              22         24   \n",
       "113034        Vests      Classic Vest, L              24         24   \n",
       "113035        Vests      Classic Vest, L              23         24   \n",
       "\n",
       "        Unit_Price  Profit  Cost  Revenue  \n",
       "0              120     590   360      950  \n",
       "1              120     590   360      950  \n",
       "2              120    1366  1035     2401  \n",
       "3              120    1188   900     2088  \n",
       "4              120     238   180      418  \n",
       "...            ...     ...   ...      ...  \n",
       "113031          64     112    72      184  \n",
       "113032          64     655   528     1183  \n",
       "113033          64     655   528     1183  \n",
       "113034          64     684   576     1260  \n",
       "113035          64     655   552     1207  \n",
       "\n",
       "[113036 rows x 18 columns]"
      ]
     },
     "execution_count": 8,
     "metadata": {},
     "output_type": "execute_result"
    }
   ],
   "source": [
    "pd_csv_loaded"
   ]
  },
  {
   "cell_type": "code",
   "execution_count": 9,
   "id": "c6c2f8c4-c421-4529-837a-9674890767c3",
   "metadata": {},
   "outputs": [],
   "source": [
    "pl_csv_loaded = pl.read_csv(\"C:\\\\Users\\\\User\\\\Downloads\\\\sales_data.csv\")"
   ]
  },
  {
   "cell_type": "code",
   "execution_count": 10,
   "id": "30045754-a94b-4e7c-a9ca-752a496c8b55",
   "metadata": {},
   "outputs": [
    {
     "data": {
      "text/html": [
       "<div><style>\n",
       ".dataframe > thead > tr,\n",
       ".dataframe > tbody > tr {\n",
       "  text-align: right;\n",
       "  white-space: pre-wrap;\n",
       "}\n",
       "</style>\n",
       "<small>shape: (113_036, 18)</small><table border=\"1\" class=\"dataframe\"><thead><tr><th>Date</th><th>Day</th><th>Month</th><th>Year</th><th>Customer_Age</th><th>Age_Group</th><th>Customer_Gender</th><th>Country</th><th>State</th><th>Product_Category</th><th>Sub_Category</th><th>Product</th><th>Order_Quantity</th><th>Unit_Cost</th><th>Unit_Price</th><th>Profit</th><th>Cost</th><th>Revenue</th></tr><tr><td>str</td><td>i64</td><td>str</td><td>i64</td><td>i64</td><td>str</td><td>str</td><td>str</td><td>str</td><td>str</td><td>str</td><td>str</td><td>i64</td><td>i64</td><td>i64</td><td>i64</td><td>i64</td><td>i64</td></tr></thead><tbody><tr><td>&quot;2013-11-26&quot;</td><td>26</td><td>&quot;November&quot;</td><td>2013</td><td>19</td><td>&quot;Youth (&lt;25)&quot;</td><td>&quot;M&quot;</td><td>&quot;Canada&quot;</td><td>&quot;British Columbia&quot;</td><td>&quot;Accessories&quot;</td><td>&quot;Bike Racks&quot;</td><td>&quot;Hitch Rack - 4-Bike&quot;</td><td>8</td><td>45</td><td>120</td><td>590</td><td>360</td><td>950</td></tr><tr><td>&quot;2015-11-26&quot;</td><td>26</td><td>&quot;November&quot;</td><td>2015</td><td>19</td><td>&quot;Youth (&lt;25)&quot;</td><td>&quot;M&quot;</td><td>&quot;Canada&quot;</td><td>&quot;British Columbia&quot;</td><td>&quot;Accessories&quot;</td><td>&quot;Bike Racks&quot;</td><td>&quot;Hitch Rack - 4-Bike&quot;</td><td>8</td><td>45</td><td>120</td><td>590</td><td>360</td><td>950</td></tr><tr><td>&quot;2014-03-23&quot;</td><td>23</td><td>&quot;March&quot;</td><td>2014</td><td>49</td><td>&quot;Adults (35-64)&quot;</td><td>&quot;M&quot;</td><td>&quot;Australia&quot;</td><td>&quot;New South Wales&quot;</td><td>&quot;Accessories&quot;</td><td>&quot;Bike Racks&quot;</td><td>&quot;Hitch Rack - 4-Bike&quot;</td><td>23</td><td>45</td><td>120</td><td>1366</td><td>1035</td><td>2401</td></tr><tr><td>&quot;2016-03-23&quot;</td><td>23</td><td>&quot;March&quot;</td><td>2016</td><td>49</td><td>&quot;Adults (35-64)&quot;</td><td>&quot;M&quot;</td><td>&quot;Australia&quot;</td><td>&quot;New South Wales&quot;</td><td>&quot;Accessories&quot;</td><td>&quot;Bike Racks&quot;</td><td>&quot;Hitch Rack - 4-Bike&quot;</td><td>20</td><td>45</td><td>120</td><td>1188</td><td>900</td><td>2088</td></tr><tr><td>&quot;2014-05-15&quot;</td><td>15</td><td>&quot;May&quot;</td><td>2014</td><td>47</td><td>&quot;Adults (35-64)&quot;</td><td>&quot;F&quot;</td><td>&quot;Australia&quot;</td><td>&quot;New South Wales&quot;</td><td>&quot;Accessories&quot;</td><td>&quot;Bike Racks&quot;</td><td>&quot;Hitch Rack - 4-Bike&quot;</td><td>4</td><td>45</td><td>120</td><td>238</td><td>180</td><td>418</td></tr><tr><td>&hellip;</td><td>&hellip;</td><td>&hellip;</td><td>&hellip;</td><td>&hellip;</td><td>&hellip;</td><td>&hellip;</td><td>&hellip;</td><td>&hellip;</td><td>&hellip;</td><td>&hellip;</td><td>&hellip;</td><td>&hellip;</td><td>&hellip;</td><td>&hellip;</td><td>&hellip;</td><td>&hellip;</td><td>&hellip;</td></tr><tr><td>&quot;2016-04-12&quot;</td><td>12</td><td>&quot;April&quot;</td><td>2016</td><td>41</td><td>&quot;Adults (35-64)&quot;</td><td>&quot;M&quot;</td><td>&quot;United Kingdom&quot;</td><td>&quot;England&quot;</td><td>&quot;Clothing&quot;</td><td>&quot;Vests&quot;</td><td>&quot;Classic Vest, S&quot;</td><td>3</td><td>24</td><td>64</td><td>112</td><td>72</td><td>184</td></tr><tr><td>&quot;2014-04-02&quot;</td><td>2</td><td>&quot;April&quot;</td><td>2014</td><td>18</td><td>&quot;Youth (&lt;25)&quot;</td><td>&quot;M&quot;</td><td>&quot;Australia&quot;</td><td>&quot;Queensland&quot;</td><td>&quot;Clothing&quot;</td><td>&quot;Vests&quot;</td><td>&quot;Classic Vest, M&quot;</td><td>22</td><td>24</td><td>64</td><td>655</td><td>528</td><td>1183</td></tr><tr><td>&quot;2016-04-02&quot;</td><td>2</td><td>&quot;April&quot;</td><td>2016</td><td>18</td><td>&quot;Youth (&lt;25)&quot;</td><td>&quot;M&quot;</td><td>&quot;Australia&quot;</td><td>&quot;Queensland&quot;</td><td>&quot;Clothing&quot;</td><td>&quot;Vests&quot;</td><td>&quot;Classic Vest, M&quot;</td><td>22</td><td>24</td><td>64</td><td>655</td><td>528</td><td>1183</td></tr><tr><td>&quot;2014-03-04&quot;</td><td>4</td><td>&quot;March&quot;</td><td>2014</td><td>37</td><td>&quot;Adults (35-64)&quot;</td><td>&quot;F&quot;</td><td>&quot;France&quot;</td><td>&quot;Seine (Paris)&quot;</td><td>&quot;Clothing&quot;</td><td>&quot;Vests&quot;</td><td>&quot;Classic Vest, L&quot;</td><td>24</td><td>24</td><td>64</td><td>684</td><td>576</td><td>1260</td></tr><tr><td>&quot;2016-03-04&quot;</td><td>4</td><td>&quot;March&quot;</td><td>2016</td><td>37</td><td>&quot;Adults (35-64)&quot;</td><td>&quot;F&quot;</td><td>&quot;France&quot;</td><td>&quot;Seine (Paris)&quot;</td><td>&quot;Clothing&quot;</td><td>&quot;Vests&quot;</td><td>&quot;Classic Vest, L&quot;</td><td>23</td><td>24</td><td>64</td><td>655</td><td>552</td><td>1207</td></tr></tbody></table></div>"
      ],
      "text/plain": [
       "shape: (113_036, 18)\n",
       "┌────────────┬─────┬──────────┬──────┬───┬────────────┬────────┬──────┬─────────┐\n",
       "│ Date       ┆ Day ┆ Month    ┆ Year ┆ … ┆ Unit_Price ┆ Profit ┆ Cost ┆ Revenue │\n",
       "│ ---        ┆ --- ┆ ---      ┆ ---  ┆   ┆ ---        ┆ ---    ┆ ---  ┆ ---     │\n",
       "│ str        ┆ i64 ┆ str      ┆ i64  ┆   ┆ i64        ┆ i64    ┆ i64  ┆ i64     │\n",
       "╞════════════╪═════╪══════════╪══════╪═══╪════════════╪════════╪══════╪═════════╡\n",
       "│ 2013-11-26 ┆ 26  ┆ November ┆ 2013 ┆ … ┆ 120        ┆ 590    ┆ 360  ┆ 950     │\n",
       "│ 2015-11-26 ┆ 26  ┆ November ┆ 2015 ┆ … ┆ 120        ┆ 590    ┆ 360  ┆ 950     │\n",
       "│ 2014-03-23 ┆ 23  ┆ March    ┆ 2014 ┆ … ┆ 120        ┆ 1366   ┆ 1035 ┆ 2401    │\n",
       "│ 2016-03-23 ┆ 23  ┆ March    ┆ 2016 ┆ … ┆ 120        ┆ 1188   ┆ 900  ┆ 2088    │\n",
       "│ 2014-05-15 ┆ 15  ┆ May      ┆ 2014 ┆ … ┆ 120        ┆ 238    ┆ 180  ┆ 418     │\n",
       "│ …          ┆ …   ┆ …        ┆ …    ┆ … ┆ …          ┆ …      ┆ …    ┆ …       │\n",
       "│ 2016-04-12 ┆ 12  ┆ April    ┆ 2016 ┆ … ┆ 64         ┆ 112    ┆ 72   ┆ 184     │\n",
       "│ 2014-04-02 ┆ 2   ┆ April    ┆ 2014 ┆ … ┆ 64         ┆ 655    ┆ 528  ┆ 1183    │\n",
       "│ 2016-04-02 ┆ 2   ┆ April    ┆ 2016 ┆ … ┆ 64         ┆ 655    ┆ 528  ┆ 1183    │\n",
       "│ 2014-03-04 ┆ 4   ┆ March    ┆ 2014 ┆ … ┆ 64         ┆ 684    ┆ 576  ┆ 1260    │\n",
       "│ 2016-03-04 ┆ 4   ┆ March    ┆ 2016 ┆ … ┆ 64         ┆ 655    ┆ 552  ┆ 1207    │\n",
       "└────────────┴─────┴──────────┴──────┴───┴────────────┴────────┴──────┴─────────┘"
      ]
     },
     "execution_count": 10,
     "metadata": {},
     "output_type": "execute_result"
    }
   ],
   "source": [
    "pl_csv_loaded"
   ]
  },
  {
   "cell_type": "code",
   "execution_count": 11,
   "id": "bec39874-c60c-4904-94ee-9e95eca3e30b",
   "metadata": {},
   "outputs": [
    {
     "data": {
      "text/plain": [
       "(113036, 18)"
      ]
     },
     "execution_count": 11,
     "metadata": {},
     "output_type": "execute_result"
    }
   ],
   "source": [
    "pd_csv_loaded.shape"
   ]
  },
  {
   "cell_type": "code",
   "execution_count": 12,
   "id": "27dcd870-dee0-4dc7-a7fd-3b4d4b64e542",
   "metadata": {},
   "outputs": [
    {
     "name": "stdout",
     "output_type": "stream",
     "text": [
      "(113036, 18)\n",
      "Schema([('Date', String), ('Day', Int64), ('Month', String), ('Year', Int64), ('Customer_Age', Int64), ('Age_Group', String), ('Customer_Gender', String), ('Country', String), ('State', String), ('Product_Category', String), ('Sub_Category', String), ('Product', String), ('Order_Quantity', Int64), ('Unit_Cost', Int64), ('Unit_Price', Int64), ('Profit', Int64), ('Cost', Int64), ('Revenue', Int64)])\n"
     ]
    }
   ],
   "source": [
    "print(pl_csv_loaded.shape)\n",
    "print(pl_csv_loaded.schema)"
   ]
  },
  {
   "cell_type": "code",
   "execution_count": 13,
   "id": "6ec9bac1-84e7-42cc-b2c3-5f9c36885204",
   "metadata": {},
   "outputs": [
    {
     "data": {
      "text/html": [
       "<div><style>\n",
       ".dataframe > thead > tr,\n",
       ".dataframe > tbody > tr {\n",
       "  text-align: right;\n",
       "  white-space: pre-wrap;\n",
       "}\n",
       "</style>\n",
       "<small>shape: (3, 18)</small><table border=\"1\" class=\"dataframe\"><thead><tr><th>Date</th><th>Day</th><th>Month</th><th>Year</th><th>Customer_Age</th><th>Age_Group</th><th>Customer_Gender</th><th>Country</th><th>State</th><th>Product_Category</th><th>Sub_Category</th><th>Product</th><th>Order_Quantity</th><th>Unit_Cost</th><th>Unit_Price</th><th>Profit</th><th>Cost</th><th>Revenue</th></tr><tr><td>str</td><td>i64</td><td>str</td><td>i64</td><td>i64</td><td>str</td><td>str</td><td>str</td><td>str</td><td>str</td><td>str</td><td>str</td><td>i64</td><td>i64</td><td>i64</td><td>i64</td><td>i64</td><td>i64</td></tr></thead><tbody><tr><td>&quot;2013-11-26&quot;</td><td>26</td><td>&quot;November&quot;</td><td>2013</td><td>19</td><td>&quot;Youth (&lt;25)&quot;</td><td>&quot;M&quot;</td><td>&quot;Canada&quot;</td><td>&quot;British Columbia&quot;</td><td>&quot;Accessories&quot;</td><td>&quot;Bike Racks&quot;</td><td>&quot;Hitch Rack - 4-Bike&quot;</td><td>8</td><td>45</td><td>120</td><td>590</td><td>360</td><td>950</td></tr><tr><td>&quot;2015-11-26&quot;</td><td>26</td><td>&quot;November&quot;</td><td>2015</td><td>19</td><td>&quot;Youth (&lt;25)&quot;</td><td>&quot;M&quot;</td><td>&quot;Canada&quot;</td><td>&quot;British Columbia&quot;</td><td>&quot;Accessories&quot;</td><td>&quot;Bike Racks&quot;</td><td>&quot;Hitch Rack - 4-Bike&quot;</td><td>8</td><td>45</td><td>120</td><td>590</td><td>360</td><td>950</td></tr><tr><td>&quot;2014-03-23&quot;</td><td>23</td><td>&quot;March&quot;</td><td>2014</td><td>49</td><td>&quot;Adults (35-64)&quot;</td><td>&quot;M&quot;</td><td>&quot;Australia&quot;</td><td>&quot;New South Wales&quot;</td><td>&quot;Accessories&quot;</td><td>&quot;Bike Racks&quot;</td><td>&quot;Hitch Rack - 4-Bike&quot;</td><td>23</td><td>45</td><td>120</td><td>1366</td><td>1035</td><td>2401</td></tr></tbody></table></div>"
      ],
      "text/plain": [
       "shape: (3, 18)\n",
       "┌────────────┬─────┬──────────┬──────┬───┬────────────┬────────┬──────┬─────────┐\n",
       "│ Date       ┆ Day ┆ Month    ┆ Year ┆ … ┆ Unit_Price ┆ Profit ┆ Cost ┆ Revenue │\n",
       "│ ---        ┆ --- ┆ ---      ┆ ---  ┆   ┆ ---        ┆ ---    ┆ ---  ┆ ---     │\n",
       "│ str        ┆ i64 ┆ str      ┆ i64  ┆   ┆ i64        ┆ i64    ┆ i64  ┆ i64     │\n",
       "╞════════════╪═════╪══════════╪══════╪═══╪════════════╪════════╪══════╪═════════╡\n",
       "│ 2013-11-26 ┆ 26  ┆ November ┆ 2013 ┆ … ┆ 120        ┆ 590    ┆ 360  ┆ 950     │\n",
       "│ 2015-11-26 ┆ 26  ┆ November ┆ 2015 ┆ … ┆ 120        ┆ 590    ┆ 360  ┆ 950     │\n",
       "│ 2014-03-23 ┆ 23  ┆ March    ┆ 2014 ┆ … ┆ 120        ┆ 1366   ┆ 1035 ┆ 2401    │\n",
       "└────────────┴─────┴──────────┴──────┴───┴────────────┴────────┴──────┴─────────┘"
      ]
     },
     "execution_count": 13,
     "metadata": {},
     "output_type": "execute_result"
    }
   ],
   "source": [
    "pl_csv_loaded.head(3)"
   ]
  },
  {
   "cell_type": "code",
   "execution_count": 14,
   "id": "902cb722-ddb5-4572-b987-4af52d70b37e",
   "metadata": {},
   "outputs": [
    {
     "data": {
      "text/html": [
       "<div>\n",
       "<style scoped>\n",
       "    .dataframe tbody tr th:only-of-type {\n",
       "        vertical-align: middle;\n",
       "    }\n",
       "\n",
       "    .dataframe tbody tr th {\n",
       "        vertical-align: top;\n",
       "    }\n",
       "\n",
       "    .dataframe thead th {\n",
       "        text-align: right;\n",
       "    }\n",
       "</style>\n",
       "<table border=\"1\" class=\"dataframe\">\n",
       "  <thead>\n",
       "    <tr style=\"text-align: right;\">\n",
       "      <th></th>\n",
       "      <th>Date</th>\n",
       "      <th>Day</th>\n",
       "      <th>Month</th>\n",
       "      <th>Year</th>\n",
       "      <th>Customer_Age</th>\n",
       "      <th>Age_Group</th>\n",
       "      <th>Customer_Gender</th>\n",
       "      <th>Country</th>\n",
       "      <th>State</th>\n",
       "      <th>Product_Category</th>\n",
       "      <th>Sub_Category</th>\n",
       "      <th>Product</th>\n",
       "      <th>Order_Quantity</th>\n",
       "      <th>Unit_Cost</th>\n",
       "      <th>Unit_Price</th>\n",
       "      <th>Profit</th>\n",
       "      <th>Cost</th>\n",
       "      <th>Revenue</th>\n",
       "    </tr>\n",
       "  </thead>\n",
       "  <tbody>\n",
       "    <tr>\n",
       "      <th>0</th>\n",
       "      <td>2013-11-26</td>\n",
       "      <td>26</td>\n",
       "      <td>November</td>\n",
       "      <td>2013</td>\n",
       "      <td>19</td>\n",
       "      <td>Youth (&lt;25)</td>\n",
       "      <td>M</td>\n",
       "      <td>Canada</td>\n",
       "      <td>British Columbia</td>\n",
       "      <td>Accessories</td>\n",
       "      <td>Bike Racks</td>\n",
       "      <td>Hitch Rack - 4-Bike</td>\n",
       "      <td>8</td>\n",
       "      <td>45</td>\n",
       "      <td>120</td>\n",
       "      <td>590</td>\n",
       "      <td>360</td>\n",
       "      <td>950</td>\n",
       "    </tr>\n",
       "    <tr>\n",
       "      <th>1</th>\n",
       "      <td>2015-11-26</td>\n",
       "      <td>26</td>\n",
       "      <td>November</td>\n",
       "      <td>2015</td>\n",
       "      <td>19</td>\n",
       "      <td>Youth (&lt;25)</td>\n",
       "      <td>M</td>\n",
       "      <td>Canada</td>\n",
       "      <td>British Columbia</td>\n",
       "      <td>Accessories</td>\n",
       "      <td>Bike Racks</td>\n",
       "      <td>Hitch Rack - 4-Bike</td>\n",
       "      <td>8</td>\n",
       "      <td>45</td>\n",
       "      <td>120</td>\n",
       "      <td>590</td>\n",
       "      <td>360</td>\n",
       "      <td>950</td>\n",
       "    </tr>\n",
       "    <tr>\n",
       "      <th>2</th>\n",
       "      <td>2014-03-23</td>\n",
       "      <td>23</td>\n",
       "      <td>March</td>\n",
       "      <td>2014</td>\n",
       "      <td>49</td>\n",
       "      <td>Adults (35-64)</td>\n",
       "      <td>M</td>\n",
       "      <td>Australia</td>\n",
       "      <td>New South Wales</td>\n",
       "      <td>Accessories</td>\n",
       "      <td>Bike Racks</td>\n",
       "      <td>Hitch Rack - 4-Bike</td>\n",
       "      <td>23</td>\n",
       "      <td>45</td>\n",
       "      <td>120</td>\n",
       "      <td>1366</td>\n",
       "      <td>1035</td>\n",
       "      <td>2401</td>\n",
       "    </tr>\n",
       "    <tr>\n",
       "      <th>3</th>\n",
       "      <td>2016-03-23</td>\n",
       "      <td>23</td>\n",
       "      <td>March</td>\n",
       "      <td>2016</td>\n",
       "      <td>49</td>\n",
       "      <td>Adults (35-64)</td>\n",
       "      <td>M</td>\n",
       "      <td>Australia</td>\n",
       "      <td>New South Wales</td>\n",
       "      <td>Accessories</td>\n",
       "      <td>Bike Racks</td>\n",
       "      <td>Hitch Rack - 4-Bike</td>\n",
       "      <td>20</td>\n",
       "      <td>45</td>\n",
       "      <td>120</td>\n",
       "      <td>1188</td>\n",
       "      <td>900</td>\n",
       "      <td>2088</td>\n",
       "    </tr>\n",
       "    <tr>\n",
       "      <th>4</th>\n",
       "      <td>2014-05-15</td>\n",
       "      <td>15</td>\n",
       "      <td>May</td>\n",
       "      <td>2014</td>\n",
       "      <td>47</td>\n",
       "      <td>Adults (35-64)</td>\n",
       "      <td>F</td>\n",
       "      <td>Australia</td>\n",
       "      <td>New South Wales</td>\n",
       "      <td>Accessories</td>\n",
       "      <td>Bike Racks</td>\n",
       "      <td>Hitch Rack - 4-Bike</td>\n",
       "      <td>4</td>\n",
       "      <td>45</td>\n",
       "      <td>120</td>\n",
       "      <td>238</td>\n",
       "      <td>180</td>\n",
       "      <td>418</td>\n",
       "    </tr>\n",
       "  </tbody>\n",
       "</table>\n",
       "</div>"
      ],
      "text/plain": [
       "         Date  Day     Month  Year  Customer_Age       Age_Group  \\\n",
       "0  2013-11-26   26  November  2013            19     Youth (<25)   \n",
       "1  2015-11-26   26  November  2015            19     Youth (<25)   \n",
       "2  2014-03-23   23     March  2014            49  Adults (35-64)   \n",
       "3  2016-03-23   23     March  2016            49  Adults (35-64)   \n",
       "4  2014-05-15   15       May  2014            47  Adults (35-64)   \n",
       "\n",
       "  Customer_Gender    Country             State Product_Category Sub_Category  \\\n",
       "0               M     Canada  British Columbia      Accessories   Bike Racks   \n",
       "1               M     Canada  British Columbia      Accessories   Bike Racks   \n",
       "2               M  Australia   New South Wales      Accessories   Bike Racks   \n",
       "3               M  Australia   New South Wales      Accessories   Bike Racks   \n",
       "4               F  Australia   New South Wales      Accessories   Bike Racks   \n",
       "\n",
       "               Product  Order_Quantity  Unit_Cost  Unit_Price  Profit  Cost  \\\n",
       "0  Hitch Rack - 4-Bike               8         45         120     590   360   \n",
       "1  Hitch Rack - 4-Bike               8         45         120     590   360   \n",
       "2  Hitch Rack - 4-Bike              23         45         120    1366  1035   \n",
       "3  Hitch Rack - 4-Bike              20         45         120    1188   900   \n",
       "4  Hitch Rack - 4-Bike               4         45         120     238   180   \n",
       "\n",
       "   Revenue  \n",
       "0      950  \n",
       "1      950  \n",
       "2     2401  \n",
       "3     2088  \n",
       "4      418  "
      ]
     },
     "execution_count": 14,
     "metadata": {},
     "output_type": "execute_result"
    }
   ],
   "source": [
    "pd_csv_loaded.head()"
   ]
  },
  {
   "cell_type": "code",
   "execution_count": 15,
   "id": "ab09d37b-37ac-4a93-b7c1-ea9ee3d7aa9e",
   "metadata": {},
   "outputs": [
    {
     "data": {
      "text/html": [
       "<div><style>\n",
       ".dataframe > thead > tr,\n",
       ".dataframe > tbody > tr {\n",
       "  text-align: right;\n",
       "  white-space: pre-wrap;\n",
       "}\n",
       "</style>\n",
       "<small>shape: (5, 18)</small><table border=\"1\" class=\"dataframe\"><thead><tr><th>Date</th><th>Day</th><th>Month</th><th>Year</th><th>Customer_Age</th><th>Age_Group</th><th>Customer_Gender</th><th>Country</th><th>State</th><th>Product_Category</th><th>Sub_Category</th><th>Product</th><th>Order_Quantity</th><th>Unit_Cost</th><th>Unit_Price</th><th>Profit</th><th>Cost</th><th>Revenue</th></tr><tr><td>str</td><td>i64</td><td>str</td><td>i64</td><td>i64</td><td>str</td><td>str</td><td>str</td><td>str</td><td>str</td><td>str</td><td>str</td><td>i64</td><td>i64</td><td>i64</td><td>i64</td><td>i64</td><td>i64</td></tr></thead><tbody><tr><td>&quot;2016-04-12&quot;</td><td>12</td><td>&quot;April&quot;</td><td>2016</td><td>41</td><td>&quot;Adults (35-64)&quot;</td><td>&quot;M&quot;</td><td>&quot;United Kingdom&quot;</td><td>&quot;England&quot;</td><td>&quot;Clothing&quot;</td><td>&quot;Vests&quot;</td><td>&quot;Classic Vest, S&quot;</td><td>3</td><td>24</td><td>64</td><td>112</td><td>72</td><td>184</td></tr><tr><td>&quot;2014-04-02&quot;</td><td>2</td><td>&quot;April&quot;</td><td>2014</td><td>18</td><td>&quot;Youth (&lt;25)&quot;</td><td>&quot;M&quot;</td><td>&quot;Australia&quot;</td><td>&quot;Queensland&quot;</td><td>&quot;Clothing&quot;</td><td>&quot;Vests&quot;</td><td>&quot;Classic Vest, M&quot;</td><td>22</td><td>24</td><td>64</td><td>655</td><td>528</td><td>1183</td></tr><tr><td>&quot;2016-04-02&quot;</td><td>2</td><td>&quot;April&quot;</td><td>2016</td><td>18</td><td>&quot;Youth (&lt;25)&quot;</td><td>&quot;M&quot;</td><td>&quot;Australia&quot;</td><td>&quot;Queensland&quot;</td><td>&quot;Clothing&quot;</td><td>&quot;Vests&quot;</td><td>&quot;Classic Vest, M&quot;</td><td>22</td><td>24</td><td>64</td><td>655</td><td>528</td><td>1183</td></tr><tr><td>&quot;2014-03-04&quot;</td><td>4</td><td>&quot;March&quot;</td><td>2014</td><td>37</td><td>&quot;Adults (35-64)&quot;</td><td>&quot;F&quot;</td><td>&quot;France&quot;</td><td>&quot;Seine (Paris)&quot;</td><td>&quot;Clothing&quot;</td><td>&quot;Vests&quot;</td><td>&quot;Classic Vest, L&quot;</td><td>24</td><td>24</td><td>64</td><td>684</td><td>576</td><td>1260</td></tr><tr><td>&quot;2016-03-04&quot;</td><td>4</td><td>&quot;March&quot;</td><td>2016</td><td>37</td><td>&quot;Adults (35-64)&quot;</td><td>&quot;F&quot;</td><td>&quot;France&quot;</td><td>&quot;Seine (Paris)&quot;</td><td>&quot;Clothing&quot;</td><td>&quot;Vests&quot;</td><td>&quot;Classic Vest, L&quot;</td><td>23</td><td>24</td><td>64</td><td>655</td><td>552</td><td>1207</td></tr></tbody></table></div>"
      ],
      "text/plain": [
       "shape: (5, 18)\n",
       "┌────────────┬─────┬───────┬──────┬───┬────────────┬────────┬──────┬─────────┐\n",
       "│ Date       ┆ Day ┆ Month ┆ Year ┆ … ┆ Unit_Price ┆ Profit ┆ Cost ┆ Revenue │\n",
       "│ ---        ┆ --- ┆ ---   ┆ ---  ┆   ┆ ---        ┆ ---    ┆ ---  ┆ ---     │\n",
       "│ str        ┆ i64 ┆ str   ┆ i64  ┆   ┆ i64        ┆ i64    ┆ i64  ┆ i64     │\n",
       "╞════════════╪═════╪═══════╪══════╪═══╪════════════╪════════╪══════╪═════════╡\n",
       "│ 2016-04-12 ┆ 12  ┆ April ┆ 2016 ┆ … ┆ 64         ┆ 112    ┆ 72   ┆ 184     │\n",
       "│ 2014-04-02 ┆ 2   ┆ April ┆ 2014 ┆ … ┆ 64         ┆ 655    ┆ 528  ┆ 1183    │\n",
       "│ 2016-04-02 ┆ 2   ┆ April ┆ 2016 ┆ … ┆ 64         ┆ 655    ┆ 528  ┆ 1183    │\n",
       "│ 2014-03-04 ┆ 4   ┆ March ┆ 2014 ┆ … ┆ 64         ┆ 684    ┆ 576  ┆ 1260    │\n",
       "│ 2016-03-04 ┆ 4   ┆ March ┆ 2016 ┆ … ┆ 64         ┆ 655    ┆ 552  ┆ 1207    │\n",
       "└────────────┴─────┴───────┴──────┴───┴────────────┴────────┴──────┴─────────┘"
      ]
     },
     "execution_count": 15,
     "metadata": {},
     "output_type": "execute_result"
    }
   ],
   "source": [
    "pl_csv_loaded.tail()"
   ]
  },
  {
   "cell_type": "code",
   "execution_count": 16,
   "id": "4d58f026-9d57-49c8-9e49-5b20ccd1c6cf",
   "metadata": {},
   "outputs": [
    {
     "data": {
      "text/html": [
       "<div>\n",
       "<style scoped>\n",
       "    .dataframe tbody tr th:only-of-type {\n",
       "        vertical-align: middle;\n",
       "    }\n",
       "\n",
       "    .dataframe tbody tr th {\n",
       "        vertical-align: top;\n",
       "    }\n",
       "\n",
       "    .dataframe thead th {\n",
       "        text-align: right;\n",
       "    }\n",
       "</style>\n",
       "<table border=\"1\" class=\"dataframe\">\n",
       "  <thead>\n",
       "    <tr style=\"text-align: right;\">\n",
       "      <th></th>\n",
       "      <th>Day</th>\n",
       "      <th>Year</th>\n",
       "      <th>Customer_Age</th>\n",
       "      <th>Order_Quantity</th>\n",
       "      <th>Unit_Cost</th>\n",
       "      <th>Unit_Price</th>\n",
       "      <th>Profit</th>\n",
       "      <th>Cost</th>\n",
       "      <th>Revenue</th>\n",
       "    </tr>\n",
       "  </thead>\n",
       "  <tbody>\n",
       "    <tr>\n",
       "      <th>count</th>\n",
       "      <td>113036.000000</td>\n",
       "      <td>113036.000000</td>\n",
       "      <td>113036.000000</td>\n",
       "      <td>113036.000000</td>\n",
       "      <td>113036.000000</td>\n",
       "      <td>113036.000000</td>\n",
       "      <td>113036.000000</td>\n",
       "      <td>113036.000000</td>\n",
       "      <td>113036.000000</td>\n",
       "    </tr>\n",
       "    <tr>\n",
       "      <th>mean</th>\n",
       "      <td>15.665753</td>\n",
       "      <td>2014.401739</td>\n",
       "      <td>35.919212</td>\n",
       "      <td>11.901660</td>\n",
       "      <td>267.296366</td>\n",
       "      <td>452.938427</td>\n",
       "      <td>285.051665</td>\n",
       "      <td>469.318695</td>\n",
       "      <td>754.370360</td>\n",
       "    </tr>\n",
       "    <tr>\n",
       "      <th>std</th>\n",
       "      <td>8.781567</td>\n",
       "      <td>1.272510</td>\n",
       "      <td>11.021936</td>\n",
       "      <td>9.561857</td>\n",
       "      <td>549.835483</td>\n",
       "      <td>922.071219</td>\n",
       "      <td>453.887443</td>\n",
       "      <td>884.866118</td>\n",
       "      <td>1309.094674</td>\n",
       "    </tr>\n",
       "    <tr>\n",
       "      <th>min</th>\n",
       "      <td>1.000000</td>\n",
       "      <td>2011.000000</td>\n",
       "      <td>17.000000</td>\n",
       "      <td>1.000000</td>\n",
       "      <td>1.000000</td>\n",
       "      <td>2.000000</td>\n",
       "      <td>-30.000000</td>\n",
       "      <td>1.000000</td>\n",
       "      <td>2.000000</td>\n",
       "    </tr>\n",
       "    <tr>\n",
       "      <th>25%</th>\n",
       "      <td>8.000000</td>\n",
       "      <td>2013.000000</td>\n",
       "      <td>28.000000</td>\n",
       "      <td>2.000000</td>\n",
       "      <td>2.000000</td>\n",
       "      <td>5.000000</td>\n",
       "      <td>29.000000</td>\n",
       "      <td>28.000000</td>\n",
       "      <td>63.000000</td>\n",
       "    </tr>\n",
       "    <tr>\n",
       "      <th>50%</th>\n",
       "      <td>16.000000</td>\n",
       "      <td>2014.000000</td>\n",
       "      <td>35.000000</td>\n",
       "      <td>10.000000</td>\n",
       "      <td>9.000000</td>\n",
       "      <td>24.000000</td>\n",
       "      <td>101.000000</td>\n",
       "      <td>108.000000</td>\n",
       "      <td>223.000000</td>\n",
       "    </tr>\n",
       "    <tr>\n",
       "      <th>75%</th>\n",
       "      <td>23.000000</td>\n",
       "      <td>2016.000000</td>\n",
       "      <td>43.000000</td>\n",
       "      <td>20.000000</td>\n",
       "      <td>42.000000</td>\n",
       "      <td>70.000000</td>\n",
       "      <td>358.000000</td>\n",
       "      <td>432.000000</td>\n",
       "      <td>800.000000</td>\n",
       "    </tr>\n",
       "    <tr>\n",
       "      <th>max</th>\n",
       "      <td>31.000000</td>\n",
       "      <td>2016.000000</td>\n",
       "      <td>87.000000</td>\n",
       "      <td>32.000000</td>\n",
       "      <td>2171.000000</td>\n",
       "      <td>3578.000000</td>\n",
       "      <td>15096.000000</td>\n",
       "      <td>42978.000000</td>\n",
       "      <td>58074.000000</td>\n",
       "    </tr>\n",
       "  </tbody>\n",
       "</table>\n",
       "</div>"
      ],
      "text/plain": [
       "                 Day           Year   Customer_Age  Order_Quantity  \\\n",
       "count  113036.000000  113036.000000  113036.000000   113036.000000   \n",
       "mean       15.665753    2014.401739      35.919212       11.901660   \n",
       "std         8.781567       1.272510      11.021936        9.561857   \n",
       "min         1.000000    2011.000000      17.000000        1.000000   \n",
       "25%         8.000000    2013.000000      28.000000        2.000000   \n",
       "50%        16.000000    2014.000000      35.000000       10.000000   \n",
       "75%        23.000000    2016.000000      43.000000       20.000000   \n",
       "max        31.000000    2016.000000      87.000000       32.000000   \n",
       "\n",
       "           Unit_Cost     Unit_Price         Profit           Cost  \\\n",
       "count  113036.000000  113036.000000  113036.000000  113036.000000   \n",
       "mean      267.296366     452.938427     285.051665     469.318695   \n",
       "std       549.835483     922.071219     453.887443     884.866118   \n",
       "min         1.000000       2.000000     -30.000000       1.000000   \n",
       "25%         2.000000       5.000000      29.000000      28.000000   \n",
       "50%         9.000000      24.000000     101.000000     108.000000   \n",
       "75%        42.000000      70.000000     358.000000     432.000000   \n",
       "max      2171.000000    3578.000000   15096.000000   42978.000000   \n",
       "\n",
       "             Revenue  \n",
       "count  113036.000000  \n",
       "mean      754.370360  \n",
       "std      1309.094674  \n",
       "min         2.000000  \n",
       "25%        63.000000  \n",
       "50%       223.000000  \n",
       "75%       800.000000  \n",
       "max     58074.000000  "
      ]
     },
     "execution_count": 16,
     "metadata": {},
     "output_type": "execute_result"
    }
   ],
   "source": [
    "pd_csv_loaded.describe()"
   ]
  },
  {
   "cell_type": "code",
   "execution_count": 17,
   "id": "219203e4-ade6-4642-be4f-e151219baf1d",
   "metadata": {},
   "outputs": [
    {
     "data": {
      "text/html": [
       "<div><style>\n",
       ".dataframe > thead > tr,\n",
       ".dataframe > tbody > tr {\n",
       "  text-align: right;\n",
       "  white-space: pre-wrap;\n",
       "}\n",
       "</style>\n",
       "<small>shape: (9, 19)</small><table border=\"1\" class=\"dataframe\"><thead><tr><th>statistic</th><th>Date</th><th>Day</th><th>Month</th><th>Year</th><th>Customer_Age</th><th>Age_Group</th><th>Customer_Gender</th><th>Country</th><th>State</th><th>Product_Category</th><th>Sub_Category</th><th>Product</th><th>Order_Quantity</th><th>Unit_Cost</th><th>Unit_Price</th><th>Profit</th><th>Cost</th><th>Revenue</th></tr><tr><td>str</td><td>str</td><td>f64</td><td>str</td><td>f64</td><td>f64</td><td>str</td><td>str</td><td>str</td><td>str</td><td>str</td><td>str</td><td>str</td><td>f64</td><td>f64</td><td>f64</td><td>f64</td><td>f64</td><td>f64</td></tr></thead><tbody><tr><td>&quot;count&quot;</td><td>&quot;113036&quot;</td><td>113036.0</td><td>&quot;113036&quot;</td><td>113036.0</td><td>113036.0</td><td>&quot;113036&quot;</td><td>&quot;113036&quot;</td><td>&quot;113036&quot;</td><td>&quot;113036&quot;</td><td>&quot;113036&quot;</td><td>&quot;113036&quot;</td><td>&quot;113036&quot;</td><td>113036.0</td><td>113036.0</td><td>113036.0</td><td>113036.0</td><td>113036.0</td><td>113036.0</td></tr><tr><td>&quot;null_count&quot;</td><td>&quot;0&quot;</td><td>0.0</td><td>&quot;0&quot;</td><td>0.0</td><td>0.0</td><td>&quot;0&quot;</td><td>&quot;0&quot;</td><td>&quot;0&quot;</td><td>&quot;0&quot;</td><td>&quot;0&quot;</td><td>&quot;0&quot;</td><td>&quot;0&quot;</td><td>0.0</td><td>0.0</td><td>0.0</td><td>0.0</td><td>0.0</td><td>0.0</td></tr><tr><td>&quot;mean&quot;</td><td>null</td><td>15.665753</td><td>null</td><td>2014.401739</td><td>35.919212</td><td>null</td><td>null</td><td>null</td><td>null</td><td>null</td><td>null</td><td>null</td><td>11.90166</td><td>267.296366</td><td>452.938427</td><td>285.051665</td><td>469.318695</td><td>754.37036</td></tr><tr><td>&quot;std&quot;</td><td>null</td><td>8.781567</td><td>null</td><td>1.27251</td><td>11.021936</td><td>null</td><td>null</td><td>null</td><td>null</td><td>null</td><td>null</td><td>null</td><td>9.561857</td><td>549.835483</td><td>922.071219</td><td>453.887443</td><td>884.866118</td><td>1309.094674</td></tr><tr><td>&quot;min&quot;</td><td>&quot;2011-01-01&quot;</td><td>1.0</td><td>&quot;April&quot;</td><td>2011.0</td><td>17.0</td><td>&quot;Adults (35-64)&quot;</td><td>&quot;F&quot;</td><td>&quot;Australia&quot;</td><td>&quot;Alabama&quot;</td><td>&quot;Accessories&quot;</td><td>&quot;Bike Racks&quot;</td><td>&quot;AWC Logo Cap&quot;</td><td>1.0</td><td>1.0</td><td>2.0</td><td>-30.0</td><td>1.0</td><td>2.0</td></tr><tr><td>&quot;25%&quot;</td><td>null</td><td>8.0</td><td>null</td><td>2013.0</td><td>28.0</td><td>null</td><td>null</td><td>null</td><td>null</td><td>null</td><td>null</td><td>null</td><td>2.0</td><td>2.0</td><td>5.0</td><td>29.0</td><td>28.0</td><td>63.0</td></tr><tr><td>&quot;50%&quot;</td><td>null</td><td>16.0</td><td>null</td><td>2014.0</td><td>35.0</td><td>null</td><td>null</td><td>null</td><td>null</td><td>null</td><td>null</td><td>null</td><td>10.0</td><td>9.0</td><td>24.0</td><td>101.0</td><td>108.0</td><td>223.0</td></tr><tr><td>&quot;75%&quot;</td><td>null</td><td>23.0</td><td>null</td><td>2016.0</td><td>43.0</td><td>null</td><td>null</td><td>null</td><td>null</td><td>null</td><td>null</td><td>null</td><td>20.0</td><td>42.0</td><td>70.0</td><td>358.0</td><td>432.0</td><td>800.0</td></tr><tr><td>&quot;max&quot;</td><td>&quot;2016-07-31&quot;</td><td>31.0</td><td>&quot;September&quot;</td><td>2016.0</td><td>87.0</td><td>&quot;Youth (&lt;25)&quot;</td><td>&quot;M&quot;</td><td>&quot;United States&quot;</td><td>&quot;Yveline&quot;</td><td>&quot;Clothing&quot;</td><td>&quot;Vests&quot;</td><td>&quot;Women&#x27;s Mountain Shorts, S&quot;</td><td>32.0</td><td>2171.0</td><td>3578.0</td><td>15096.0</td><td>42978.0</td><td>58074.0</td></tr></tbody></table></div>"
      ],
      "text/plain": [
       "shape: (9, 19)\n",
       "┌───────────┬───────────┬───────────┬───────────┬───┬───────────┬───────────┬───────────┬──────────┐\n",
       "│ statistic ┆ Date      ┆ Day       ┆ Month     ┆ … ┆ Unit_Pric ┆ Profit    ┆ Cost      ┆ Revenue  │\n",
       "│ ---       ┆ ---       ┆ ---       ┆ ---       ┆   ┆ e         ┆ ---       ┆ ---       ┆ ---      │\n",
       "│ str       ┆ str       ┆ f64       ┆ str       ┆   ┆ ---       ┆ f64       ┆ f64       ┆ f64      │\n",
       "│           ┆           ┆           ┆           ┆   ┆ f64       ┆           ┆           ┆          │\n",
       "╞═══════════╪═══════════╪═══════════╪═══════════╪═══╪═══════════╪═══════════╪═══════════╪══════════╡\n",
       "│ count     ┆ 113036    ┆ 113036.0  ┆ 113036    ┆ … ┆ 113036.0  ┆ 113036.0  ┆ 113036.0  ┆ 113036.0 │\n",
       "│ null_coun ┆ 0         ┆ 0.0       ┆ 0         ┆ … ┆ 0.0       ┆ 0.0       ┆ 0.0       ┆ 0.0      │\n",
       "│ t         ┆           ┆           ┆           ┆   ┆           ┆           ┆           ┆          │\n",
       "│ mean      ┆ null      ┆ 15.665753 ┆ null      ┆ … ┆ 452.93842 ┆ 285.05166 ┆ 469.31869 ┆ 754.3703 │\n",
       "│           ┆           ┆           ┆           ┆   ┆ 7         ┆ 5         ┆ 5         ┆ 6        │\n",
       "│ std       ┆ null      ┆ 8.781567  ┆ null      ┆ … ┆ 922.07121 ┆ 453.88744 ┆ 884.86611 ┆ 1309.094 │\n",
       "│           ┆           ┆           ┆           ┆   ┆ 9         ┆ 3         ┆ 8         ┆ 674      │\n",
       "│ min       ┆ 2011-01-0 ┆ 1.0       ┆ April     ┆ … ┆ 2.0       ┆ -30.0     ┆ 1.0       ┆ 2.0      │\n",
       "│           ┆ 1         ┆           ┆           ┆   ┆           ┆           ┆           ┆          │\n",
       "│ 25%       ┆ null      ┆ 8.0       ┆ null      ┆ … ┆ 5.0       ┆ 29.0      ┆ 28.0      ┆ 63.0     │\n",
       "│ 50%       ┆ null      ┆ 16.0      ┆ null      ┆ … ┆ 24.0      ┆ 101.0     ┆ 108.0     ┆ 223.0    │\n",
       "│ 75%       ┆ null      ┆ 23.0      ┆ null      ┆ … ┆ 70.0      ┆ 358.0     ┆ 432.0     ┆ 800.0    │\n",
       "│ max       ┆ 2016-07-3 ┆ 31.0      ┆ September ┆ … ┆ 3578.0    ┆ 15096.0   ┆ 42978.0   ┆ 58074.0  │\n",
       "│           ┆ 1         ┆           ┆           ┆   ┆           ┆           ┆           ┆          │\n",
       "└───────────┴───────────┴───────────┴───────────┴───┴───────────┴───────────┴───────────┴──────────┘"
      ]
     },
     "execution_count": 17,
     "metadata": {},
     "output_type": "execute_result"
    }
   ],
   "source": [
    "pl_csv_loaded.describe()"
   ]
  },
  {
   "cell_type": "code",
   "execution_count": 18,
   "id": "d156d97b-bf14-447a-a69a-fe48e10a0d07",
   "metadata": {},
   "outputs": [
    {
     "name": "stdout",
     "output_type": "stream",
     "text": [
      "<class 'pandas.core.frame.DataFrame'>\n",
      "RangeIndex: 113036 entries, 0 to 113035\n",
      "Data columns (total 18 columns):\n",
      " #   Column            Non-Null Count   Dtype \n",
      "---  ------            --------------   ----- \n",
      " 0   Date              113036 non-null  object\n",
      " 1   Day               113036 non-null  int64 \n",
      " 2   Month             113036 non-null  object\n",
      " 3   Year              113036 non-null  int64 \n",
      " 4   Customer_Age      113036 non-null  int64 \n",
      " 5   Age_Group         113036 non-null  object\n",
      " 6   Customer_Gender   113036 non-null  object\n",
      " 7   Country           113036 non-null  object\n",
      " 8   State             113036 non-null  object\n",
      " 9   Product_Category  113036 non-null  object\n",
      " 10  Sub_Category      113036 non-null  object\n",
      " 11  Product           113036 non-null  object\n",
      " 12  Order_Quantity    113036 non-null  int64 \n",
      " 13  Unit_Cost         113036 non-null  int64 \n",
      " 14  Unit_Price        113036 non-null  int64 \n",
      " 15  Profit            113036 non-null  int64 \n",
      " 16  Cost              113036 non-null  int64 \n",
      " 17  Revenue           113036 non-null  int64 \n",
      "dtypes: int64(9), object(9)\n",
      "memory usage: 15.5+ MB\n"
     ]
    }
   ],
   "source": [
    "pd_csv_loaded.info()"
   ]
  },
  {
   "cell_type": "code",
   "execution_count": 19,
   "id": "24244a3a-f247-4d75-a30f-922b39a5d41d",
   "metadata": {},
   "outputs": [
    {
     "name": "stdout",
     "output_type": "stream",
     "text": [
      "<class 'pandas.core.frame.DataFrame'>\n",
      "RangeIndex: 113036 entries, 0 to 113035\n",
      "Columns: 18 entries, Date to Revenue\n",
      "dtypes: int64(9), object(9)\n",
      "memory usage: 15.5+ MB\n"
     ]
    }
   ],
   "source": [
    "pd_csv_loaded.info(verbose=False)"
   ]
  },
  {
   "cell_type": "code",
   "execution_count": 20,
   "id": "a73fef1e-7c89-432b-812d-44f4c82ca6d6",
   "metadata": {},
   "outputs": [
    {
     "data": {
      "text/plain": [
       "Date                         2015-11-26\n",
       "Day                                  26\n",
       "Month                          November\n",
       "Year                               2015\n",
       "Customer_Age                         19\n",
       "Age_Group                   Youth (<25)\n",
       "Customer_Gender                       M\n",
       "Country                          Canada\n",
       "State                  British Columbia\n",
       "Product_Category            Accessories\n",
       "Sub_Category                 Bike Racks\n",
       "Product             Hitch Rack - 4-Bike\n",
       "Order_Quantity                        8\n",
       "Unit_Cost                            45\n",
       "Unit_Price                          120\n",
       "Profit                              590\n",
       "Cost                                360\n",
       "Revenue                             950\n",
       "Name: 1, dtype: object"
      ]
     },
     "execution_count": 20,
     "metadata": {},
     "output_type": "execute_result"
    }
   ],
   "source": [
    "pd_csv_loaded.loc[1]"
   ]
  },
  {
   "cell_type": "code",
   "execution_count": 21,
   "id": "5e607e74-9075-4c3e-83f5-1a00a2c8f74c",
   "metadata": {},
   "outputs": [
    {
     "data": {
      "text/plain": [
       "Date                         2015-11-26\n",
       "Day                                  26\n",
       "Month                          November\n",
       "Year                               2015\n",
       "Customer_Age                         19\n",
       "Age_Group                   Youth (<25)\n",
       "Customer_Gender                       M\n",
       "Country                          Canada\n",
       "State                  British Columbia\n",
       "Product_Category            Accessories\n",
       "Sub_Category                 Bike Racks\n",
       "Product             Hitch Rack - 4-Bike\n",
       "Order_Quantity                        8\n",
       "Unit_Cost                            45\n",
       "Unit_Price                          120\n",
       "Profit                              590\n",
       "Cost                                360\n",
       "Revenue                             950\n",
       "Name: 1, dtype: object"
      ]
     },
     "execution_count": 21,
     "metadata": {},
     "output_type": "execute_result"
    }
   ],
   "source": [
    "pd_csv_loaded.iloc[1]"
   ]
  },
  {
   "cell_type": "markdown",
   "id": "40757805-1419-44cf-ac23-86b5491ba3fd",
   "metadata": {},
   "source": [
    "---\n",
    "### series --->"
   ]
  },
  {
   "cell_type": "code",
   "execution_count": 22,
   "id": "b9a41158-1e21-4a5b-be51-a94047b93208",
   "metadata": {},
   "outputs": [
    {
     "name": "stdout",
     "output_type": "stream",
     "text": [
      "<class 'pandas.core.series.Series'>\n",
      "0    1\n",
      "1    2\n",
      "2    3\n",
      "3    4\n",
      "4    5\n",
      "dtype: int64\n"
     ]
    }
   ],
   "source": [
    "simple_list = [1, 2, 3, 4, 5]\n",
    "s_pandas = pd.Series(simple_list)\n",
    "print(type(s_pandas))\n",
    "print(s_pandas)"
   ]
  },
  {
   "cell_type": "code",
   "execution_count": 23,
   "id": "5f2a68f4-ae8b-47e5-b17f-aad63cb03e0b",
   "metadata": {},
   "outputs": [
    {
     "name": "stdout",
     "output_type": "stream",
     "text": [
      "shape: (5,)\n",
      "Series: 'example_series' [i64]\n",
      "[\n",
      "\t1\n",
      "\t2\n",
      "\t3\n",
      "\t4\n",
      "\t5\n",
      "]\n"
     ]
    }
   ],
   "source": [
    "s_polars = pl.Series(\"example_series\", simple_list)\n",
    "print(s_polars)"
   ]
  },
  {
   "cell_type": "code",
   "execution_count": 24,
   "id": "72c56220-f8a1-45f5-82c3-f537abb0ce9a",
   "metadata": {},
   "outputs": [
    {
     "data": {
      "text/plain": [
       "1"
      ]
     },
     "execution_count": 24,
     "metadata": {},
     "output_type": "execute_result"
    }
   ],
   "source": [
    "s_pandas[0]"
   ]
  },
  {
   "cell_type": "code",
   "execution_count": 25,
   "id": "ae302472-13b6-4244-be1c-d119e608556f",
   "metadata": {},
   "outputs": [
    {
     "data": {
      "text/plain": [
       "1    2\n",
       "2    3\n",
       "3    4\n",
       "dtype: int64"
      ]
     },
     "execution_count": 25,
     "metadata": {},
     "output_type": "execute_result"
    }
   ],
   "source": [
    "s_pandas[1:4]"
   ]
  },
  {
   "cell_type": "code",
   "execution_count": 26,
   "id": "15e552d1-3acb-4bf2-ad10-5375106b6a53",
   "metadata": {},
   "outputs": [
    {
     "data": {
      "text/plain": [
       "5"
      ]
     },
     "execution_count": 26,
     "metadata": {},
     "output_type": "execute_result"
    }
   ],
   "source": [
    "s_polars[4]"
   ]
  },
  {
   "cell_type": "code",
   "execution_count": 27,
   "id": "bba13f78-82cc-4b1e-a8cb-7bac8a8892e0",
   "metadata": {},
   "outputs": [
    {
     "data": {
      "text/html": [
       "<div><style>\n",
       ".dataframe > thead > tr,\n",
       ".dataframe > tbody > tr {\n",
       "  text-align: right;\n",
       "  white-space: pre-wrap;\n",
       "}\n",
       "</style>\n",
       "<small>shape: (3,)</small><table border=\"1\" class=\"dataframe\"><thead><tr><th>example_series</th></tr><tr><td>i64</td></tr></thead><tbody><tr><td>2</td></tr><tr><td>3</td></tr><tr><td>4</td></tr></tbody></table></div>"
      ],
      "text/plain": [
       "shape: (3,)\n",
       "Series: 'example_series' [i64]\n",
       "[\n",
       "\t2\n",
       "\t3\n",
       "\t4\n",
       "]"
      ]
     },
     "execution_count": 27,
     "metadata": {},
     "output_type": "execute_result"
    }
   ],
   "source": [
    "s_polars.slice(1, 3)"
   ]
  },
  {
   "cell_type": "markdown",
   "id": "923197ac-09b3-4ae3-8bc9-1de1aa8e7386",
   "metadata": {},
   "source": [
    "#### Accessing data attributes"
   ]
  },
  {
   "cell_type": "code",
   "execution_count": 28,
   "id": "f7839269-3330-4ede-a07d-be241476cfd7",
   "metadata": {},
   "outputs": [
    {
     "data": {
      "text/plain": [
       "dtype('int64')"
      ]
     },
     "execution_count": 28,
     "metadata": {},
     "output_type": "execute_result"
    }
   ],
   "source": [
    "s_pandas.dtype"
   ]
  },
  {
   "cell_type": "code",
   "execution_count": 29,
   "id": "36365900-ed1c-4b54-b9d8-12af387d4c5f",
   "metadata": {},
   "outputs": [
    {
     "data": {
      "text/plain": [
       "(5,)"
      ]
     },
     "execution_count": 29,
     "metadata": {},
     "output_type": "execute_result"
    }
   ],
   "source": [
    "s_pandas.shape"
   ]
  },
  {
   "cell_type": "code",
   "execution_count": 30,
   "id": "0cf107d2-e988-4a8f-90d2-618bac0aa03e",
   "metadata": {},
   "outputs": [],
   "source": [
    "s_pandas.name"
   ]
  },
  {
   "cell_type": "code",
   "execution_count": 31,
   "id": "1358e6d7-bfb5-4513-b0a6-673407740f11",
   "metadata": {},
   "outputs": [
    {
     "data": {
      "text/plain": [
       "Int64"
      ]
     },
     "execution_count": 31,
     "metadata": {},
     "output_type": "execute_result"
    }
   ],
   "source": [
    "s_polars.dtype"
   ]
  },
  {
   "cell_type": "code",
   "execution_count": 32,
   "id": "4fe7d240-18b7-49c6-b091-ac65b00267c7",
   "metadata": {},
   "outputs": [
    {
     "data": {
      "text/plain": [
       "5"
      ]
     },
     "execution_count": 32,
     "metadata": {},
     "output_type": "execute_result"
    }
   ],
   "source": [
    "s_polars.len()"
   ]
  },
  {
   "cell_type": "code",
   "execution_count": 33,
   "id": "4819c4b2-ad08-4e20-9cb3-8ebf06388a51",
   "metadata": {},
   "outputs": [
    {
     "data": {
      "text/plain": [
       "polars.series.series.Series"
      ]
     },
     "execution_count": 33,
     "metadata": {},
     "output_type": "execute_result"
    }
   ],
   "source": [
    "type(s_polars)"
   ]
  },
  {
   "cell_type": "code",
   "execution_count": 34,
   "id": "dbfec098-3d5b-49af-9cf2-979854186ada",
   "metadata": {},
   "outputs": [
    {
     "data": {
      "text/plain": [
       "'example_series'"
      ]
     },
     "execution_count": 34,
     "metadata": {},
     "output_type": "execute_result"
    }
   ],
   "source": [
    "s_polars.name"
   ]
  },
  {
   "cell_type": "code",
   "execution_count": 35,
   "id": "2b5df737-0520-4f7c-a772-75e35a407205",
   "metadata": {},
   "outputs": [
    {
     "data": {
      "text/plain": [
       "15"
      ]
     },
     "execution_count": 35,
     "metadata": {},
     "output_type": "execute_result"
    }
   ],
   "source": [
    "s_pandas.sum()"
   ]
  },
  {
   "cell_type": "code",
   "execution_count": 36,
   "id": "c1e04de1-84e1-4caa-9749-b1b98d06978f",
   "metadata": {},
   "outputs": [
    {
     "data": {
      "text/plain": [
       "3.0"
      ]
     },
     "execution_count": 36,
     "metadata": {},
     "output_type": "execute_result"
    }
   ],
   "source": [
    "s_pandas.mean()"
   ]
  },
  {
   "cell_type": "code",
   "execution_count": 37,
   "id": "0af30c91-add7-4627-97ca-9396fac7262b",
   "metadata": {},
   "outputs": [
    {
     "data": {
      "text/plain": [
       "array([1, 2, 3, 4, 5], dtype=int64)"
      ]
     },
     "execution_count": 37,
     "metadata": {},
     "output_type": "execute_result"
    }
   ],
   "source": [
    "s_pandas.unique()"
   ]
  },
  {
   "cell_type": "markdown",
   "id": "59d2b2a9-8f80-41dd-8936-91fe39f2b60d",
   "metadata": {},
   "source": [
    "---\n",
    "### dataframe operations --->"
   ]
  },
  {
   "cell_type": "code",
   "execution_count": 38,
   "id": "0665c430-4347-4df1-86ef-64918694d08b",
   "metadata": {},
   "outputs": [],
   "source": [
    "sales_data_pd = pd.read_csv(\"C:\\\\Users\\\\User\\\\Downloads\\\\sales_data.csv\")"
   ]
  },
  {
   "cell_type": "code",
   "execution_count": 39,
   "id": "b048dc54-5b50-4f68-9188-5f1a931f2880",
   "metadata": {},
   "outputs": [],
   "source": [
    "sales_data_pl = pl.read_csv(\"C:\\\\Users\\\\User\\\\Downloads\\\\sales_data.csv\")"
   ]
  },
  {
   "cell_type": "code",
   "execution_count": 40,
   "id": "f7186040-a6ca-4567-982e-fe894dc59702",
   "metadata": {},
   "outputs": [],
   "source": [
    "sales_data_pd = sales_data_pd.set_index(\"Month\")\n",
    "# sales_data_pd.reset_index()"
   ]
  },
  {
   "cell_type": "code",
   "execution_count": 41,
   "id": "723d1c0e-971f-48a6-ae1a-b2a4e32a182b",
   "metadata": {},
   "outputs": [
    {
     "data": {
      "text/html": [
       "<div>\n",
       "<style scoped>\n",
       "    .dataframe tbody tr th:only-of-type {\n",
       "        vertical-align: middle;\n",
       "    }\n",
       "\n",
       "    .dataframe tbody tr th {\n",
       "        vertical-align: top;\n",
       "    }\n",
       "\n",
       "    .dataframe thead th {\n",
       "        text-align: right;\n",
       "    }\n",
       "</style>\n",
       "<table border=\"1\" class=\"dataframe\">\n",
       "  <thead>\n",
       "    <tr style=\"text-align: right;\">\n",
       "      <th></th>\n",
       "      <th>Date</th>\n",
       "      <th>Day</th>\n",
       "      <th>Year</th>\n",
       "      <th>Customer_Age</th>\n",
       "      <th>Age_Group</th>\n",
       "      <th>Customer_Gender</th>\n",
       "      <th>Country</th>\n",
       "      <th>State</th>\n",
       "      <th>Product_Category</th>\n",
       "      <th>Sub_Category</th>\n",
       "      <th>Product</th>\n",
       "      <th>Order_Quantity</th>\n",
       "      <th>Unit_Cost</th>\n",
       "      <th>Unit_Price</th>\n",
       "      <th>Profit</th>\n",
       "      <th>Cost</th>\n",
       "      <th>Revenue</th>\n",
       "    </tr>\n",
       "    <tr>\n",
       "      <th>Month</th>\n",
       "      <th></th>\n",
       "      <th></th>\n",
       "      <th></th>\n",
       "      <th></th>\n",
       "      <th></th>\n",
       "      <th></th>\n",
       "      <th></th>\n",
       "      <th></th>\n",
       "      <th></th>\n",
       "      <th></th>\n",
       "      <th></th>\n",
       "      <th></th>\n",
       "      <th></th>\n",
       "      <th></th>\n",
       "      <th></th>\n",
       "      <th></th>\n",
       "      <th></th>\n",
       "    </tr>\n",
       "  </thead>\n",
       "  <tbody>\n",
       "    <tr>\n",
       "      <th>April</th>\n",
       "      <td>2014-04-27</td>\n",
       "      <td>27</td>\n",
       "      <td>2014</td>\n",
       "      <td>67</td>\n",
       "      <td>Seniors (64+)</td>\n",
       "      <td>F</td>\n",
       "      <td>United States</td>\n",
       "      <td>California</td>\n",
       "      <td>Accessories</td>\n",
       "      <td>Bike Racks</td>\n",
       "      <td>Hitch Rack - 4-Bike</td>\n",
       "      <td>2</td>\n",
       "      <td>45</td>\n",
       "      <td>120</td>\n",
       "      <td>145</td>\n",
       "      <td>90</td>\n",
       "      <td>235</td>\n",
       "    </tr>\n",
       "    <tr>\n",
       "      <th>April</th>\n",
       "      <td>2016-04-27</td>\n",
       "      <td>27</td>\n",
       "      <td>2016</td>\n",
       "      <td>67</td>\n",
       "      <td>Seniors (64+)</td>\n",
       "      <td>F</td>\n",
       "      <td>United States</td>\n",
       "      <td>California</td>\n",
       "      <td>Accessories</td>\n",
       "      <td>Bike Racks</td>\n",
       "      <td>Hitch Rack - 4-Bike</td>\n",
       "      <td>1</td>\n",
       "      <td>45</td>\n",
       "      <td>120</td>\n",
       "      <td>73</td>\n",
       "      <td>45</td>\n",
       "      <td>118</td>\n",
       "    </tr>\n",
       "    <tr>\n",
       "      <th>April</th>\n",
       "      <td>2014-04-13</td>\n",
       "      <td>13</td>\n",
       "      <td>2014</td>\n",
       "      <td>26</td>\n",
       "      <td>Young Adults (25-34)</td>\n",
       "      <td>M</td>\n",
       "      <td>Australia</td>\n",
       "      <td>Queensland</td>\n",
       "      <td>Accessories</td>\n",
       "      <td>Bike Racks</td>\n",
       "      <td>Hitch Rack - 4-Bike</td>\n",
       "      <td>5</td>\n",
       "      <td>45</td>\n",
       "      <td>120</td>\n",
       "      <td>279</td>\n",
       "      <td>225</td>\n",
       "      <td>504</td>\n",
       "    </tr>\n",
       "    <tr>\n",
       "      <th>April</th>\n",
       "      <td>2016-04-13</td>\n",
       "      <td>13</td>\n",
       "      <td>2016</td>\n",
       "      <td>26</td>\n",
       "      <td>Young Adults (25-34)</td>\n",
       "      <td>M</td>\n",
       "      <td>Australia</td>\n",
       "      <td>Queensland</td>\n",
       "      <td>Accessories</td>\n",
       "      <td>Bike Racks</td>\n",
       "      <td>Hitch Rack - 4-Bike</td>\n",
       "      <td>7</td>\n",
       "      <td>45</td>\n",
       "      <td>120</td>\n",
       "      <td>391</td>\n",
       "      <td>315</td>\n",
       "      <td>706</td>\n",
       "    </tr>\n",
       "    <tr>\n",
       "      <th>April</th>\n",
       "      <td>2014-04-17</td>\n",
       "      <td>17</td>\n",
       "      <td>2014</td>\n",
       "      <td>25</td>\n",
       "      <td>Young Adults (25-34)</td>\n",
       "      <td>M</td>\n",
       "      <td>United States</td>\n",
       "      <td>Oregon</td>\n",
       "      <td>Accessories</td>\n",
       "      <td>Bike Racks</td>\n",
       "      <td>Hitch Rack - 4-Bike</td>\n",
       "      <td>6</td>\n",
       "      <td>45</td>\n",
       "      <td>120</td>\n",
       "      <td>349</td>\n",
       "      <td>270</td>\n",
       "      <td>619</td>\n",
       "    </tr>\n",
       "    <tr>\n",
       "      <th>...</th>\n",
       "      <td>...</td>\n",
       "      <td>...</td>\n",
       "      <td>...</td>\n",
       "      <td>...</td>\n",
       "      <td>...</td>\n",
       "      <td>...</td>\n",
       "      <td>...</td>\n",
       "      <td>...</td>\n",
       "      <td>...</td>\n",
       "      <td>...</td>\n",
       "      <td>...</td>\n",
       "      <td>...</td>\n",
       "      <td>...</td>\n",
       "      <td>...</td>\n",
       "      <td>...</td>\n",
       "      <td>...</td>\n",
       "      <td>...</td>\n",
       "    </tr>\n",
       "    <tr>\n",
       "      <th>April</th>\n",
       "      <td>2016-04-03</td>\n",
       "      <td>3</td>\n",
       "      <td>2016</td>\n",
       "      <td>34</td>\n",
       "      <td>Young Adults (25-34)</td>\n",
       "      <td>M</td>\n",
       "      <td>United States</td>\n",
       "      <td>California</td>\n",
       "      <td>Clothing</td>\n",
       "      <td>Vests</td>\n",
       "      <td>Classic Vest, S</td>\n",
       "      <td>14</td>\n",
       "      <td>24</td>\n",
       "      <td>64</td>\n",
       "      <td>542</td>\n",
       "      <td>336</td>\n",
       "      <td>878</td>\n",
       "    </tr>\n",
       "    <tr>\n",
       "      <th>April</th>\n",
       "      <td>2014-04-12</td>\n",
       "      <td>12</td>\n",
       "      <td>2014</td>\n",
       "      <td>41</td>\n",
       "      <td>Adults (35-64)</td>\n",
       "      <td>M</td>\n",
       "      <td>United Kingdom</td>\n",
       "      <td>England</td>\n",
       "      <td>Clothing</td>\n",
       "      <td>Vests</td>\n",
       "      <td>Classic Vest, S</td>\n",
       "      <td>6</td>\n",
       "      <td>24</td>\n",
       "      <td>64</td>\n",
       "      <td>225</td>\n",
       "      <td>144</td>\n",
       "      <td>369</td>\n",
       "    </tr>\n",
       "    <tr>\n",
       "      <th>April</th>\n",
       "      <td>2016-04-12</td>\n",
       "      <td>12</td>\n",
       "      <td>2016</td>\n",
       "      <td>41</td>\n",
       "      <td>Adults (35-64)</td>\n",
       "      <td>M</td>\n",
       "      <td>United Kingdom</td>\n",
       "      <td>England</td>\n",
       "      <td>Clothing</td>\n",
       "      <td>Vests</td>\n",
       "      <td>Classic Vest, S</td>\n",
       "      <td>3</td>\n",
       "      <td>24</td>\n",
       "      <td>64</td>\n",
       "      <td>112</td>\n",
       "      <td>72</td>\n",
       "      <td>184</td>\n",
       "    </tr>\n",
       "    <tr>\n",
       "      <th>April</th>\n",
       "      <td>2014-04-02</td>\n",
       "      <td>2</td>\n",
       "      <td>2014</td>\n",
       "      <td>18</td>\n",
       "      <td>Youth (&lt;25)</td>\n",
       "      <td>M</td>\n",
       "      <td>Australia</td>\n",
       "      <td>Queensland</td>\n",
       "      <td>Clothing</td>\n",
       "      <td>Vests</td>\n",
       "      <td>Classic Vest, M</td>\n",
       "      <td>22</td>\n",
       "      <td>24</td>\n",
       "      <td>64</td>\n",
       "      <td>655</td>\n",
       "      <td>528</td>\n",
       "      <td>1183</td>\n",
       "    </tr>\n",
       "    <tr>\n",
       "      <th>April</th>\n",
       "      <td>2016-04-02</td>\n",
       "      <td>2</td>\n",
       "      <td>2016</td>\n",
       "      <td>18</td>\n",
       "      <td>Youth (&lt;25)</td>\n",
       "      <td>M</td>\n",
       "      <td>Australia</td>\n",
       "      <td>Queensland</td>\n",
       "      <td>Clothing</td>\n",
       "      <td>Vests</td>\n",
       "      <td>Classic Vest, M</td>\n",
       "      <td>22</td>\n",
       "      <td>24</td>\n",
       "      <td>64</td>\n",
       "      <td>655</td>\n",
       "      <td>528</td>\n",
       "      <td>1183</td>\n",
       "    </tr>\n",
       "  </tbody>\n",
       "</table>\n",
       "<p>10182 rows × 17 columns</p>\n",
       "</div>"
      ],
      "text/plain": [
       "             Date  Day  Year  Customer_Age             Age_Group  \\\n",
       "Month                                                              \n",
       "April  2014-04-27   27  2014            67         Seniors (64+)   \n",
       "April  2016-04-27   27  2016            67         Seniors (64+)   \n",
       "April  2014-04-13   13  2014            26  Young Adults (25-34)   \n",
       "April  2016-04-13   13  2016            26  Young Adults (25-34)   \n",
       "April  2014-04-17   17  2014            25  Young Adults (25-34)   \n",
       "...           ...  ...   ...           ...                   ...   \n",
       "April  2016-04-03    3  2016            34  Young Adults (25-34)   \n",
       "April  2014-04-12   12  2014            41        Adults (35-64)   \n",
       "April  2016-04-12   12  2016            41        Adults (35-64)   \n",
       "April  2014-04-02    2  2014            18           Youth (<25)   \n",
       "April  2016-04-02    2  2016            18           Youth (<25)   \n",
       "\n",
       "      Customer_Gender         Country       State Product_Category  \\\n",
       "Month                                                                \n",
       "April               F   United States  California      Accessories   \n",
       "April               F   United States  California      Accessories   \n",
       "April               M       Australia  Queensland      Accessories   \n",
       "April               M       Australia  Queensland      Accessories   \n",
       "April               M   United States      Oregon      Accessories   \n",
       "...               ...             ...         ...              ...   \n",
       "April               M   United States  California         Clothing   \n",
       "April               M  United Kingdom     England         Clothing   \n",
       "April               M  United Kingdom     England         Clothing   \n",
       "April               M       Australia  Queensland         Clothing   \n",
       "April               M       Australia  Queensland         Clothing   \n",
       "\n",
       "      Sub_Category              Product  Order_Quantity  Unit_Cost  \\\n",
       "Month                                                                \n",
       "April   Bike Racks  Hitch Rack - 4-Bike               2         45   \n",
       "April   Bike Racks  Hitch Rack - 4-Bike               1         45   \n",
       "April   Bike Racks  Hitch Rack - 4-Bike               5         45   \n",
       "April   Bike Racks  Hitch Rack - 4-Bike               7         45   \n",
       "April   Bike Racks  Hitch Rack - 4-Bike               6         45   \n",
       "...            ...                  ...             ...        ...   \n",
       "April        Vests      Classic Vest, S              14         24   \n",
       "April        Vests      Classic Vest, S               6         24   \n",
       "April        Vests      Classic Vest, S               3         24   \n",
       "April        Vests      Classic Vest, M              22         24   \n",
       "April        Vests      Classic Vest, M              22         24   \n",
       "\n",
       "       Unit_Price  Profit  Cost  Revenue  \n",
       "Month                                     \n",
       "April         120     145    90      235  \n",
       "April         120      73    45      118  \n",
       "April         120     279   225      504  \n",
       "April         120     391   315      706  \n",
       "April         120     349   270      619  \n",
       "...           ...     ...   ...      ...  \n",
       "April          64     542   336      878  \n",
       "April          64     225   144      369  \n",
       "April          64     112    72      184  \n",
       "April          64     655   528     1183  \n",
       "April          64     655   528     1183  \n",
       "\n",
       "[10182 rows x 17 columns]"
      ]
     },
     "execution_count": 41,
     "metadata": {},
     "output_type": "execute_result"
    }
   ],
   "source": [
    "sales_data_pd.loc[\"April\"]"
   ]
  },
  {
   "cell_type": "code",
   "execution_count": 42,
   "id": "0a9d224c-e8d6-4fcd-96c2-21de88404fae",
   "metadata": {},
   "outputs": [
    {
     "data": {
      "text/html": [
       "<div><style>\n",
       ".dataframe > thead > tr,\n",
       ".dataframe > tbody > tr {\n",
       "  text-align: right;\n",
       "  white-space: pre-wrap;\n",
       "}\n",
       "</style>\n",
       "<small>shape: (113_036, 2)</small><table border=\"1\" class=\"dataframe\"><thead><tr><th>Year</th><th>Country</th></tr><tr><td>i64</td><td>str</td></tr></thead><tbody><tr><td>2013</td><td>&quot;Canada&quot;</td></tr><tr><td>2015</td><td>&quot;Canada&quot;</td></tr><tr><td>2014</td><td>&quot;Australia&quot;</td></tr><tr><td>2016</td><td>&quot;Australia&quot;</td></tr><tr><td>2014</td><td>&quot;Australia&quot;</td></tr><tr><td>&hellip;</td><td>&hellip;</td></tr><tr><td>2016</td><td>&quot;United Kingdom&quot;</td></tr><tr><td>2014</td><td>&quot;Australia&quot;</td></tr><tr><td>2016</td><td>&quot;Australia&quot;</td></tr><tr><td>2014</td><td>&quot;France&quot;</td></tr><tr><td>2016</td><td>&quot;France&quot;</td></tr></tbody></table></div>"
      ],
      "text/plain": [
       "shape: (113_036, 2)\n",
       "┌──────┬────────────────┐\n",
       "│ Year ┆ Country        │\n",
       "│ ---  ┆ ---            │\n",
       "│ i64  ┆ str            │\n",
       "╞══════╪════════════════╡\n",
       "│ 2013 ┆ Canada         │\n",
       "│ 2015 ┆ Canada         │\n",
       "│ 2014 ┆ Australia      │\n",
       "│ 2016 ┆ Australia      │\n",
       "│ 2014 ┆ Australia      │\n",
       "│ …    ┆ …              │\n",
       "│ 2016 ┆ United Kingdom │\n",
       "│ 2014 ┆ Australia      │\n",
       "│ 2016 ┆ Australia      │\n",
       "│ 2014 ┆ France         │\n",
       "│ 2016 ┆ France         │\n",
       "└──────┴────────────────┘"
      ]
     },
     "execution_count": 42,
     "metadata": {},
     "output_type": "execute_result"
    }
   ],
   "source": [
    "sales_data_pl.select([\"Year\", \"Country\"])"
   ]
  },
  {
   "cell_type": "code",
   "execution_count": 43,
   "id": "902fa6f4-49be-4943-b002-ceb5815b96c2",
   "metadata": {},
   "outputs": [
    {
     "data": {
      "text/html": [
       "<div><style>\n",
       ".dataframe > thead > tr,\n",
       ".dataframe > tbody > tr {\n",
       "  text-align: right;\n",
       "  white-space: pre-wrap;\n",
       "}\n",
       "</style>\n",
       "<small>shape: (25_984, 18)</small><table border=\"1\" class=\"dataframe\"><thead><tr><th>Date</th><th>Day</th><th>Month</th><th>Year</th><th>Customer_Age</th><th>Age_Group</th><th>Customer_Gender</th><th>Country</th><th>State</th><th>Product_Category</th><th>Sub_Category</th><th>Product</th><th>Order_Quantity</th><th>Unit_Cost</th><th>Unit_Price</th><th>Profit</th><th>Cost</th><th>Revenue</th></tr><tr><td>str</td><td>i64</td><td>str</td><td>i64</td><td>i64</td><td>str</td><td>str</td><td>str</td><td>str</td><td>str</td><td>str</td><td>str</td><td>i64</td><td>i64</td><td>i64</td><td>i64</td><td>i64</td><td>i64</td></tr></thead><tbody><tr><td>&quot;2013-01-28&quot;</td><td>28</td><td>&quot;January&quot;</td><td>2013</td><td>31</td><td>&quot;Young Adults (25-34)&quot;</td><td>&quot;M&quot;</td><td>&quot;Australia&quot;</td><td>&quot;Queensland&quot;</td><td>&quot;Bikes&quot;</td><td>&quot;Mountain Bikes&quot;</td><td>&quot;Mountain-100 Silver, 38&quot;</td><td>1</td><td>1912</td><td>3400</td><td>944</td><td>1912</td><td>2856</td></tr><tr><td>&quot;2015-01-28&quot;</td><td>28</td><td>&quot;January&quot;</td><td>2015</td><td>31</td><td>&quot;Young Adults (25-34)&quot;</td><td>&quot;M&quot;</td><td>&quot;Australia&quot;</td><td>&quot;Queensland&quot;</td><td>&quot;Bikes&quot;</td><td>&quot;Mountain Bikes&quot;</td><td>&quot;Mountain-100 Silver, 38&quot;</td><td>1</td><td>1912</td><td>3400</td><td>944</td><td>1912</td><td>2856</td></tr><tr><td>&quot;2013-07-22&quot;</td><td>22</td><td>&quot;July&quot;</td><td>2013</td><td>31</td><td>&quot;Young Adults (25-34)&quot;</td><td>&quot;M&quot;</td><td>&quot;Australia&quot;</td><td>&quot;Queensland&quot;</td><td>&quot;Bikes&quot;</td><td>&quot;Mountain Bikes&quot;</td><td>&quot;Mountain-100 Silver, 38&quot;</td><td>1</td><td>1912</td><td>3400</td><td>944</td><td>1912</td><td>2856</td></tr><tr><td>&quot;2015-07-22&quot;</td><td>22</td><td>&quot;July&quot;</td><td>2015</td><td>31</td><td>&quot;Young Adults (25-34)&quot;</td><td>&quot;M&quot;</td><td>&quot;Australia&quot;</td><td>&quot;Queensland&quot;</td><td>&quot;Bikes&quot;</td><td>&quot;Mountain Bikes&quot;</td><td>&quot;Mountain-100 Silver, 38&quot;</td><td>2</td><td>1912</td><td>3400</td><td>1888</td><td>3824</td><td>5712</td></tr><tr><td>&quot;2013-12-25&quot;</td><td>25</td><td>&quot;December&quot;</td><td>2013</td><td>31</td><td>&quot;Young Adults (25-34)&quot;</td><td>&quot;M&quot;</td><td>&quot;Australia&quot;</td><td>&quot;Queensland&quot;</td><td>&quot;Bikes&quot;</td><td>&quot;Mountain Bikes&quot;</td><td>&quot;Mountain-100 Silver, 38&quot;</td><td>1</td><td>1912</td><td>3400</td><td>944</td><td>1912</td><td>2856</td></tr><tr><td>&hellip;</td><td>&hellip;</td><td>&hellip;</td><td>&hellip;</td><td>&hellip;</td><td>&hellip;</td><td>&hellip;</td><td>&hellip;</td><td>&hellip;</td><td>&hellip;</td><td>&hellip;</td><td>&hellip;</td><td>&hellip;</td><td>&hellip;</td><td>&hellip;</td><td>&hellip;</td><td>&hellip;</td><td>&hellip;</td></tr><tr><td>&quot;2016-02-27&quot;</td><td>27</td><td>&quot;February&quot;</td><td>2016</td><td>37</td><td>&quot;Adults (35-64)&quot;</td><td>&quot;F&quot;</td><td>&quot;United Kingdom&quot;</td><td>&quot;England&quot;</td><td>&quot;Bikes&quot;</td><td>&quot;Touring Bikes&quot;</td><td>&quot;Touring-1000 Blue, 54&quot;</td><td>2</td><td>1482</td><td>2384</td><td>1613</td><td>2964</td><td>4577</td></tr><tr><td>&quot;2014-06-13&quot;</td><td>13</td><td>&quot;June&quot;</td><td>2014</td><td>37</td><td>&quot;Adults (35-64)&quot;</td><td>&quot;F&quot;</td><td>&quot;United Kingdom&quot;</td><td>&quot;England&quot;</td><td>&quot;Bikes&quot;</td><td>&quot;Touring Bikes&quot;</td><td>&quot;Touring-1000 Blue, 54&quot;</td><td>1</td><td>1482</td><td>2384</td><td>807</td><td>1482</td><td>2289</td></tr><tr><td>&quot;2016-06-13&quot;</td><td>13</td><td>&quot;June&quot;</td><td>2016</td><td>37</td><td>&quot;Adults (35-64)&quot;</td><td>&quot;F&quot;</td><td>&quot;United Kingdom&quot;</td><td>&quot;England&quot;</td><td>&quot;Bikes&quot;</td><td>&quot;Touring Bikes&quot;</td><td>&quot;Touring-1000 Blue, 54&quot;</td><td>2</td><td>1482</td><td>2384</td><td>1613</td><td>2964</td><td>4577</td></tr><tr><td>&quot;2013-07-24&quot;</td><td>24</td><td>&quot;July&quot;</td><td>2013</td><td>52</td><td>&quot;Adults (35-64)&quot;</td><td>&quot;M&quot;</td><td>&quot;Australia&quot;</td><td>&quot;Queensland&quot;</td><td>&quot;Clothing&quot;</td><td>&quot;Vests&quot;</td><td>&quot;Touring-1000 Yellow, 50&quot;</td><td>27</td><td>1482</td><td>2384</td><td>14055</td><td>40014</td><td>54069</td></tr><tr><td>&quot;2015-07-24&quot;</td><td>24</td><td>&quot;July&quot;</td><td>2015</td><td>52</td><td>&quot;Adults (35-64)&quot;</td><td>&quot;M&quot;</td><td>&quot;Australia&quot;</td><td>&quot;Queensland&quot;</td><td>&quot;Clothing&quot;</td><td>&quot;Vests&quot;</td><td>&quot;Touring-1000 Yellow, 50&quot;</td><td>29</td><td>1482</td><td>2384</td><td>15096</td><td>42978</td><td>58074</td></tr></tbody></table></div>"
      ],
      "text/plain": [
       "shape: (25_984, 18)\n",
       "┌────────────┬─────┬──────────┬──────┬───┬────────────┬────────┬───────┬─────────┐\n",
       "│ Date       ┆ Day ┆ Month    ┆ Year ┆ … ┆ Unit_Price ┆ Profit ┆ Cost  ┆ Revenue │\n",
       "│ ---        ┆ --- ┆ ---      ┆ ---  ┆   ┆ ---        ┆ ---    ┆ ---   ┆ ---     │\n",
       "│ str        ┆ i64 ┆ str      ┆ i64  ┆   ┆ i64        ┆ i64    ┆ i64   ┆ i64     │\n",
       "╞════════════╪═════╪══════════╪══════╪═══╪════════════╪════════╪═══════╪═════════╡\n",
       "│ 2013-01-28 ┆ 28  ┆ January  ┆ 2013 ┆ … ┆ 3400       ┆ 944    ┆ 1912  ┆ 2856    │\n",
       "│ 2015-01-28 ┆ 28  ┆ January  ┆ 2015 ┆ … ┆ 3400       ┆ 944    ┆ 1912  ┆ 2856    │\n",
       "│ 2013-07-22 ┆ 22  ┆ July     ┆ 2013 ┆ … ┆ 3400       ┆ 944    ┆ 1912  ┆ 2856    │\n",
       "│ 2015-07-22 ┆ 22  ┆ July     ┆ 2015 ┆ … ┆ 3400       ┆ 1888   ┆ 3824  ┆ 5712    │\n",
       "│ 2013-12-25 ┆ 25  ┆ December ┆ 2013 ┆ … ┆ 3400       ┆ 944    ┆ 1912  ┆ 2856    │\n",
       "│ …          ┆ …   ┆ …        ┆ …    ┆ … ┆ …          ┆ …      ┆ …     ┆ …       │\n",
       "│ 2016-02-27 ┆ 27  ┆ February ┆ 2016 ┆ … ┆ 2384       ┆ 1613   ┆ 2964  ┆ 4577    │\n",
       "│ 2014-06-13 ┆ 13  ┆ June     ┆ 2014 ┆ … ┆ 2384       ┆ 807    ┆ 1482  ┆ 2289    │\n",
       "│ 2016-06-13 ┆ 13  ┆ June     ┆ 2016 ┆ … ┆ 2384       ┆ 1613   ┆ 2964  ┆ 4577    │\n",
       "│ 2013-07-24 ┆ 24  ┆ July     ┆ 2013 ┆ … ┆ 2384       ┆ 14055  ┆ 40014 ┆ 54069   │\n",
       "│ 2015-07-24 ┆ 24  ┆ July     ┆ 2015 ┆ … ┆ 2384       ┆ 15096  ┆ 42978 ┆ 58074   │\n",
       "└────────────┴─────┴──────────┴──────┴───┴────────────┴────────┴───────┴─────────┘"
      ]
     },
     "execution_count": 43,
     "metadata": {},
     "output_type": "execute_result"
    }
   ],
   "source": [
    "sales_data_pl.filter(sales_data_pl['Unit_Cost'] > 200)"
   ]
  },
  {
   "cell_type": "markdown",
   "id": "aa4e8b6a-52c3-403c-92fc-876e9c2f6e6d",
   "metadata": {},
   "source": [
    "---\n",
    "### handling missing data ---> "
   ]
  },
  {
   "cell_type": "code",
   "execution_count": 44,
   "id": "cad395db-bfad-43bd-a733-b26c0f746f71",
   "metadata": {},
   "outputs": [],
   "source": [
    "pd_pandas_na = pd.DataFrame({\"A\":[1, 2, None], \"B\":[4, None, 6]})\n",
    "pl_polars_na = pl.DataFrame({\"A\":[1, 2, None], \"B\":[4, None, 6]})"
   ]
  },
  {
   "cell_type": "code",
   "execution_count": 45,
   "id": "32783556-9520-4ac9-94bf-4783efece368",
   "metadata": {},
   "outputs": [
    {
     "data": {
      "text/html": [
       "<div>\n",
       "<style scoped>\n",
       "    .dataframe tbody tr th:only-of-type {\n",
       "        vertical-align: middle;\n",
       "    }\n",
       "\n",
       "    .dataframe tbody tr th {\n",
       "        vertical-align: top;\n",
       "    }\n",
       "\n",
       "    .dataframe thead th {\n",
       "        text-align: right;\n",
       "    }\n",
       "</style>\n",
       "<table border=\"1\" class=\"dataframe\">\n",
       "  <thead>\n",
       "    <tr style=\"text-align: right;\">\n",
       "      <th></th>\n",
       "      <th>A</th>\n",
       "      <th>B</th>\n",
       "    </tr>\n",
       "  </thead>\n",
       "  <tbody>\n",
       "    <tr>\n",
       "      <th>0</th>\n",
       "      <td>1.0</td>\n",
       "      <td>4.0</td>\n",
       "    </tr>\n",
       "    <tr>\n",
       "      <th>1</th>\n",
       "      <td>2.0</td>\n",
       "      <td>NaN</td>\n",
       "    </tr>\n",
       "    <tr>\n",
       "      <th>2</th>\n",
       "      <td>NaN</td>\n",
       "      <td>6.0</td>\n",
       "    </tr>\n",
       "  </tbody>\n",
       "</table>\n",
       "</div>"
      ],
      "text/plain": [
       "     A    B\n",
       "0  1.0  4.0\n",
       "1  2.0  NaN\n",
       "2  NaN  6.0"
      ]
     },
     "execution_count": 45,
     "metadata": {},
     "output_type": "execute_result"
    }
   ],
   "source": [
    "pd_pandas_na"
   ]
  },
  {
   "cell_type": "code",
   "execution_count": 46,
   "id": "f0da71c7-1ce5-4a0e-8c80-831e5215ea9e",
   "metadata": {},
   "outputs": [
    {
     "data": {
      "text/html": [
       "<div><style>\n",
       ".dataframe > thead > tr,\n",
       ".dataframe > tbody > tr {\n",
       "  text-align: right;\n",
       "  white-space: pre-wrap;\n",
       "}\n",
       "</style>\n",
       "<small>shape: (3, 2)</small><table border=\"1\" class=\"dataframe\"><thead><tr><th>A</th><th>B</th></tr><tr><td>i64</td><td>i64</td></tr></thead><tbody><tr><td>1</td><td>4</td></tr><tr><td>2</td><td>null</td></tr><tr><td>null</td><td>6</td></tr></tbody></table></div>"
      ],
      "text/plain": [
       "shape: (3, 2)\n",
       "┌──────┬──────┐\n",
       "│ A    ┆ B    │\n",
       "│ ---  ┆ ---  │\n",
       "│ i64  ┆ i64  │\n",
       "╞══════╪══════╡\n",
       "│ 1    ┆ 4    │\n",
       "│ 2    ┆ null │\n",
       "│ null ┆ 6    │\n",
       "└──────┴──────┘"
      ]
     },
     "execution_count": 46,
     "metadata": {},
     "output_type": "execute_result"
    }
   ],
   "source": [
    "pl_polars_na"
   ]
  },
  {
   "cell_type": "code",
   "execution_count": 47,
   "id": "cbbbcc4c-f32c-4dcc-bafd-b97dbe8eb2ef",
   "metadata": {},
   "outputs": [
    {
     "data": {
      "text/html": [
       "<div>\n",
       "<style scoped>\n",
       "    .dataframe tbody tr th:only-of-type {\n",
       "        vertical-align: middle;\n",
       "    }\n",
       "\n",
       "    .dataframe tbody tr th {\n",
       "        vertical-align: top;\n",
       "    }\n",
       "\n",
       "    .dataframe thead th {\n",
       "        text-align: right;\n",
       "    }\n",
       "</style>\n",
       "<table border=\"1\" class=\"dataframe\">\n",
       "  <thead>\n",
       "    <tr style=\"text-align: right;\">\n",
       "      <th></th>\n",
       "      <th>A</th>\n",
       "      <th>B</th>\n",
       "    </tr>\n",
       "  </thead>\n",
       "  <tbody>\n",
       "    <tr>\n",
       "      <th>0</th>\n",
       "      <td>1.0</td>\n",
       "      <td>4.0</td>\n",
       "    </tr>\n",
       "  </tbody>\n",
       "</table>\n",
       "</div>"
      ],
      "text/plain": [
       "     A    B\n",
       "0  1.0  4.0"
      ]
     },
     "execution_count": 47,
     "metadata": {},
     "output_type": "execute_result"
    }
   ],
   "source": [
    "pd_pandas_na.dropna()"
   ]
  },
  {
   "cell_type": "code",
   "execution_count": 48,
   "id": "928bf590-1dc2-4cd3-8576-5f05b3a33e06",
   "metadata": {},
   "outputs": [
    {
     "data": {
      "text/html": [
       "<div><style>\n",
       ".dataframe > thead > tr,\n",
       ".dataframe > tbody > tr {\n",
       "  text-align: right;\n",
       "  white-space: pre-wrap;\n",
       "}\n",
       "</style>\n",
       "<small>shape: (1, 2)</small><table border=\"1\" class=\"dataframe\"><thead><tr><th>A</th><th>B</th></tr><tr><td>i64</td><td>i64</td></tr></thead><tbody><tr><td>1</td><td>4</td></tr></tbody></table></div>"
      ],
      "text/plain": [
       "shape: (1, 2)\n",
       "┌─────┬─────┐\n",
       "│ A   ┆ B   │\n",
       "│ --- ┆ --- │\n",
       "│ i64 ┆ i64 │\n",
       "╞═════╪═════╡\n",
       "│ 1   ┆ 4   │\n",
       "└─────┴─────┘"
      ]
     },
     "execution_count": 48,
     "metadata": {},
     "output_type": "execute_result"
    }
   ],
   "source": [
    "pl_polars_na.drop_nulls()"
   ]
  },
  {
   "cell_type": "markdown",
   "id": "674b486f-b220-4d57-81fa-bcea204b598c",
   "metadata": {},
   "source": [
    "#### filling the missing info"
   ]
  },
  {
   "cell_type": "code",
   "execution_count": 49,
   "id": "8e697355-f90f-4348-a3a9-6ea1cbdd88e8",
   "metadata": {},
   "outputs": [
    {
     "data": {
      "text/html": [
       "<div>\n",
       "<style scoped>\n",
       "    .dataframe tbody tr th:only-of-type {\n",
       "        vertical-align: middle;\n",
       "    }\n",
       "\n",
       "    .dataframe tbody tr th {\n",
       "        vertical-align: top;\n",
       "    }\n",
       "\n",
       "    .dataframe thead th {\n",
       "        text-align: right;\n",
       "    }\n",
       "</style>\n",
       "<table border=\"1\" class=\"dataframe\">\n",
       "  <thead>\n",
       "    <tr style=\"text-align: right;\">\n",
       "      <th></th>\n",
       "      <th>A</th>\n",
       "      <th>B</th>\n",
       "    </tr>\n",
       "  </thead>\n",
       "  <tbody>\n",
       "    <tr>\n",
       "      <th>0</th>\n",
       "      <td>1.0</td>\n",
       "      <td>4.0</td>\n",
       "    </tr>\n",
       "    <tr>\n",
       "      <th>1</th>\n",
       "      <td>2.0</td>\n",
       "      <td>0.0</td>\n",
       "    </tr>\n",
       "    <tr>\n",
       "      <th>2</th>\n",
       "      <td>0.0</td>\n",
       "      <td>6.0</td>\n",
       "    </tr>\n",
       "  </tbody>\n",
       "</table>\n",
       "</div>"
      ],
      "text/plain": [
       "     A    B\n",
       "0  1.0  4.0\n",
       "1  2.0  0.0\n",
       "2  0.0  6.0"
      ]
     },
     "execution_count": 49,
     "metadata": {},
     "output_type": "execute_result"
    }
   ],
   "source": [
    "pd_pandas_filled = pd_pandas_na.fillna(0)\n",
    "pd_pandas_filled"
   ]
  },
  {
   "cell_type": "code",
   "execution_count": 50,
   "id": "021938f4-ae09-4e02-9923-671a6383f951",
   "metadata": {},
   "outputs": [
    {
     "data": {
      "text/html": [
       "<div><style>\n",
       ".dataframe > thead > tr,\n",
       ".dataframe > tbody > tr {\n",
       "  text-align: right;\n",
       "  white-space: pre-wrap;\n",
       "}\n",
       "</style>\n",
       "<small>shape: (3, 2)</small><table border=\"1\" class=\"dataframe\"><thead><tr><th>A</th><th>B</th></tr><tr><td>i64</td><td>i64</td></tr></thead><tbody><tr><td>1</td><td>4</td></tr><tr><td>2</td><td>0</td></tr><tr><td>0</td><td>6</td></tr></tbody></table></div>"
      ],
      "text/plain": [
       "shape: (3, 2)\n",
       "┌─────┬─────┐\n",
       "│ A   ┆ B   │\n",
       "│ --- ┆ --- │\n",
       "│ i64 ┆ i64 │\n",
       "╞═════╪═════╡\n",
       "│ 1   ┆ 4   │\n",
       "│ 2   ┆ 0   │\n",
       "│ 0   ┆ 6   │\n",
       "└─────┴─────┘"
      ]
     },
     "execution_count": 50,
     "metadata": {},
     "output_type": "execute_result"
    }
   ],
   "source": [
    "pl_polars_filled = pl_polars_na.fill_null(0, )\n",
    "pl_polars_filled"
   ]
  },
  {
   "cell_type": "code",
   "execution_count": 51,
   "id": "7a32fb5a-880b-42d9-b368-0d89c4ae3ee4",
   "metadata": {},
   "outputs": [
    {
     "data": {
      "text/html": [
       "<div>\n",
       "<style scoped>\n",
       "    .dataframe tbody tr th:only-of-type {\n",
       "        vertical-align: middle;\n",
       "    }\n",
       "\n",
       "    .dataframe tbody tr th {\n",
       "        vertical-align: top;\n",
       "    }\n",
       "\n",
       "    .dataframe thead th {\n",
       "        text-align: right;\n",
       "    }\n",
       "</style>\n",
       "<table border=\"1\" class=\"dataframe\">\n",
       "  <thead>\n",
       "    <tr style=\"text-align: right;\">\n",
       "      <th></th>\n",
       "      <th>A</th>\n",
       "      <th>B</th>\n",
       "    </tr>\n",
       "  </thead>\n",
       "  <tbody>\n",
       "    <tr>\n",
       "      <th>0</th>\n",
       "      <td>1.0</td>\n",
       "      <td>4.0</td>\n",
       "    </tr>\n",
       "    <tr>\n",
       "      <th>1</th>\n",
       "      <td>2.0</td>\n",
       "      <td>5.0</td>\n",
       "    </tr>\n",
       "    <tr>\n",
       "      <th>2</th>\n",
       "      <td>2.0</td>\n",
       "      <td>6.0</td>\n",
       "    </tr>\n",
       "  </tbody>\n",
       "</table>\n",
       "</div>"
      ],
      "text/plain": [
       "     A    B\n",
       "0  1.0  4.0\n",
       "1  2.0  5.0\n",
       "2  2.0  6.0"
      ]
     },
     "execution_count": 51,
     "metadata": {},
     "output_type": "execute_result"
    }
   ],
   "source": [
    "pd_pandas_na.interpolate()"
   ]
  },
  {
   "cell_type": "code",
   "execution_count": 52,
   "id": "4da78b85-dec5-414d-959e-6258b01e6501",
   "metadata": {},
   "outputs": [
    {
     "data": {
      "text/html": [
       "<div><style>\n",
       ".dataframe > thead > tr,\n",
       ".dataframe > tbody > tr {\n",
       "  text-align: right;\n",
       "  white-space: pre-wrap;\n",
       "}\n",
       "</style>\n",
       "<small>shape: (3, 2)</small><table border=\"1\" class=\"dataframe\"><thead><tr><th>A</th><th>B</th></tr><tr><td>f64</td><td>f64</td></tr></thead><tbody><tr><td>1.0</td><td>4.0</td></tr><tr><td>2.0</td><td>5.0</td></tr><tr><td>null</td><td>6.0</td></tr></tbody></table></div>"
      ],
      "text/plain": [
       "shape: (3, 2)\n",
       "┌──────┬─────┐\n",
       "│ A    ┆ B   │\n",
       "│ ---  ┆ --- │\n",
       "│ f64  ┆ f64 │\n",
       "╞══════╪═════╡\n",
       "│ 1.0  ┆ 4.0 │\n",
       "│ 2.0  ┆ 5.0 │\n",
       "│ null ┆ 6.0 │\n",
       "└──────┴─────┘"
      ]
     },
     "execution_count": 52,
     "metadata": {},
     "output_type": "execute_result"
    }
   ],
   "source": [
    "pl_polars_na.interpolate()"
   ]
  },
  {
   "cell_type": "markdown",
   "id": "7b711622-008a-4743-beea-f9c57355cdb7",
   "metadata": {},
   "source": [
    "---\n",
    "### map --->"
   ]
  },
  {
   "cell_type": "code",
   "execution_count": 53,
   "id": "3a363287-2ee4-4a6c-853d-50db0a2b9122",
   "metadata": {},
   "outputs": [],
   "source": [
    "sales_data_pd = pd.read_csv(\"C:\\\\Users\\\\User\\\\Downloads\\\\sales_data.csv\")\n",
    "sales_data_pl = pl.read_csv(\"C:\\\\Users\\\\User\\\\Downloads\\\\sales_data.csv\")"
   ]
  },
  {
   "cell_type": "code",
   "execution_count": 54,
   "id": "012ef5b1-03e6-4797-be69-a3bf55e0bc85",
   "metadata": {},
   "outputs": [],
   "source": [
    "def double_value(x):\n",
    "    return x * 2"
   ]
  },
  {
   "cell_type": "code",
   "execution_count": 55,
   "id": "873c45d5-b0a0-4dad-a7d4-2426bca2934b",
   "metadata": {},
   "outputs": [
    {
     "data": {
      "text/html": [
       "<div>\n",
       "<style scoped>\n",
       "    .dataframe tbody tr th:only-of-type {\n",
       "        vertical-align: middle;\n",
       "    }\n",
       "\n",
       "    .dataframe tbody tr th {\n",
       "        vertical-align: top;\n",
       "    }\n",
       "\n",
       "    .dataframe thead th {\n",
       "        text-align: right;\n",
       "    }\n",
       "</style>\n",
       "<table border=\"1\" class=\"dataframe\">\n",
       "  <thead>\n",
       "    <tr style=\"text-align: right;\">\n",
       "      <th></th>\n",
       "      <th>Date</th>\n",
       "      <th>Day</th>\n",
       "      <th>Month</th>\n",
       "      <th>Year</th>\n",
       "      <th>Customer_Age</th>\n",
       "      <th>Age_Group</th>\n",
       "      <th>Customer_Gender</th>\n",
       "      <th>Country</th>\n",
       "      <th>State</th>\n",
       "      <th>Product_Category</th>\n",
       "      <th>Sub_Category</th>\n",
       "      <th>Product</th>\n",
       "      <th>Order_Quantity</th>\n",
       "      <th>Unit_Cost</th>\n",
       "      <th>Unit_Price</th>\n",
       "      <th>Profit</th>\n",
       "      <th>Cost</th>\n",
       "      <th>Revenue</th>\n",
       "    </tr>\n",
       "  </thead>\n",
       "  <tbody>\n",
       "    <tr>\n",
       "      <th>0</th>\n",
       "      <td>2013-11-262013-11-26</td>\n",
       "      <td>52</td>\n",
       "      <td>NovemberNovember</td>\n",
       "      <td>4026</td>\n",
       "      <td>38</td>\n",
       "      <td>Youth (&lt;25)Youth (&lt;25)</td>\n",
       "      <td>MM</td>\n",
       "      <td>CanadaCanada</td>\n",
       "      <td>British ColumbiaBritish Columbia</td>\n",
       "      <td>AccessoriesAccessories</td>\n",
       "      <td>Bike RacksBike Racks</td>\n",
       "      <td>Hitch Rack - 4-BikeHitch Rack - 4-Bike</td>\n",
       "      <td>16</td>\n",
       "      <td>90</td>\n",
       "      <td>240</td>\n",
       "      <td>1180</td>\n",
       "      <td>720</td>\n",
       "      <td>1900</td>\n",
       "    </tr>\n",
       "    <tr>\n",
       "      <th>1</th>\n",
       "      <td>2015-11-262015-11-26</td>\n",
       "      <td>52</td>\n",
       "      <td>NovemberNovember</td>\n",
       "      <td>4030</td>\n",
       "      <td>38</td>\n",
       "      <td>Youth (&lt;25)Youth (&lt;25)</td>\n",
       "      <td>MM</td>\n",
       "      <td>CanadaCanada</td>\n",
       "      <td>British ColumbiaBritish Columbia</td>\n",
       "      <td>AccessoriesAccessories</td>\n",
       "      <td>Bike RacksBike Racks</td>\n",
       "      <td>Hitch Rack - 4-BikeHitch Rack - 4-Bike</td>\n",
       "      <td>16</td>\n",
       "      <td>90</td>\n",
       "      <td>240</td>\n",
       "      <td>1180</td>\n",
       "      <td>720</td>\n",
       "      <td>1900</td>\n",
       "    </tr>\n",
       "    <tr>\n",
       "      <th>2</th>\n",
       "      <td>2014-03-232014-03-23</td>\n",
       "      <td>46</td>\n",
       "      <td>MarchMarch</td>\n",
       "      <td>4028</td>\n",
       "      <td>98</td>\n",
       "      <td>Adults (35-64)Adults (35-64)</td>\n",
       "      <td>MM</td>\n",
       "      <td>AustraliaAustralia</td>\n",
       "      <td>New South WalesNew South Wales</td>\n",
       "      <td>AccessoriesAccessories</td>\n",
       "      <td>Bike RacksBike Racks</td>\n",
       "      <td>Hitch Rack - 4-BikeHitch Rack - 4-Bike</td>\n",
       "      <td>46</td>\n",
       "      <td>90</td>\n",
       "      <td>240</td>\n",
       "      <td>2732</td>\n",
       "      <td>2070</td>\n",
       "      <td>4802</td>\n",
       "    </tr>\n",
       "    <tr>\n",
       "      <th>3</th>\n",
       "      <td>2016-03-232016-03-23</td>\n",
       "      <td>46</td>\n",
       "      <td>MarchMarch</td>\n",
       "      <td>4032</td>\n",
       "      <td>98</td>\n",
       "      <td>Adults (35-64)Adults (35-64)</td>\n",
       "      <td>MM</td>\n",
       "      <td>AustraliaAustralia</td>\n",
       "      <td>New South WalesNew South Wales</td>\n",
       "      <td>AccessoriesAccessories</td>\n",
       "      <td>Bike RacksBike Racks</td>\n",
       "      <td>Hitch Rack - 4-BikeHitch Rack - 4-Bike</td>\n",
       "      <td>40</td>\n",
       "      <td>90</td>\n",
       "      <td>240</td>\n",
       "      <td>2376</td>\n",
       "      <td>1800</td>\n",
       "      <td>4176</td>\n",
       "    </tr>\n",
       "    <tr>\n",
       "      <th>4</th>\n",
       "      <td>2014-05-152014-05-15</td>\n",
       "      <td>30</td>\n",
       "      <td>MayMay</td>\n",
       "      <td>4028</td>\n",
       "      <td>94</td>\n",
       "      <td>Adults (35-64)Adults (35-64)</td>\n",
       "      <td>FF</td>\n",
       "      <td>AustraliaAustralia</td>\n",
       "      <td>New South WalesNew South Wales</td>\n",
       "      <td>AccessoriesAccessories</td>\n",
       "      <td>Bike RacksBike Racks</td>\n",
       "      <td>Hitch Rack - 4-BikeHitch Rack - 4-Bike</td>\n",
       "      <td>8</td>\n",
       "      <td>90</td>\n",
       "      <td>240</td>\n",
       "      <td>476</td>\n",
       "      <td>360</td>\n",
       "      <td>836</td>\n",
       "    </tr>\n",
       "    <tr>\n",
       "      <th>...</th>\n",
       "      <td>...</td>\n",
       "      <td>...</td>\n",
       "      <td>...</td>\n",
       "      <td>...</td>\n",
       "      <td>...</td>\n",
       "      <td>...</td>\n",
       "      <td>...</td>\n",
       "      <td>...</td>\n",
       "      <td>...</td>\n",
       "      <td>...</td>\n",
       "      <td>...</td>\n",
       "      <td>...</td>\n",
       "      <td>...</td>\n",
       "      <td>...</td>\n",
       "      <td>...</td>\n",
       "      <td>...</td>\n",
       "      <td>...</td>\n",
       "      <td>...</td>\n",
       "    </tr>\n",
       "    <tr>\n",
       "      <th>113031</th>\n",
       "      <td>2016-04-122016-04-12</td>\n",
       "      <td>24</td>\n",
       "      <td>AprilApril</td>\n",
       "      <td>4032</td>\n",
       "      <td>82</td>\n",
       "      <td>Adults (35-64)Adults (35-64)</td>\n",
       "      <td>MM</td>\n",
       "      <td>United KingdomUnited Kingdom</td>\n",
       "      <td>EnglandEngland</td>\n",
       "      <td>ClothingClothing</td>\n",
       "      <td>VestsVests</td>\n",
       "      <td>Classic Vest, SClassic Vest, S</td>\n",
       "      <td>6</td>\n",
       "      <td>48</td>\n",
       "      <td>128</td>\n",
       "      <td>224</td>\n",
       "      <td>144</td>\n",
       "      <td>368</td>\n",
       "    </tr>\n",
       "    <tr>\n",
       "      <th>113032</th>\n",
       "      <td>2014-04-022014-04-02</td>\n",
       "      <td>4</td>\n",
       "      <td>AprilApril</td>\n",
       "      <td>4028</td>\n",
       "      <td>36</td>\n",
       "      <td>Youth (&lt;25)Youth (&lt;25)</td>\n",
       "      <td>MM</td>\n",
       "      <td>AustraliaAustralia</td>\n",
       "      <td>QueenslandQueensland</td>\n",
       "      <td>ClothingClothing</td>\n",
       "      <td>VestsVests</td>\n",
       "      <td>Classic Vest, MClassic Vest, M</td>\n",
       "      <td>44</td>\n",
       "      <td>48</td>\n",
       "      <td>128</td>\n",
       "      <td>1310</td>\n",
       "      <td>1056</td>\n",
       "      <td>2366</td>\n",
       "    </tr>\n",
       "    <tr>\n",
       "      <th>113033</th>\n",
       "      <td>2016-04-022016-04-02</td>\n",
       "      <td>4</td>\n",
       "      <td>AprilApril</td>\n",
       "      <td>4032</td>\n",
       "      <td>36</td>\n",
       "      <td>Youth (&lt;25)Youth (&lt;25)</td>\n",
       "      <td>MM</td>\n",
       "      <td>AustraliaAustralia</td>\n",
       "      <td>QueenslandQueensland</td>\n",
       "      <td>ClothingClothing</td>\n",
       "      <td>VestsVests</td>\n",
       "      <td>Classic Vest, MClassic Vest, M</td>\n",
       "      <td>44</td>\n",
       "      <td>48</td>\n",
       "      <td>128</td>\n",
       "      <td>1310</td>\n",
       "      <td>1056</td>\n",
       "      <td>2366</td>\n",
       "    </tr>\n",
       "    <tr>\n",
       "      <th>113034</th>\n",
       "      <td>2014-03-042014-03-04</td>\n",
       "      <td>8</td>\n",
       "      <td>MarchMarch</td>\n",
       "      <td>4028</td>\n",
       "      <td>74</td>\n",
       "      <td>Adults (35-64)Adults (35-64)</td>\n",
       "      <td>FF</td>\n",
       "      <td>FranceFrance</td>\n",
       "      <td>Seine (Paris)Seine (Paris)</td>\n",
       "      <td>ClothingClothing</td>\n",
       "      <td>VestsVests</td>\n",
       "      <td>Classic Vest, LClassic Vest, L</td>\n",
       "      <td>48</td>\n",
       "      <td>48</td>\n",
       "      <td>128</td>\n",
       "      <td>1368</td>\n",
       "      <td>1152</td>\n",
       "      <td>2520</td>\n",
       "    </tr>\n",
       "    <tr>\n",
       "      <th>113035</th>\n",
       "      <td>2016-03-042016-03-04</td>\n",
       "      <td>8</td>\n",
       "      <td>MarchMarch</td>\n",
       "      <td>4032</td>\n",
       "      <td>74</td>\n",
       "      <td>Adults (35-64)Adults (35-64)</td>\n",
       "      <td>FF</td>\n",
       "      <td>FranceFrance</td>\n",
       "      <td>Seine (Paris)Seine (Paris)</td>\n",
       "      <td>ClothingClothing</td>\n",
       "      <td>VestsVests</td>\n",
       "      <td>Classic Vest, LClassic Vest, L</td>\n",
       "      <td>46</td>\n",
       "      <td>48</td>\n",
       "      <td>128</td>\n",
       "      <td>1310</td>\n",
       "      <td>1104</td>\n",
       "      <td>2414</td>\n",
       "    </tr>\n",
       "  </tbody>\n",
       "</table>\n",
       "<p>113036 rows × 18 columns</p>\n",
       "</div>"
      ],
      "text/plain": [
       "                        Date  Day             Month  Year  Customer_Age  \\\n",
       "0       2013-11-262013-11-26   52  NovemberNovember  4026            38   \n",
       "1       2015-11-262015-11-26   52  NovemberNovember  4030            38   \n",
       "2       2014-03-232014-03-23   46        MarchMarch  4028            98   \n",
       "3       2016-03-232016-03-23   46        MarchMarch  4032            98   \n",
       "4       2014-05-152014-05-15   30            MayMay  4028            94   \n",
       "...                      ...  ...               ...   ...           ...   \n",
       "113031  2016-04-122016-04-12   24        AprilApril  4032            82   \n",
       "113032  2014-04-022014-04-02    4        AprilApril  4028            36   \n",
       "113033  2016-04-022016-04-02    4        AprilApril  4032            36   \n",
       "113034  2014-03-042014-03-04    8        MarchMarch  4028            74   \n",
       "113035  2016-03-042016-03-04    8        MarchMarch  4032            74   \n",
       "\n",
       "                           Age_Group Customer_Gender  \\\n",
       "0             Youth (<25)Youth (<25)              MM   \n",
       "1             Youth (<25)Youth (<25)              MM   \n",
       "2       Adults (35-64)Adults (35-64)              MM   \n",
       "3       Adults (35-64)Adults (35-64)              MM   \n",
       "4       Adults (35-64)Adults (35-64)              FF   \n",
       "...                              ...             ...   \n",
       "113031  Adults (35-64)Adults (35-64)              MM   \n",
       "113032        Youth (<25)Youth (<25)              MM   \n",
       "113033        Youth (<25)Youth (<25)              MM   \n",
       "113034  Adults (35-64)Adults (35-64)              FF   \n",
       "113035  Adults (35-64)Adults (35-64)              FF   \n",
       "\n",
       "                             Country                             State  \\\n",
       "0                       CanadaCanada  British ColumbiaBritish Columbia   \n",
       "1                       CanadaCanada  British ColumbiaBritish Columbia   \n",
       "2                 AustraliaAustralia    New South WalesNew South Wales   \n",
       "3                 AustraliaAustralia    New South WalesNew South Wales   \n",
       "4                 AustraliaAustralia    New South WalesNew South Wales   \n",
       "...                              ...                               ...   \n",
       "113031  United KingdomUnited Kingdom                    EnglandEngland   \n",
       "113032            AustraliaAustralia              QueenslandQueensland   \n",
       "113033            AustraliaAustralia              QueenslandQueensland   \n",
       "113034                  FranceFrance        Seine (Paris)Seine (Paris)   \n",
       "113035                  FranceFrance        Seine (Paris)Seine (Paris)   \n",
       "\n",
       "              Product_Category          Sub_Category  \\\n",
       "0       AccessoriesAccessories  Bike RacksBike Racks   \n",
       "1       AccessoriesAccessories  Bike RacksBike Racks   \n",
       "2       AccessoriesAccessories  Bike RacksBike Racks   \n",
       "3       AccessoriesAccessories  Bike RacksBike Racks   \n",
       "4       AccessoriesAccessories  Bike RacksBike Racks   \n",
       "...                        ...                   ...   \n",
       "113031        ClothingClothing            VestsVests   \n",
       "113032        ClothingClothing            VestsVests   \n",
       "113033        ClothingClothing            VestsVests   \n",
       "113034        ClothingClothing            VestsVests   \n",
       "113035        ClothingClothing            VestsVests   \n",
       "\n",
       "                                       Product  Order_Quantity  Unit_Cost  \\\n",
       "0       Hitch Rack - 4-BikeHitch Rack - 4-Bike              16         90   \n",
       "1       Hitch Rack - 4-BikeHitch Rack - 4-Bike              16         90   \n",
       "2       Hitch Rack - 4-BikeHitch Rack - 4-Bike              46         90   \n",
       "3       Hitch Rack - 4-BikeHitch Rack - 4-Bike              40         90   \n",
       "4       Hitch Rack - 4-BikeHitch Rack - 4-Bike               8         90   \n",
       "...                                        ...             ...        ...   \n",
       "113031          Classic Vest, SClassic Vest, S               6         48   \n",
       "113032          Classic Vest, MClassic Vest, M              44         48   \n",
       "113033          Classic Vest, MClassic Vest, M              44         48   \n",
       "113034          Classic Vest, LClassic Vest, L              48         48   \n",
       "113035          Classic Vest, LClassic Vest, L              46         48   \n",
       "\n",
       "        Unit_Price  Profit  Cost  Revenue  \n",
       "0              240    1180   720     1900  \n",
       "1              240    1180   720     1900  \n",
       "2              240    2732  2070     4802  \n",
       "3              240    2376  1800     4176  \n",
       "4              240     476   360      836  \n",
       "...            ...     ...   ...      ...  \n",
       "113031         128     224   144      368  \n",
       "113032         128    1310  1056     2366  \n",
       "113033         128    1310  1056     2366  \n",
       "113034         128    1368  1152     2520  \n",
       "113035         128    1310  1104     2414  \n",
       "\n",
       "[113036 rows x 18 columns]"
      ]
     },
     "execution_count": 55,
     "metadata": {},
     "output_type": "execute_result"
    }
   ],
   "source": [
    "sales_data_pd.apply(double_value)"
   ]
  },
  {
   "cell_type": "code",
   "execution_count": 56,
   "id": "c21d4f52-ff80-4ae0-aa2c-91c043193673",
   "metadata": {},
   "outputs": [
    {
     "data": {
      "text/plain": [
       "0         52\n",
       "1         52\n",
       "2         46\n",
       "3         46\n",
       "4         30\n",
       "          ..\n",
       "113031    24\n",
       "113032     4\n",
       "113033     4\n",
       "113034     8\n",
       "113035     8\n",
       "Name: Day, Length: 113036, dtype: int64"
      ]
     },
     "execution_count": 56,
     "metadata": {},
     "output_type": "execute_result"
    }
   ],
   "source": [
    "sales_data_pd[\"Day\"].map(double_value)"
   ]
  },
  {
   "cell_type": "code",
   "execution_count": 57,
   "id": "8306f198-adad-4f81-9518-5cd917e41793",
   "metadata": {},
   "outputs": [
    {
     "data": {
      "text/html": [
       "<div>\n",
       "<style scoped>\n",
       "    .dataframe tbody tr th:only-of-type {\n",
       "        vertical-align: middle;\n",
       "    }\n",
       "\n",
       "    .dataframe tbody tr th {\n",
       "        vertical-align: top;\n",
       "    }\n",
       "\n",
       "    .dataframe thead th {\n",
       "        text-align: right;\n",
       "    }\n",
       "</style>\n",
       "<table border=\"1\" class=\"dataframe\">\n",
       "  <thead>\n",
       "    <tr style=\"text-align: right;\">\n",
       "      <th></th>\n",
       "      <th>Date</th>\n",
       "      <th>Day</th>\n",
       "      <th>Month</th>\n",
       "      <th>Year</th>\n",
       "      <th>Customer_Age</th>\n",
       "      <th>Age_Group</th>\n",
       "      <th>Customer_Gender</th>\n",
       "      <th>Country</th>\n",
       "      <th>State</th>\n",
       "      <th>Product_Category</th>\n",
       "      <th>Sub_Category</th>\n",
       "      <th>Product</th>\n",
       "      <th>Order_Quantity</th>\n",
       "      <th>Unit_Cost</th>\n",
       "      <th>Unit_Price</th>\n",
       "      <th>Profit</th>\n",
       "      <th>Cost</th>\n",
       "      <th>Revenue</th>\n",
       "    </tr>\n",
       "  </thead>\n",
       "  <tbody>\n",
       "    <tr>\n",
       "      <th>0</th>\n",
       "      <td>2013-11-262013-11-26</td>\n",
       "      <td>52</td>\n",
       "      <td>NovemberNovember</td>\n",
       "      <td>4026</td>\n",
       "      <td>38</td>\n",
       "      <td>Youth (&lt;25)Youth (&lt;25)</td>\n",
       "      <td>MM</td>\n",
       "      <td>CanadaCanada</td>\n",
       "      <td>British ColumbiaBritish Columbia</td>\n",
       "      <td>AccessoriesAccessories</td>\n",
       "      <td>Bike RacksBike Racks</td>\n",
       "      <td>Hitch Rack - 4-BikeHitch Rack - 4-Bike</td>\n",
       "      <td>16</td>\n",
       "      <td>90</td>\n",
       "      <td>240</td>\n",
       "      <td>1180</td>\n",
       "      <td>720</td>\n",
       "      <td>1900</td>\n",
       "    </tr>\n",
       "    <tr>\n",
       "      <th>1</th>\n",
       "      <td>2015-11-262015-11-26</td>\n",
       "      <td>52</td>\n",
       "      <td>NovemberNovember</td>\n",
       "      <td>4030</td>\n",
       "      <td>38</td>\n",
       "      <td>Youth (&lt;25)Youth (&lt;25)</td>\n",
       "      <td>MM</td>\n",
       "      <td>CanadaCanada</td>\n",
       "      <td>British ColumbiaBritish Columbia</td>\n",
       "      <td>AccessoriesAccessories</td>\n",
       "      <td>Bike RacksBike Racks</td>\n",
       "      <td>Hitch Rack - 4-BikeHitch Rack - 4-Bike</td>\n",
       "      <td>16</td>\n",
       "      <td>90</td>\n",
       "      <td>240</td>\n",
       "      <td>1180</td>\n",
       "      <td>720</td>\n",
       "      <td>1900</td>\n",
       "    </tr>\n",
       "    <tr>\n",
       "      <th>2</th>\n",
       "      <td>2014-03-232014-03-23</td>\n",
       "      <td>46</td>\n",
       "      <td>MarchMarch</td>\n",
       "      <td>4028</td>\n",
       "      <td>98</td>\n",
       "      <td>Adults (35-64)Adults (35-64)</td>\n",
       "      <td>MM</td>\n",
       "      <td>AustraliaAustralia</td>\n",
       "      <td>New South WalesNew South Wales</td>\n",
       "      <td>AccessoriesAccessories</td>\n",
       "      <td>Bike RacksBike Racks</td>\n",
       "      <td>Hitch Rack - 4-BikeHitch Rack - 4-Bike</td>\n",
       "      <td>46</td>\n",
       "      <td>90</td>\n",
       "      <td>240</td>\n",
       "      <td>2732</td>\n",
       "      <td>2070</td>\n",
       "      <td>4802</td>\n",
       "    </tr>\n",
       "    <tr>\n",
       "      <th>3</th>\n",
       "      <td>2016-03-232016-03-23</td>\n",
       "      <td>46</td>\n",
       "      <td>MarchMarch</td>\n",
       "      <td>4032</td>\n",
       "      <td>98</td>\n",
       "      <td>Adults (35-64)Adults (35-64)</td>\n",
       "      <td>MM</td>\n",
       "      <td>AustraliaAustralia</td>\n",
       "      <td>New South WalesNew South Wales</td>\n",
       "      <td>AccessoriesAccessories</td>\n",
       "      <td>Bike RacksBike Racks</td>\n",
       "      <td>Hitch Rack - 4-BikeHitch Rack - 4-Bike</td>\n",
       "      <td>40</td>\n",
       "      <td>90</td>\n",
       "      <td>240</td>\n",
       "      <td>2376</td>\n",
       "      <td>1800</td>\n",
       "      <td>4176</td>\n",
       "    </tr>\n",
       "    <tr>\n",
       "      <th>4</th>\n",
       "      <td>2014-05-152014-05-15</td>\n",
       "      <td>30</td>\n",
       "      <td>MayMay</td>\n",
       "      <td>4028</td>\n",
       "      <td>94</td>\n",
       "      <td>Adults (35-64)Adults (35-64)</td>\n",
       "      <td>FF</td>\n",
       "      <td>AustraliaAustralia</td>\n",
       "      <td>New South WalesNew South Wales</td>\n",
       "      <td>AccessoriesAccessories</td>\n",
       "      <td>Bike RacksBike Racks</td>\n",
       "      <td>Hitch Rack - 4-BikeHitch Rack - 4-Bike</td>\n",
       "      <td>8</td>\n",
       "      <td>90</td>\n",
       "      <td>240</td>\n",
       "      <td>476</td>\n",
       "      <td>360</td>\n",
       "      <td>836</td>\n",
       "    </tr>\n",
       "    <tr>\n",
       "      <th>...</th>\n",
       "      <td>...</td>\n",
       "      <td>...</td>\n",
       "      <td>...</td>\n",
       "      <td>...</td>\n",
       "      <td>...</td>\n",
       "      <td>...</td>\n",
       "      <td>...</td>\n",
       "      <td>...</td>\n",
       "      <td>...</td>\n",
       "      <td>...</td>\n",
       "      <td>...</td>\n",
       "      <td>...</td>\n",
       "      <td>...</td>\n",
       "      <td>...</td>\n",
       "      <td>...</td>\n",
       "      <td>...</td>\n",
       "      <td>...</td>\n",
       "      <td>...</td>\n",
       "    </tr>\n",
       "    <tr>\n",
       "      <th>113031</th>\n",
       "      <td>2016-04-122016-04-12</td>\n",
       "      <td>24</td>\n",
       "      <td>AprilApril</td>\n",
       "      <td>4032</td>\n",
       "      <td>82</td>\n",
       "      <td>Adults (35-64)Adults (35-64)</td>\n",
       "      <td>MM</td>\n",
       "      <td>United KingdomUnited Kingdom</td>\n",
       "      <td>EnglandEngland</td>\n",
       "      <td>ClothingClothing</td>\n",
       "      <td>VestsVests</td>\n",
       "      <td>Classic Vest, SClassic Vest, S</td>\n",
       "      <td>6</td>\n",
       "      <td>48</td>\n",
       "      <td>128</td>\n",
       "      <td>224</td>\n",
       "      <td>144</td>\n",
       "      <td>368</td>\n",
       "    </tr>\n",
       "    <tr>\n",
       "      <th>113032</th>\n",
       "      <td>2014-04-022014-04-02</td>\n",
       "      <td>4</td>\n",
       "      <td>AprilApril</td>\n",
       "      <td>4028</td>\n",
       "      <td>36</td>\n",
       "      <td>Youth (&lt;25)Youth (&lt;25)</td>\n",
       "      <td>MM</td>\n",
       "      <td>AustraliaAustralia</td>\n",
       "      <td>QueenslandQueensland</td>\n",
       "      <td>ClothingClothing</td>\n",
       "      <td>VestsVests</td>\n",
       "      <td>Classic Vest, MClassic Vest, M</td>\n",
       "      <td>44</td>\n",
       "      <td>48</td>\n",
       "      <td>128</td>\n",
       "      <td>1310</td>\n",
       "      <td>1056</td>\n",
       "      <td>2366</td>\n",
       "    </tr>\n",
       "    <tr>\n",
       "      <th>113033</th>\n",
       "      <td>2016-04-022016-04-02</td>\n",
       "      <td>4</td>\n",
       "      <td>AprilApril</td>\n",
       "      <td>4032</td>\n",
       "      <td>36</td>\n",
       "      <td>Youth (&lt;25)Youth (&lt;25)</td>\n",
       "      <td>MM</td>\n",
       "      <td>AustraliaAustralia</td>\n",
       "      <td>QueenslandQueensland</td>\n",
       "      <td>ClothingClothing</td>\n",
       "      <td>VestsVests</td>\n",
       "      <td>Classic Vest, MClassic Vest, M</td>\n",
       "      <td>44</td>\n",
       "      <td>48</td>\n",
       "      <td>128</td>\n",
       "      <td>1310</td>\n",
       "      <td>1056</td>\n",
       "      <td>2366</td>\n",
       "    </tr>\n",
       "    <tr>\n",
       "      <th>113034</th>\n",
       "      <td>2014-03-042014-03-04</td>\n",
       "      <td>8</td>\n",
       "      <td>MarchMarch</td>\n",
       "      <td>4028</td>\n",
       "      <td>74</td>\n",
       "      <td>Adults (35-64)Adults (35-64)</td>\n",
       "      <td>FF</td>\n",
       "      <td>FranceFrance</td>\n",
       "      <td>Seine (Paris)Seine (Paris)</td>\n",
       "      <td>ClothingClothing</td>\n",
       "      <td>VestsVests</td>\n",
       "      <td>Classic Vest, LClassic Vest, L</td>\n",
       "      <td>48</td>\n",
       "      <td>48</td>\n",
       "      <td>128</td>\n",
       "      <td>1368</td>\n",
       "      <td>1152</td>\n",
       "      <td>2520</td>\n",
       "    </tr>\n",
       "    <tr>\n",
       "      <th>113035</th>\n",
       "      <td>2016-03-042016-03-04</td>\n",
       "      <td>8</td>\n",
       "      <td>MarchMarch</td>\n",
       "      <td>4032</td>\n",
       "      <td>74</td>\n",
       "      <td>Adults (35-64)Adults (35-64)</td>\n",
       "      <td>FF</td>\n",
       "      <td>FranceFrance</td>\n",
       "      <td>Seine (Paris)Seine (Paris)</td>\n",
       "      <td>ClothingClothing</td>\n",
       "      <td>VestsVests</td>\n",
       "      <td>Classic Vest, LClassic Vest, L</td>\n",
       "      <td>46</td>\n",
       "      <td>48</td>\n",
       "      <td>128</td>\n",
       "      <td>1310</td>\n",
       "      <td>1104</td>\n",
       "      <td>2414</td>\n",
       "    </tr>\n",
       "  </tbody>\n",
       "</table>\n",
       "<p>113036 rows × 18 columns</p>\n",
       "</div>"
      ],
      "text/plain": [
       "                        Date  Day             Month  Year  Customer_Age  \\\n",
       "0       2013-11-262013-11-26   52  NovemberNovember  4026            38   \n",
       "1       2015-11-262015-11-26   52  NovemberNovember  4030            38   \n",
       "2       2014-03-232014-03-23   46        MarchMarch  4028            98   \n",
       "3       2016-03-232016-03-23   46        MarchMarch  4032            98   \n",
       "4       2014-05-152014-05-15   30            MayMay  4028            94   \n",
       "...                      ...  ...               ...   ...           ...   \n",
       "113031  2016-04-122016-04-12   24        AprilApril  4032            82   \n",
       "113032  2014-04-022014-04-02    4        AprilApril  4028            36   \n",
       "113033  2016-04-022016-04-02    4        AprilApril  4032            36   \n",
       "113034  2014-03-042014-03-04    8        MarchMarch  4028            74   \n",
       "113035  2016-03-042016-03-04    8        MarchMarch  4032            74   \n",
       "\n",
       "                           Age_Group Customer_Gender  \\\n",
       "0             Youth (<25)Youth (<25)              MM   \n",
       "1             Youth (<25)Youth (<25)              MM   \n",
       "2       Adults (35-64)Adults (35-64)              MM   \n",
       "3       Adults (35-64)Adults (35-64)              MM   \n",
       "4       Adults (35-64)Adults (35-64)              FF   \n",
       "...                              ...             ...   \n",
       "113031  Adults (35-64)Adults (35-64)              MM   \n",
       "113032        Youth (<25)Youth (<25)              MM   \n",
       "113033        Youth (<25)Youth (<25)              MM   \n",
       "113034  Adults (35-64)Adults (35-64)              FF   \n",
       "113035  Adults (35-64)Adults (35-64)              FF   \n",
       "\n",
       "                             Country                             State  \\\n",
       "0                       CanadaCanada  British ColumbiaBritish Columbia   \n",
       "1                       CanadaCanada  British ColumbiaBritish Columbia   \n",
       "2                 AustraliaAustralia    New South WalesNew South Wales   \n",
       "3                 AustraliaAustralia    New South WalesNew South Wales   \n",
       "4                 AustraliaAustralia    New South WalesNew South Wales   \n",
       "...                              ...                               ...   \n",
       "113031  United KingdomUnited Kingdom                    EnglandEngland   \n",
       "113032            AustraliaAustralia              QueenslandQueensland   \n",
       "113033            AustraliaAustralia              QueenslandQueensland   \n",
       "113034                  FranceFrance        Seine (Paris)Seine (Paris)   \n",
       "113035                  FranceFrance        Seine (Paris)Seine (Paris)   \n",
       "\n",
       "              Product_Category          Sub_Category  \\\n",
       "0       AccessoriesAccessories  Bike RacksBike Racks   \n",
       "1       AccessoriesAccessories  Bike RacksBike Racks   \n",
       "2       AccessoriesAccessories  Bike RacksBike Racks   \n",
       "3       AccessoriesAccessories  Bike RacksBike Racks   \n",
       "4       AccessoriesAccessories  Bike RacksBike Racks   \n",
       "...                        ...                   ...   \n",
       "113031        ClothingClothing            VestsVests   \n",
       "113032        ClothingClothing            VestsVests   \n",
       "113033        ClothingClothing            VestsVests   \n",
       "113034        ClothingClothing            VestsVests   \n",
       "113035        ClothingClothing            VestsVests   \n",
       "\n",
       "                                       Product  Order_Quantity  Unit_Cost  \\\n",
       "0       Hitch Rack - 4-BikeHitch Rack - 4-Bike              16         90   \n",
       "1       Hitch Rack - 4-BikeHitch Rack - 4-Bike              16         90   \n",
       "2       Hitch Rack - 4-BikeHitch Rack - 4-Bike              46         90   \n",
       "3       Hitch Rack - 4-BikeHitch Rack - 4-Bike              40         90   \n",
       "4       Hitch Rack - 4-BikeHitch Rack - 4-Bike               8         90   \n",
       "...                                        ...             ...        ...   \n",
       "113031          Classic Vest, SClassic Vest, S               6         48   \n",
       "113032          Classic Vest, MClassic Vest, M              44         48   \n",
       "113033          Classic Vest, MClassic Vest, M              44         48   \n",
       "113034          Classic Vest, LClassic Vest, L              48         48   \n",
       "113035          Classic Vest, LClassic Vest, L              46         48   \n",
       "\n",
       "        Unit_Price  Profit  Cost  Revenue  \n",
       "0              240    1180   720     1900  \n",
       "1              240    1180   720     1900  \n",
       "2              240    2732  2070     4802  \n",
       "3              240    2376  1800     4176  \n",
       "4              240     476   360      836  \n",
       "...            ...     ...   ...      ...  \n",
       "113031         128     224   144      368  \n",
       "113032         128    1310  1056     2366  \n",
       "113033         128    1310  1056     2366  \n",
       "113034         128    1368  1152     2520  \n",
       "113035         128    1310  1104     2414  \n",
       "\n",
       "[113036 rows x 18 columns]"
      ]
     },
     "execution_count": 57,
     "metadata": {},
     "output_type": "execute_result"
    }
   ],
   "source": [
    "sales_data_pd.transform(lambda x: x * 2)"
   ]
  },
  {
   "cell_type": "markdown",
   "id": "203688b1-cde1-47e9-82cb-58173d7f2b2b",
   "metadata": {},
   "source": [
    "---\n",
    "### merging and joining --->"
   ]
  },
  {
   "cell_type": "code",
   "execution_count": 58,
   "id": "2b58ca5f-a8b1-4d8f-b353-fc05781aebbe",
   "metadata": {},
   "outputs": [],
   "source": [
    "df1 = pd.DataFrame({\"key\":[\"A\", \"B\", \"C\"], \"value\":[1, 2, 3]})\n",
    "df2 = pd.DataFrame({\"key\":[\"A\", \"B\"], \"value\":[1, 2]})"
   ]
  },
  {
   "cell_type": "code",
   "execution_count": 59,
   "id": "02da1127-ef08-44aa-95d5-5e4dd7cb0654",
   "metadata": {},
   "outputs": [
    {
     "data": {
      "text/html": [
       "<div>\n",
       "<style scoped>\n",
       "    .dataframe tbody tr th:only-of-type {\n",
       "        vertical-align: middle;\n",
       "    }\n",
       "\n",
       "    .dataframe tbody tr th {\n",
       "        vertical-align: top;\n",
       "    }\n",
       "\n",
       "    .dataframe thead th {\n",
       "        text-align: right;\n",
       "    }\n",
       "</style>\n",
       "<table border=\"1\" class=\"dataframe\">\n",
       "  <thead>\n",
       "    <tr style=\"text-align: right;\">\n",
       "      <th></th>\n",
       "      <th>key</th>\n",
       "      <th>value_x</th>\n",
       "      <th>value_y</th>\n",
       "    </tr>\n",
       "  </thead>\n",
       "  <tbody>\n",
       "    <tr>\n",
       "      <th>0</th>\n",
       "      <td>A</td>\n",
       "      <td>1</td>\n",
       "      <td>1</td>\n",
       "    </tr>\n",
       "    <tr>\n",
       "      <th>1</th>\n",
       "      <td>B</td>\n",
       "      <td>2</td>\n",
       "      <td>2</td>\n",
       "    </tr>\n",
       "  </tbody>\n",
       "</table>\n",
       "</div>"
      ],
      "text/plain": [
       "  key  value_x  value_y\n",
       "0   A        1        1\n",
       "1   B        2        2"
      ]
     },
     "execution_count": 59,
     "metadata": {},
     "output_type": "execute_result"
    }
   ],
   "source": [
    "pd.merge(df1, df2, on=\"key\", how=\"inner\")"
   ]
  },
  {
   "cell_type": "code",
   "execution_count": 60,
   "id": "e8cfd539-d48a-4c07-9bab-9c83aa47dd72",
   "metadata": {},
   "outputs": [
    {
     "data": {
      "text/html": [
       "<div>\n",
       "<style scoped>\n",
       "    .dataframe tbody tr th:only-of-type {\n",
       "        vertical-align: middle;\n",
       "    }\n",
       "\n",
       "    .dataframe tbody tr th {\n",
       "        vertical-align: top;\n",
       "    }\n",
       "\n",
       "    .dataframe thead th {\n",
       "        text-align: right;\n",
       "    }\n",
       "</style>\n",
       "<table border=\"1\" class=\"dataframe\">\n",
       "  <thead>\n",
       "    <tr style=\"text-align: right;\">\n",
       "      <th></th>\n",
       "      <th>value_left</th>\n",
       "      <th>value_right</th>\n",
       "    </tr>\n",
       "    <tr>\n",
       "      <th>key</th>\n",
       "      <th></th>\n",
       "      <th></th>\n",
       "    </tr>\n",
       "  </thead>\n",
       "  <tbody>\n",
       "    <tr>\n",
       "      <th>A</th>\n",
       "      <td>1</td>\n",
       "      <td>1</td>\n",
       "    </tr>\n",
       "    <tr>\n",
       "      <th>B</th>\n",
       "      <td>2</td>\n",
       "      <td>2</td>\n",
       "    </tr>\n",
       "  </tbody>\n",
       "</table>\n",
       "</div>"
      ],
      "text/plain": [
       "     value_left  value_right\n",
       "key                         \n",
       "A             1            1\n",
       "B             2            2"
      ]
     },
     "execution_count": 60,
     "metadata": {},
     "output_type": "execute_result"
    }
   ],
   "source": [
    "df1.set_index(\"key\").join(df2.set_index(\"key\"), how=\"inner\", lsuffix='_left', rsuffix='_right')"
   ]
  },
  {
   "cell_type": "code",
   "execution_count": 61,
   "id": "b52c2c99-e9f4-40ea-a9ad-04f818fb6d19",
   "metadata": {},
   "outputs": [
    {
     "data": {
      "text/html": [
       "<div>\n",
       "<style scoped>\n",
       "    .dataframe tbody tr th:only-of-type {\n",
       "        vertical-align: middle;\n",
       "    }\n",
       "\n",
       "    .dataframe tbody tr th {\n",
       "        vertical-align: top;\n",
       "    }\n",
       "\n",
       "    .dataframe thead th {\n",
       "        text-align: right;\n",
       "    }\n",
       "</style>\n",
       "<table border=\"1\" class=\"dataframe\">\n",
       "  <thead>\n",
       "    <tr style=\"text-align: right;\">\n",
       "      <th></th>\n",
       "      <th>key</th>\n",
       "      <th>value</th>\n",
       "      <th>key</th>\n",
       "      <th>value</th>\n",
       "    </tr>\n",
       "  </thead>\n",
       "  <tbody>\n",
       "    <tr>\n",
       "      <th>0</th>\n",
       "      <td>A</td>\n",
       "      <td>1</td>\n",
       "      <td>A</td>\n",
       "      <td>1.0</td>\n",
       "    </tr>\n",
       "    <tr>\n",
       "      <th>1</th>\n",
       "      <td>B</td>\n",
       "      <td>2</td>\n",
       "      <td>B</td>\n",
       "      <td>2.0</td>\n",
       "    </tr>\n",
       "    <tr>\n",
       "      <th>2</th>\n",
       "      <td>C</td>\n",
       "      <td>3</td>\n",
       "      <td>NaN</td>\n",
       "      <td>NaN</td>\n",
       "    </tr>\n",
       "  </tbody>\n",
       "</table>\n",
       "</div>"
      ],
      "text/plain": [
       "  key  value  key  value\n",
       "0   A      1    A    1.0\n",
       "1   B      2    B    2.0\n",
       "2   C      3  NaN    NaN"
      ]
     },
     "execution_count": 61,
     "metadata": {},
     "output_type": "execute_result"
    }
   ],
   "source": [
    "pd.concat([df1, df2], axis=1)"
   ]
  },
  {
   "cell_type": "markdown",
   "id": "38ddc87b-96a8-46e6-890a-ce3f60909f41",
   "metadata": {},
   "source": [
    "---\n",
    "### strings --->"
   ]
  },
  {
   "cell_type": "code",
   "execution_count": 62,
   "id": "caf07962-b980-4640-9ed3-b51edf0993b6",
   "metadata": {},
   "outputs": [
    {
     "data": {
      "text/plain": [
       "0         november\n",
       "1         november\n",
       "2            mjrch\n",
       "3            mjrch\n",
       "4              mjy\n",
       "            ...   \n",
       "113031       jpril\n",
       "113032       jpril\n",
       "113033       jpril\n",
       "113034       mjrch\n",
       "113035       mjrch\n",
       "Name: Month, Length: 113036, dtype: object"
      ]
     },
     "execution_count": 62,
     "metadata": {},
     "output_type": "execute_result"
    }
   ],
   "source": [
    "sales_data_pd[\"Month\"].str.lower().str.replace('a', 'j')"
   ]
  },
  {
   "cell_type": "markdown",
   "id": "751671ea-0764-4abe-86ec-fd0cd13e6495",
   "metadata": {},
   "source": [
    "---\n",
    "### data visualization --->"
   ]
  },
  {
   "cell_type": "code",
   "execution_count": null,
   "id": "127d4753-a546-462f-8145-813617c9f345",
   "metadata": {},
   "outputs": [],
   "source": [
    "sales_data_pd.groupby(by=\"Month\").plot(x=\"Month\", kind=\"bar\")"
   ]
  },
  {
   "cell_type": "code",
   "execution_count": 66,
   "id": "903cc398-612f-4c3b-82e1-6ff8e2c256fa",
   "metadata": {},
   "outputs": [
    {
     "data": {
      "text/plain": [
       "<Axes: xlabel='Month'>"
      ]
     },
     "execution_count": 66,
     "metadata": {},
     "output_type": "execute_result"
    },
    {
     "data": {
      "image/png": "[encoded data removed]",
      "text/plain": [
       "<Figure size 640x480 with 1 Axes>"
      ]
     },
     "metadata": {},
     "output_type": "display_data"
    }
   ],
   "source": [
    "sales_data_pd.plot(x=\"Month\", y=\"Profit\", kind=\"line\")"
   ]
  },
  {
   "cell_type": "code",
   "execution_count": null,
   "id": "ec9a508b-1fd5-4228-aa74-b1e85de7a25e",
   "metadata": {},
   "outputs": [],
   "source": []
  }
 ],
 "metadata": {
  "kernelspec": {
   "display_name": "Python 3 (ipykernel)",
   "language": "python",
   "name": "python3"
  },
  "language_info": {
   "codemirror_mode": {
    "name": "ipython",
    "version": 3
   },
   "file_extension": ".py",
   "mimetype": "text/x-python",
   "name": "python",
   "nbconvert_exporter": "python",
   "pygments_lexer": "ipython3",
   "version": "3.10.13"
  }
 },
 "nbformat": 4,
 "nbformat_minor": 5
}
