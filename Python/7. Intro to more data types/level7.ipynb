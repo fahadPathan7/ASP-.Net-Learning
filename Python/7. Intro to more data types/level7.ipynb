{
 "cells": [
  {
   "cell_type": "markdown",
   "id": "388e0390-6dab-4441-939b-77e45b0cbab3",
   "metadata": {},
   "source": [
    "## Level 7 More Data Types Tuple, Dictionary and Set"
   ]
  },
  {
   "cell_type": "markdown",
   "id": "955fc8a1-4ec4-4410-8a87-cd38a0b3ca25",
   "metadata": {},
   "source": [
    "---"
   ]
  },
  {
   "cell_type": "markdown",
   "id": "bf368743-50a7-489c-bdab-04144a2f913a",
   "metadata": {},
   "source": [
    "### tuples --->"
   ]
  },
  {
   "cell_type": "code",
   "execution_count": 13,
   "id": "a1252563-5e28-4f07-a728-3f28e419d652",
   "metadata": {},
   "outputs": [
    {
     "name": "stdout",
     "output_type": "stream",
     "text": [
      "1\n",
      "2\n",
      "3\n",
      "a\n",
      "b\n",
      "c\n",
      "a\n",
      "3\n",
      "0\n"
     ]
    }
   ],
   "source": [
    "tuples1 = (1, 2, 3, \"a\", \"b\", \"c\")\n",
    "for i in tuples1:\n",
    "    print(i)\n",
    "\n",
    "print(tuples1[3])\n",
    "print(tuples1.index(\"a\"))\n",
    "print(tuples1.count(12))"
   ]
  },
  {
   "cell_type": "markdown",
   "id": "b06775cb-a1a1-4ebf-8b94-6b5e8bfa43f8",
   "metadata": {},
   "source": [
    "#### exercise\n",
    "insert value to tuple. (it is quite impossible but can be done differently)"
   ]
  },
  {
   "cell_type": "code",
   "execution_count": 18,
   "id": "bf68f25f-d5c8-4bbe-b050-c5cf2ab8737b",
   "metadata": {},
   "outputs": [
    {
     "name": "stdout",
     "output_type": "stream",
     "text": [
      "(1, 2, 3, 4)\n"
     ]
    }
   ],
   "source": [
    "tup = (1, 2, 3)\n",
    "tup = list(tup) # typecasting is the hack!\n",
    "tup.append(4)\n",
    "tup = tuple(tup)\n",
    "print(tup)"
   ]
  },
  {
   "cell_type": "markdown",
   "id": "da921c02-06b7-441d-9022-af56a95669db",
   "metadata": {},
   "source": [
    "---"
   ]
  },
  {
   "cell_type": "markdown",
   "id": "fe861261-d538-462e-b196-dd316be341a4",
   "metadata": {},
   "source": [
    "### dictonaries --->"
   ]
  },
  {
   "cell_type": "code",
   "execution_count": 29,
   "id": "b1e86f7e-86c1-4b49-becc-2ad3da22ce81",
   "metadata": {},
   "outputs": [
    {
     "name": "stdout",
     "output_type": "stream",
     "text": [
      "{'house': 449, 'road': 'greenway', 'area': 'moghbazar'}\n"
     ]
    }
   ],
   "source": [
    "dic = {\"name\":\"Fahad\", \"email\":\"fahadpathan56@gmail.com\", \"address\":{\"house\":449, \"road\":\"greenway\", \"area\":\"moghbazar\"}}\n",
    "print(dic[\"address\"])"
   ]
  },
  {
   "cell_type": "code",
   "execution_count": 31,
   "id": "8d029939-5a5b-4ec7-92d3-43359017f280",
   "metadata": {},
   "outputs": [
    {
     "name": "stdout",
     "output_type": "stream",
     "text": [
      "{'name': 'Fahad', 'email': 'fahadpathan56@gmail.com', 'address': {'house': 449, 'road': 'greenway', 'area': 'moghbazar'}, 'phone': 18}\n",
      "{'name': 'Fahad', 'email': 'fahadpathan56@gmail.com', 'address': {'house': 449, 'road': 'greenway', 'area': 'moghbazar'}, 'phone': 20, 'phone1': 18}\n"
     ]
    }
   ],
   "source": [
    "dic[\"phone\"]=18\n",
    "print(dic)\n",
    "dic[\"phone1\"]=18\n",
    "dic[\"phone\"]=20\n",
    "print(dic)"
   ]
  },
  {
   "cell_type": "code",
   "execution_count": 32,
   "id": "8295f19e-d287-497e-b100-ff301d9fdb25",
   "metadata": {},
   "outputs": [
    {
     "name": "stdout",
     "output_type": "stream",
     "text": [
      "('name', 'Fahad')\n",
      "('email', 'fahadpathan56@gmail.com')\n",
      "('address', {'house': 449, 'road': 'greenway', 'area': 'moghbazar'})\n",
      "('phone', 20)\n",
      "('phone1', 18)\n"
     ]
    }
   ],
   "source": [
    "for val in dic.items():\n",
    "    print(val)"
   ]
  },
  {
   "cell_type": "code",
   "execution_count": 33,
   "id": "9beab5cd-03f1-4387-8567-5d731d27c0f7",
   "metadata": {},
   "outputs": [
    {
     "name": "stdout",
     "output_type": "stream",
     "text": [
      "Fahad\n",
      "fahadpathan56@gmail.com\n",
      "{'house': 449, 'road': 'greenway', 'area': 'moghbazar'}\n",
      "20\n",
      "18\n"
     ]
    }
   ],
   "source": [
    "for val in dic.keys():\n",
    "    print(dic[val])"
   ]
  },
  {
   "cell_type": "markdown",
   "id": "80a7c2ee-35b0-4a0b-b512-549faf7a3a52",
   "metadata": {},
   "source": [
    "---"
   ]
  },
  {
   "cell_type": "markdown",
   "id": "fa12d085-3052-4723-b1c9-dd8141743b82",
   "metadata": {},
   "source": [
    "### set --->"
   ]
  },
  {
   "cell_type": "code",
   "execution_count": 49,
   "id": "708b6f95-01f3-4ba7-8dfb-6a537b9177d6",
   "metadata": {},
   "outputs": [
    {
     "name": "stdout",
     "output_type": "stream",
     "text": [
      "{1, 3, 4, 5, 6}\n",
      "{6}\n",
      "{1, 3, 4, 5}\n",
      "{1, 2, 3, 4, 5, 6}\n",
      "1\n"
     ]
    }
   ],
   "source": [
    "rolls = [1, 2, 3, 4, 5]\n",
    "rollsSet = set(rolls)\n",
    "rollsSet.add(6)\n",
    "rollsSet.add(5) # it will not include\n",
    "rollsSet.remove(2)\n",
    "print(rollsSet)\n",
    "print(rollsSet.difference(rolls))\n",
    "print(rollsSet.intersection(rolls))\n",
    "print(rollsSet.union(rolls))\n",
    "print(rollsSet.pop())"
   ]
  }
 ],
 "metadata": {
  "kernelspec": {
   "display_name": "Python 3 (ipykernel)",
   "language": "python",
   "name": "python3"
  },
  "language_info": {
   "codemirror_mode": {
    "name": "ipython",
    "version": 3
   },
   "file_extension": ".py",
   "mimetype": "text/x-python",
   "name": "python",
   "nbconvert_exporter": "python",
   "pygments_lexer": "ipython3",
   "version": "3.10.13"
  }
 },
 "nbformat": 4,
 "nbformat_minor": 5
}
