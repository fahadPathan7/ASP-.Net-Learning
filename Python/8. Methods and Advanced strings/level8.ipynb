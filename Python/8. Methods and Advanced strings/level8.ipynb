{
 "cells": [
  {
   "cell_type": "markdown",
   "id": "388e0390-6dab-4441-939b-77e45b0cbab3",
   "metadata": {},
   "source": [
    "## Level 8 Methods and Advanced Strings"
   ]
  },
  {
   "cell_type": "markdown",
   "id": "955fc8a1-4ec4-4410-8a87-cd38a0b3ca25",
   "metadata": {},
   "source": [
    "---"
   ]
  },
  {
   "cell_type": "markdown",
   "id": "bf368743-50a7-489c-bdab-04144a2f913a",
   "metadata": {},
   "source": [
    "### upper() --->"
   ]
  },
  {
   "cell_type": "code",
   "execution_count": 50,
   "id": "a1252563-5e28-4f07-a728-3f28e419d652",
   "metadata": {},
   "outputs": [
    {
     "name": "stdout",
     "output_type": "stream",
     "text": [
      "FAHAD PATHAN\n"
     ]
    }
   ],
   "source": [
    "name = \"fahad pathan\"\n",
    "print(name.upper())"
   ]
  },
  {
   "cell_type": "markdown",
   "id": "d2f34a6a-8c32-4532-adf4-479c2210f312",
   "metadata": {},
   "source": [
    "---"
   ]
  },
  {
   "cell_type": "markdown",
   "id": "2edd732d-cb77-44c3-ad4b-500fe5f165e0",
   "metadata": {},
   "source": [
    "### lower() --->"
   ]
  },
  {
   "cell_type": "code",
   "execution_count": 51,
   "id": "d0bd4b8b-a9e7-48de-9b78-6176f3a966b6",
   "metadata": {},
   "outputs": [
    {
     "name": "stdout",
     "output_type": "stream",
     "text": [
      "fahad pathan\n"
     ]
    }
   ],
   "source": [
    "name = \"FAHAD PATHAN\"\n",
    "print(name.lower())"
   ]
  },
  {
   "cell_type": "markdown",
   "id": "2bf29c0a-d5e8-4bbe-ae58-88f6a7d90f1a",
   "metadata": {},
   "source": [
    "---\n",
    "### replace() --->"
   ]
  },
  {
   "cell_type": "code",
   "execution_count": 53,
   "id": "285b060b-a975-444c-a181-f396f8001d2e",
   "metadata": {},
   "outputs": [
    {
     "name": "stdout",
     "output_type": "stream",
     "text": [
      "fyhyd pythyn\n"
     ]
    }
   ],
   "source": [
    "name = \"fahad pathan\"\n",
    "name = name.replace('a', 'y')\n",
    "print(name)"
   ]
  },
  {
   "cell_type": "markdown",
   "id": "05754e53-2f72-4cca-bbff-cd2a7b7c2fb7",
   "metadata": {},
   "source": [
    "---\n",
    "### count() --->"
   ]
  },
  {
   "cell_type": "code",
   "execution_count": 54,
   "id": "7ea50f6d-08b1-4032-b9f0-e2c9d6e45314",
   "metadata": {},
   "outputs": [
    {
     "name": "stdout",
     "output_type": "stream",
     "text": [
      "4\n"
     ]
    }
   ],
   "source": [
    "name = \"fahad pathan\"\n",
    "print(name.count('a'))"
   ]
  },
  {
   "cell_type": "markdown",
   "id": "db06bd45-9bbd-45cc-bde0-95769dc17e8e",
   "metadata": {},
   "source": [
    " ---\n",
    "### isdigit() --->"
   ]
  },
  {
   "cell_type": "code",
   "execution_count": 61,
   "id": "6d498c3a-af2c-405a-99b3-21d26c9ef049",
   "metadata": {},
   "outputs": [
    {
     "name": "stdout",
     "output_type": "stream",
     "text": [
      "False\n",
      "True\n"
     ]
    }
   ],
   "source": [
    "name = \"fahad\"\n",
    "print(name.isdigit())\n",
    "name = \"53\"\n",
    "print(name.isdigit())"
   ]
  },
  {
   "cell_type": "markdown",
   "id": "310c3fd6-71fa-4898-9954-a79a37808ab1",
   "metadata": {},
   "source": [
    "---\n",
    "### isalpha()"
   ]
  },
  {
   "cell_type": "code",
   "execution_count": 63,
   "id": "a9cc270d-4b04-47fa-b660-2343d10ca79b",
   "metadata": {},
   "outputs": [
    {
     "name": "stdout",
     "output_type": "stream",
     "text": [
      "True\n",
      "False\n"
     ]
    }
   ],
   "source": [
    "name = \"fahad\"\n",
    "print(name.isalpha())\n",
    "name = \"53\"\n",
    "print(name.isalpha())"
   ]
  },
  {
   "cell_type": "markdown",
   "id": "ca8aba9d-c7d9-4a1a-aa66-9adf66fb8873",
   "metadata": {},
   "source": [
    "---\n",
    "### isspace()"
   ]
  },
  {
   "cell_type": "code",
   "execution_count": 66,
   "id": "745b5005-e83a-4a48-b0e2-973d423991dd",
   "metadata": {},
   "outputs": [
    {
     "name": "stdout",
     "output_type": "stream",
     "text": [
      "False\n",
      "True\n"
     ]
    }
   ],
   "source": [
    "name = \"fahad pathan\"\n",
    "print(name.isspace())\n",
    "name = \" \"\n",
    "print(name.isspace())"
   ]
  },
  {
   "cell_type": "markdown",
   "id": "d3d639f1-6615-4a91-a78a-15c85a325559",
   "metadata": {},
   "source": [
    "--- \n",
    "### split() --->"
   ]
  },
  {
   "cell_type": "code",
   "execution_count": 69,
   "id": "4ee6cd07-81d0-48fb-b801-99be319afe7e",
   "metadata": {},
   "outputs": [
    {
     "name": "stdout",
     "output_type": "stream",
     "text": [
      "['fahad', 'pathan']\n",
      "<class 'list'> <class 'str'>\n"
     ]
    }
   ],
   "source": [
    "name = \"fahad pathan\"\n",
    "x = name.split(' ')\n",
    "print(x)\n",
    "print(type(x), type(name))"
   ]
  },
  {
   "cell_type": "code",
   "execution_count": 70,
   "id": "ad229c8b-ac8e-4b48-9970-11959c72fca3",
   "metadata": {},
   "outputs": [
    {
     "name": "stdout",
     "output_type": "stream",
     "text": [
      "['hello', '1', '2', '3/4/5']\n"
     ]
    }
   ],
   "source": [
    "name = \"hello/1/2/3/4/5\"\n",
    "x = name.split('/', 3)\n",
    "print(x)"
   ]
  },
  {
   "cell_type": "markdown",
   "id": "65c1337a-9808-4350-85d7-65aeaaedc50e",
   "metadata": {},
   "source": [
    "---\n",
    "### join() --->"
   ]
  },
  {
   "cell_type": "code",
   "execution_count": 85,
   "id": "3d17a734-ed74-470c-8bf1-5a9b49613650",
   "metadata": {},
   "outputs": [
    {
     "name": "stdout",
     "output_type": "stream",
     "text": [
      "fahadpathan123pathan458\n"
     ]
    }
   ],
   "source": [
    "name = (\"fahad\", \"123\", \"458\")\n",
    "x = \"pathan\".join(name)\n",
    "print(x)"
   ]
  },
  {
   "cell_type": "markdown",
   "id": "a0cc59c1-821f-43d5-93cc-eacf0e833910",
   "metadata": {},
   "source": [
    "---\n",
    "### strip() --->"
   ]
  },
  {
   "cell_type": "code",
   "execution_count": 80,
   "id": "b0713bf8-aad4-4d6c-94cf-9dfa0ce721ad",
   "metadata": {},
   "outputs": [
    {
     "name": "stdout",
     "output_type": "stream",
     "text": [
      "fahad\n"
     ]
    }
   ],
   "source": [
    "name = \"  fahad    \"\n",
    "x = name.strip()\n",
    "print(x)"
   ]
  },
  {
   "cell_type": "markdown",
   "id": "2e9ee057-d7a5-4980-95a2-b693cad2ae60",
   "metadata": {},
   "source": [
    "---\n",
    "### find() --->"
   ]
  },
  {
   "cell_type": "code",
   "execution_count": 89,
   "id": "adcb24ad-bbc7-4be3-bbb6-a9cf96555973",
   "metadata": {},
   "outputs": [
    {
     "name": "stdout",
     "output_type": "stream",
     "text": [
      "1\n",
      "7\n"
     ]
    }
   ],
   "source": [
    "name = \"fahad pathan\"\n",
    "x = name.find(\"a\")\n",
    "print(x)\n",
    "x = name.find(\"a\", 7, 11)\n",
    "print(x)"
   ]
  },
  {
   "cell_type": "markdown",
   "id": "482f87a8-145e-4ad4-9dd5-58f118722a25",
   "metadata": {},
   "source": [
    "---\n",
    "### replace() --->"
   ]
  },
  {
   "cell_type": "code",
   "execution_count": 92,
   "id": "7d215ddc-5d9c-4946-8c67-e50e6d6041f1",
   "metadata": {},
   "outputs": [
    {
     "name": "stdout",
     "output_type": "stream",
     "text": [
      "found pathan\n"
     ]
    }
   ],
   "source": [
    "name = \"fahad pathan\"\n",
    "x = name.replace(\"aha\", \"oun\")\n",
    "print(x)"
   ]
  },
  {
   "cell_type": "markdown",
   "id": "fb4923d7-e7c8-4134-8012-0bae8197e874",
   "metadata": {},
   "source": [
    "---\n",
    "### startswith(), endswith() --->"
   ]
  },
  {
   "cell_type": "code",
   "execution_count": 94,
   "id": "ef0dbfa0-36db-4efc-a2f9-53a4ed863269",
   "metadata": {},
   "outputs": [
    {
     "name": "stdout",
     "output_type": "stream",
     "text": [
      "True\n",
      "False\n"
     ]
    }
   ],
   "source": [
    "name = \"fahad pathan\"\n",
    "print(name.endswith(\"an\"))\n",
    "print(name.startswith(\"ah\"))"
   ]
  },
  {
   "cell_type": "markdown",
   "id": "202fe2d8-501a-4bc4-99dd-bc48ff8b8543",
   "metadata": {},
   "source": [
    "---\n",
    "### lanbda and map"
   ]
  },
  {
   "cell_type": "code",
   "execution_count": 97,
   "id": "53ecdf56-7121-4154-87c8-f704fdb12504",
   "metadata": {},
   "outputs": [
    {
     "name": "stdout",
     "output_type": "stream",
     "text": [
      "[1, 4, 9, 16]\n",
      "[6, 15]\n"
     ]
    }
   ],
   "source": [
    "li = [1, 2, 3, 4]\n",
    "print(list(map(lambda x: x*x, li)))\n",
    "li = [[1, 2, 3], [4, 5, 6]]\n",
    "print(list(map(lambda x: x[0]+x[1]+x[2], li)))"
   ]
  },
  {
   "cell_type": "markdown",
   "id": "f24923e9-3229-42e3-b86d-49b56fb8967c",
   "metadata": {},
   "source": [
    "---\n",
    "### recursion --->"
   ]
  },
  {
   "cell_type": "code",
   "execution_count": 98,
   "id": "91b53840-25ec-4ed8-a9c5-dcef2a20d0bd",
   "metadata": {},
   "outputs": [
    {
     "data": {
      "text/plain": [
       "120"
      ]
     },
     "execution_count": 98,
     "metadata": {},
     "output_type": "execute_result"
    }
   ],
   "source": [
    "def fibonacci(n):\n",
    "    if n == 0: return 1\n",
    "    else: return n * fibonacci(n - 1)\n",
    "\n",
    "fibonacci(5)"
   ]
  },
  {
   "cell_type": "markdown",
   "id": "82ff8ba3-4de0-4e2d-b3ef-339419fa3016",
   "metadata": {},
   "source": [
    "---"
   ]
  }
 ],
 "metadata": {
  "kernelspec": {
   "display_name": "Python 3 (ipykernel)",
   "language": "python",
   "name": "python3"
  },
  "language_info": {
   "codemirror_mode": {
    "name": "ipython",
    "version": 3
   },
   "file_extension": ".py",
   "mimetype": "text/x-python",
   "name": "python",
   "nbconvert_exporter": "python",
   "pygments_lexer": "ipython3",
   "version": "3.10.13"
  }
 },
 "nbformat": 4,
 "nbformat_minor": 5
}
