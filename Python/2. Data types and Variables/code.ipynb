{
 "cells": [
  {
   "cell_type": "markdown",
   "id": "aa51df03-8543-46f1-8318-b883676138ca",
   "metadata": {},
   "source": [
    "## Data types and Variables"
   ]
  },
  {
   "cell_type": "markdown",
   "id": "ee6afd00-61d7-4b7a-81f0-40355c06c628",
   "metadata": {},
   "source": [
    "---"
   ]
  },
  {
   "cell_type": "markdown",
   "id": "217318ad-3503-43f6-a8fa-f46eb33196b5",
   "metadata": {},
   "source": [
    "### int datatype --->"
   ]
  },
  {
   "cell_type": "code",
   "execution_count": 5,
   "id": "cf5efd12-71a0-405c-a5d2-8d7b2af012f9",
   "metadata": {},
   "outputs": [
    {
     "name": "stdout",
     "output_type": "stream",
     "text": [
      "10\n"
     ]
    }
   ],
   "source": [
    "age = int(10)\n",
    "print(age)"
   ]
  },
  {
   "cell_type": "markdown",
   "id": "4146f2ce-cad5-4d76-8124-3240592544f6",
   "metadata": {},
   "source": [
    "easy way"
   ]
  },
  {
   "cell_type": "code",
   "execution_count": 6,
   "id": "702e447e-1814-4cdc-bc1a-835c44f53db7",
   "metadata": {},
   "outputs": [
    {
     "name": "stdout",
     "output_type": "stream",
     "text": [
      "10\n"
     ]
    }
   ],
   "source": [
    "age = 10\n",
    "print(age)"
   ]
  },
  {
   "cell_type": "markdown",
   "id": "a073db39-389a-4e5e-a2b5-987b1fb88d9b",
   "metadata": {},
   "source": [
    "---"
   ]
  },
  {
   "cell_type": "markdown",
   "id": "83048a19-7104-40a3-822a-c4e4e8a5e8c9",
   "metadata": {},
   "source": [
    "### str datatype --->"
   ]
  },
  {
   "cell_type": "code",
   "execution_count": 4,
   "id": "ef60ae4f-bea6-4c4d-b02f-ce5ae34499d0",
   "metadata": {},
   "outputs": [
    {
     "name": "stdout",
     "output_type": "stream",
     "text": [
      "Fahad Pathan\n"
     ]
    }
   ],
   "source": [
    "name = str(\"Fahad Pathan\")\n",
    "print(name)"
   ]
  },
  {
   "cell_type": "markdown",
   "id": "0d3d9f3b-1f04-4a15-8d6e-d021c50bf076",
   "metadata": {},
   "source": [
    "-> all the data types can be done in easy way. python is intelligent. "
   ]
  },
  {
   "cell_type": "code",
   "execution_count": 8,
   "id": "d9bfa743-ed7b-4f90-9d5b-e1f0fc6ccea2",
   "metadata": {},
   "outputs": [
    {
     "name": "stdout",
     "output_type": "stream",
     "text": [
      "Fahad Pathan\n"
     ]
    }
   ],
   "source": [
    "name = \"Fahad Pathan\"\n",
    "print(name)"
   ]
  },
  {
   "cell_type": "markdown",
   "id": "536af701-e5dc-4117-b905-bab70114828b",
   "metadata": {},
   "source": [
    "---"
   ]
  },
  {
   "cell_type": "markdown",
   "id": "2ba0ef3f-0cca-46c3-99b2-d29e75543de2",
   "metadata": {},
   "source": [
    "### float datatype --->"
   ]
  },
  {
   "cell_type": "code",
   "execution_count": 12,
   "id": "c2fc0b09-cb59-4a62-b6c8-22789bf9c412",
   "metadata": {},
   "outputs": [
    {
     "name": "stdout",
     "output_type": "stream",
     "text": [
      "66.89\n"
     ]
    },
    {
     "data": {
      "text/plain": [
       "float"
      ]
     },
     "execution_count": 12,
     "metadata": {},
     "output_type": "execute_result"
    }
   ],
   "source": [
    "avg_marks = 66.89\n",
    "print(avg_marks)\n",
    "\n",
    "# we can also check the data type\n",
    "type(avg_marks) # we don't need to use print function here"
   ]
  },
  {
   "cell_type": "markdown",
   "id": "6d6f1450-3263-43b8-8ee3-afaca092fca5",
   "metadata": {},
   "source": [
    "-> rounding the float value"
   ]
  },
  {
   "cell_type": "code",
   "execution_count": 14,
   "id": "f4618e78-ece2-4c97-aae9-8907c78dc9bf",
   "metadata": {},
   "outputs": [
    {
     "name": "stdout",
     "output_type": "stream",
     "text": [
      "79\n"
     ]
    }
   ],
   "source": [
    "avg_marks = 78.90\n",
    "print(round(avg_marks)) # it will round to the nearest whole number"
   ]
  },
  {
   "cell_type": "markdown",
   "id": "b8d46de4-ee04-4687-9612-bc5344ed257f",
   "metadata": {},
   "source": [
    "-> ceil and floor functions"
   ]
  },
  {
   "cell_type": "code",
   "execution_count": 18,
   "id": "afe2a14a-8dde-4d0a-8a7d-ea522bf07513",
   "metadata": {},
   "outputs": [
    {
     "name": "stdout",
     "output_type": "stream",
     "text": [
      "90\n",
      "89\n"
     ]
    }
   ],
   "source": [
    "import math\n",
    "\n",
    "avg_marks = 89.6\n",
    "print(math.ceil(avg_marks)) # to the upper value\n",
    "print(math.floor(avg_marks)) # to the lower value"
   ]
  },
  {
   "cell_type": "markdown",
   "id": "a03c756e-c0a3-4d22-8f93-17d4eca6cbce",
   "metadata": {},
   "source": [
    "---"
   ]
  },
  {
   "cell_type": "markdown",
   "id": "164fab11-d3cb-496b-82c2-814113cc7447",
   "metadata": {},
   "source": [
    "### bool datatype --->"
   ]
  },
  {
   "cell_type": "code",
   "execution_count": 21,
   "id": "879b6f85-0402-4d20-8c54-04fe5923a2bd",
   "metadata": {},
   "outputs": [
    {
     "name": "stdout",
     "output_type": "stream",
     "text": [
      "False\n",
      "True\n"
     ]
    }
   ],
   "source": [
    "participated = False\n",
    "print(participated)\n",
    "participated = True\n",
    "print(participated)"
   ]
  },
  {
   "cell_type": "markdown",
   "id": "dcca6e93-fd13-4333-b467-8a5125f69b99",
   "metadata": {},
   "source": [
    "---"
   ]
  },
  {
   "cell_type": "markdown",
   "id": "53707ad6-04be-4abd-a4af-0eda83051f95",
   "metadata": {},
   "source": [
    "### type casting --->"
   ]
  },
  {
   "cell_type": "code",
   "execution_count": 22,
   "id": "d0193dea-d3d4-419b-98f7-44b488709594",
   "metadata": {},
   "outputs": [
    {
     "name": "stdout",
     "output_type": "stream",
     "text": [
      "15\n"
     ]
    }
   ],
   "source": [
    "age = \"15\" # this is string now\n",
    "print(int(age)) # this is converted to int "
   ]
  },
  {
   "cell_type": "code",
   "execution_count": 24,
   "id": "1de09b85-be39-40d9-a39d-2133fa77894f",
   "metadata": {},
   "outputs": [
    {
     "name": "stdout",
     "output_type": "stream",
     "text": [
      "56\n"
     ]
    }
   ],
   "source": [
    "mark = 56.8\n",
    "mark = int(mark) # if we type cast a float to an int, it will work as floor function. \n",
    "print(mark)"
   ]
  },
  {
   "cell_type": "code",
   "execution_count": 26,
   "id": "c3349fe5-b43f-4127-99ac-4aee78e0803a",
   "metadata": {},
   "outputs": [
    {
     "name": "stdout",
     "output_type": "stream",
     "text": [
      "Age is 20\n"
     ]
    }
   ],
   "source": [
    "age = 20\n",
    "print(\"Age is \" + str(age)) # from int to string"
   ]
  },
  {
   "cell_type": "markdown",
   "id": "749175cf-24e1-44a8-90f5-f1f64d3420e7",
   "metadata": {},
   "source": [
    "-> exercise: need to add two float values and print with a text."
   ]
  },
  {
   "cell_type": "code",
   "execution_count": 27,
   "id": "d064e3d7-ee13-4bc1-8231-f60e5860410b",
   "metadata": {},
   "outputs": [
    {
     "name": "stdout",
     "output_type": "stream",
     "text": [
      "Total height: 9.63\n"
     ]
    }
   ],
   "source": [
    "height1 = 3.64\n",
    "height2 = 5.99\n",
    "height = height1 + height2\n",
    "print(\"Total height: \" + str(height))"
   ]
  },
  {
   "cell_type": "markdown",
   "id": "fba3b73a-1d0d-4356-a827-a27c6f2a164c",
   "metadata": {},
   "source": [
    "-> exercise: currency convertion from dollar to bdt"
   ]
  },
  {
   "cell_type": "code",
   "execution_count": 29,
   "id": "961880c4-8579-44ea-ab50-581ef264eba7",
   "metadata": {},
   "outputs": [
    {
     "name": "stdin",
     "output_type": "stream",
     "text": [
      "Enter dollar amount:  45\n"
     ]
    },
    {
     "name": "stdout",
     "output_type": "stream",
     "text": [
      "45 dollars = 4929.75 bdt\n"
     ]
    }
   ],
   "source": [
    "dollar = input(\"Enter dollar amount: \")\n",
    "bdt = float(dollar) * 109.55\n",
    "print(dollar + \" dollars = \" + str(bdt) + \" bdt\")"
   ]
  },
  {
   "cell_type": "code",
   "execution_count": null,
   "id": "5d62bdc7-5152-4763-99ae-54008cc887f6",
   "metadata": {},
   "outputs": [],
   "source": []
  }
 ],
 "metadata": {
  "kernelspec": {
   "display_name": "Python 3 (ipykernel)",
   "language": "python",
   "name": "python3"
  },
  "language_info": {
   "codemirror_mode": {
    "name": "ipython",
    "version": 3
   },
   "file_extension": ".py",
   "mimetype": "text/x-python",
   "name": "python",
   "nbconvert_exporter": "python",
   "pygments_lexer": "ipython3",
   "version": "3.10.13"
  }
 },
 "nbformat": 4,
 "nbformat_minor": 5
}
