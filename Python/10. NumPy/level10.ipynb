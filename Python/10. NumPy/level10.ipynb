{
 "cells": [
  {
   "cell_type": "markdown",
   "id": "388e0390-6dab-4441-939b-77e45b0cbab3",
   "metadata": {},
   "source": [
    "## Level 10 Numpy"
   ]
  },
  {
   "cell_type": "markdown",
   "id": "955fc8a1-4ec4-4410-8a87-cd38a0b3ca25",
   "metadata": {},
   "source": [
    "---"
   ]
  },
  {
   "cell_type": "markdown",
   "id": "bf368743-50a7-489c-bdab-04144a2f913a",
   "metadata": {},
   "source": [
    "### numpy basic --->"
   ]
  },
  {
   "cell_type": "code",
   "execution_count": 3,
   "id": "a1252563-5e28-4f07-a728-3f28e419d652",
   "metadata": {},
   "outputs": [],
   "source": [
    "import numpy as np"
   ]
  },
  {
   "cell_type": "code",
   "execution_count": 4,
   "id": "a35f2af1-081b-445f-9cdd-030dda292eda",
   "metadata": {},
   "outputs": [
    {
     "data": {
      "text/plain": [
       "numpy.ndarray"
      ]
     },
     "execution_count": 4,
     "metadata": {},
     "output_type": "execute_result"
    }
   ],
   "source": [
    "a_np = np.array([1, 2, 3, 4, 5])\n",
    "type(a_np)"
   ]
  },
  {
   "cell_type": "code",
   "execution_count": 5,
   "id": "86c2c91f-c9b7-41a9-b8e8-28ced087510b",
   "metadata": {},
   "outputs": [
    {
     "data": {
      "text/plain": [
       "array([3, 4])"
      ]
     },
     "execution_count": 5,
     "metadata": {},
     "output_type": "execute_result"
    }
   ],
   "source": [
    "a_np[2:4]"
   ]
  },
  {
   "cell_type": "code",
   "execution_count": 6,
   "id": "c4772831-9873-461e-92fd-7082389770e6",
   "metadata": {},
   "outputs": [
    {
     "data": {
      "text/plain": [
       "array([2, 3, 4, 5, 6])"
      ]
     },
     "execution_count": 6,
     "metadata": {},
     "output_type": "execute_result"
    }
   ],
   "source": [
    "a_np + 1"
   ]
  },
  {
   "cell_type": "code",
   "execution_count": 7,
   "id": "2071515f-5559-46c3-9710-9975ff6dcb3c",
   "metadata": {},
   "outputs": [
    {
     "data": {
      "text/plain": [
       "array([ 2,  4,  6,  8, 10])"
      ]
     },
     "execution_count": 7,
     "metadata": {},
     "output_type": "execute_result"
    }
   ],
   "source": [
    "a_np * 2"
   ]
  },
  {
   "cell_type": "code",
   "execution_count": 8,
   "id": "42e75188-a365-420b-8e3d-66fd03303946",
   "metadata": {},
   "outputs": [],
   "source": [
    "array_2d = np.array([\n",
    "    [1, 2, 3],\n",
    "    [4, 5, 6],\n",
    "    [4, 9, 12]\n",
    "])"
   ]
  },
  {
   "cell_type": "code",
   "execution_count": 9,
   "id": "896439bb-08a6-4dc3-80e5-a86fe9ddc1fd",
   "metadata": {},
   "outputs": [
    {
     "data": {
      "text/plain": [
       "array([[ 2,  3,  4],\n",
       "       [ 5,  6,  7],\n",
       "       [ 5, 10, 13]])"
      ]
     },
     "execution_count": 9,
     "metadata": {},
     "output_type": "execute_result"
    }
   ],
   "source": [
    "array_2d + 1"
   ]
  },
  {
   "cell_type": "code",
   "execution_count": 10,
   "id": "233afdff-791b-4a34-88cf-619958edd645",
   "metadata": {},
   "outputs": [
    {
     "data": {
      "text/plain": [
       "array([5, 6, 7])"
      ]
     },
     "execution_count": 10,
     "metadata": {},
     "output_type": "execute_result"
    }
   ],
   "source": [
    "array_2d[1] + 1"
   ]
  },
  {
   "cell_type": "code",
   "execution_count": 11,
   "id": "568533e0-4aed-4975-a429-a207c3b6dc45",
   "metadata": {},
   "outputs": [
    {
     "name": "stdout",
     "output_type": "stream",
     "text": [
      "3\n",
      "(3, 3)\n",
      "9\n"
     ]
    }
   ],
   "source": [
    "print(len(array_2d))\n",
    "print(array_2d.shape)\n",
    "print(array_2d.size)"
   ]
  },
  {
   "cell_type": "code",
   "execution_count": 12,
   "id": "0d5bd890-b740-4b1e-abb3-ecfa61c12046",
   "metadata": {},
   "outputs": [
    {
     "name": "stdout",
     "output_type": "stream",
     "text": [
      "1\n",
      "2\n"
     ]
    }
   ],
   "source": [
    "print(a_np.ndim)\n",
    "print(array_2d.ndim)"
   ]
  },
  {
   "cell_type": "code",
   "execution_count": 13,
   "id": "3beffa69-d129-4fe0-8822-5678fecf75b8",
   "metadata": {},
   "outputs": [
    {
     "data": {
      "text/plain": [
       "dtype('int32')"
      ]
     },
     "execution_count": 13,
     "metadata": {},
     "output_type": "execute_result"
    }
   ],
   "source": [
    "array_2d.dtype"
   ]
  },
  {
   "cell_type": "code",
   "execution_count": 14,
   "id": "955a6770-505d-47d4-98fa-f3853c3820ee",
   "metadata": {},
   "outputs": [
    {
     "data": {
      "text/plain": [
       "array([[1., 2., 3.],\n",
       "       [4., 5., 6.],\n",
       "       [7., 8., 9.]], dtype=float32)"
      ]
     },
     "execution_count": 14,
     "metadata": {},
     "output_type": "execute_result"
    }
   ],
   "source": [
    "array_2d = np.array([\n",
    "    [1, 2, 3],\n",
    "    [4, 5, \"6\"],\n",
    "    [7, 8, 9]], dtype=np.float32)\n",
    "array_2d"
   ]
  },
  {
   "cell_type": "code",
   "execution_count": 15,
   "id": "eb1f4baa-0a90-470a-bc93-c6e279b57907",
   "metadata": {},
   "outputs": [
    {
     "data": {
      "text/plain": [
       "array([[10, 10, 10, 10, 10],\n",
       "       [10, 10, 10, 10, 10],\n",
       "       [10, 10, 10, 10, 10],\n",
       "       [10, 10, 10, 10, 10],\n",
       "       [10, 10, 10, 10, 10]])"
      ]
     },
     "execution_count": 15,
     "metadata": {},
     "output_type": "execute_result"
    }
   ],
   "source": [
    "np.full((5, 5), 10)"
   ]
  },
  {
   "cell_type": "code",
   "execution_count": 16,
   "id": "b321f7f9-34df-494b-8476-6d0305f5ea90",
   "metadata": {},
   "outputs": [
    {
     "data": {
      "text/plain": [
       "array([[1., 1., 1.],\n",
       "       [1., 1., 1.],\n",
       "       [1., 1., 1.],\n",
       "       [1., 1., 1.]])"
      ]
     },
     "execution_count": 16,
     "metadata": {},
     "output_type": "execute_result"
    }
   ],
   "source": [
    "np.ones((4, 3))"
   ]
  },
  {
   "cell_type": "code",
   "execution_count": 17,
   "id": "0633ab83-1258-4937-8c73-9b3621971030",
   "metadata": {},
   "outputs": [
    {
     "data": {
      "text/plain": [
       "array([[10., 10.],\n",
       "       [10., 10.],\n",
       "       [10., 10.]])"
      ]
     },
     "execution_count": 17,
     "metadata": {},
     "output_type": "execute_result"
    }
   ],
   "source": [
    "np.zeros((3, 2)) + 10"
   ]
  },
  {
   "cell_type": "code",
   "execution_count": 18,
   "id": "ec74d9b1-0dba-4959-bcf3-dda94e76ba0f",
   "metadata": {},
   "outputs": [
    {
     "data": {
      "text/plain": [
       "array([ 2,  4,  6,  8, 10])"
      ]
     },
     "execution_count": 18,
     "metadata": {},
     "output_type": "execute_result"
    }
   ],
   "source": [
    "np.arange(2, 11, 2)"
   ]
  },
  {
   "cell_type": "code",
   "execution_count": 19,
   "id": "e6ea0b89-6cea-4366-8f36-deef0fa129cb",
   "metadata": {},
   "outputs": [
    {
     "name": "stdout",
     "output_type": "stream",
     "text": [
      "[  1.    25.75  50.5   75.25 100.  ]\n"
     ]
    }
   ],
   "source": [
    "line = np.linspace(1, 100, 5)\n",
    "print(line)"
   ]
  },
  {
   "cell_type": "code",
   "execution_count": 20,
   "id": "0b292704-24ce-4ddd-ac6a-2839601b7ea9",
   "metadata": {},
   "outputs": [
    {
     "data": {
      "text/plain": [
       "array([[1.       , 1.4142135, 1.7320508],\n",
       "       [2.       , 2.236068 , 2.4494898],\n",
       "       [2.6457512, 2.828427 , 3.       ]], dtype=float32)"
      ]
     },
     "execution_count": 20,
     "metadata": {},
     "output_type": "execute_result"
    }
   ],
   "source": [
    "np.sqrt(array_2d)"
   ]
  },
  {
   "cell_type": "code",
   "execution_count": 21,
   "id": "17b8ce8b-3136-4281-ab29-7ef54248f65d",
   "metadata": {},
   "outputs": [
    {
     "data": {
      "text/plain": [
       "array([3, 5, 7, 9])"
      ]
     },
     "execution_count": 21,
     "metadata": {},
     "output_type": "execute_result"
    }
   ],
   "source": [
    "numbers = np.array([1, 2, 3, 4, 5, 6, 7, 8, 9, 10])\n",
    "numbers[2::2]"
   ]
  },
  {
   "cell_type": "code",
   "execution_count": 22,
   "id": "30c33313-eab5-4da5-a833-26db817b4520",
   "metadata": {},
   "outputs": [
    {
     "name": "stdout",
     "output_type": "stream",
     "text": [
      "5.5\n",
      "[False False False False False  True  True  True  True  True]\n",
      "[ 6  7  8  9 10]\n"
     ]
    }
   ],
   "source": [
    "avg = np.mean(numbers)\n",
    "print(avg)\n",
    "print(numbers > avg)\n",
    "print(numbers[numbers > avg])"
   ]
  },
  {
   "cell_type": "markdown",
   "id": "1b5e8757-4cb3-45e7-a8bc-078e7524531e",
   "metadata": {},
   "source": [
    "---\n",
    "### vectorization --->"
   ]
  },
  {
   "cell_type": "code",
   "execution_count": 23,
   "id": "cbf09b3d-339c-4665-9de6-c9bf85e6af29",
   "metadata": {},
   "outputs": [],
   "source": [
    "def calc(val):\n",
    "    if val > 10:\n",
    "        return val * 10\n",
    "    else: return val * 5"
   ]
  },
  {
   "cell_type": "code",
   "execution_count": 24,
   "id": "63939309-22d8-4313-96d9-d1fdef16baa8",
   "metadata": {},
   "outputs": [],
   "source": [
    "mul = np.vectorize(calc)"
   ]
  },
  {
   "cell_type": "code",
   "execution_count": 25,
   "id": "85dbe152-9087-4937-a49c-af021daa4701",
   "metadata": {},
   "outputs": [],
   "source": [
    "arr = np.array([1, 2, 3, 11, 5])"
   ]
  },
  {
   "cell_type": "code",
   "execution_count": 26,
   "id": "346311a1-4c3e-43b2-af76-12b1e4586c21",
   "metadata": {},
   "outputs": [
    {
     "data": {
      "text/plain": [
       "array([  5,  10,  15, 110,  25])"
      ]
     },
     "execution_count": 26,
     "metadata": {},
     "output_type": "execute_result"
    }
   ],
   "source": [
    "mul(arr)"
   ]
  },
  {
   "cell_type": "markdown",
   "id": "496aa729-7c34-4568-a6de-acb405503859",
   "metadata": {},
   "source": [
    "---\n",
    "### condition --->"
   ]
  },
  {
   "cell_type": "code",
   "execution_count": 27,
   "id": "a50b6fb4-223a-4cdb-8f7f-2a23298692f6",
   "metadata": {},
   "outputs": [],
   "source": [
    "arr = np.array([1, 2, 100, 98, 45, 90, 15])\n"
   ]
  },
  {
   "cell_type": "code",
   "execution_count": 28,
   "id": "df3f26e2-76f9-4bb8-a82d-ef5e632fe408",
   "metadata": {},
   "outputs": [
    {
     "data": {
      "text/plain": [
       "array([98, 90])"
      ]
     },
     "execution_count": 28,
     "metadata": {},
     "output_type": "execute_result"
    }
   ],
   "source": [
    "arr[(arr > 50) & (arr < 100)]"
   ]
  },
  {
   "cell_type": "code",
   "execution_count": 29,
   "id": "a468b81d-6ab9-41d9-b6d3-ead1e0575764",
   "metadata": {},
   "outputs": [
    {
     "data": {
      "text/plain": [
       "array(['yes', 'yes', 'yes', 'yes', 'yes', 'no', 'yes'], dtype='<U3')"
      ]
     },
     "execution_count": 29,
     "metadata": {},
     "output_type": "execute_result"
    }
   ],
   "source": [
    "np.where(arr < 50, \"yes\", np.where(arr > 90, \"yes\", \"no\"))"
   ]
  },
  {
   "cell_type": "markdown",
   "id": "c9164ebb-9c32-4a21-a72d-d1fe509ef78f",
   "metadata": {},
   "source": [
    "---\n",
    "### flattening, resizing arrays --->"
   ]
  },
  {
   "cell_type": "code",
   "execution_count": 30,
   "id": "cce8cbde-5ded-48a5-b78d-483a54c83370",
   "metadata": {},
   "outputs": [
    {
     "data": {
      "text/plain": [
       "array([[ 1,  2],\n",
       "       [ 3,  4],\n",
       "       [ 5,  6],\n",
       "       [ 7,  8],\n",
       "       [ 9, 10],\n",
       "       [11, 12]])"
      ]
     },
     "execution_count": 30,
     "metadata": {},
     "output_type": "execute_result"
    }
   ],
   "source": [
    "scores = np.array([\n",
    "    [1, 2, 3],\n",
    "    [4, 5, 6],\n",
    "    [7, 8, 9],\n",
    "    [10, 11, 12]])\n",
    "\n",
    "np.resize(scores, (6, 2))"
   ]
  },
  {
   "cell_type": "code",
   "execution_count": 31,
   "id": "f4e54cb3-14c6-44c9-8931-f46e8ca7cde8",
   "metadata": {},
   "outputs": [
    {
     "data": {
      "text/plain": [
       "array([ 1,  2,  3,  4,  5,  6,  7,  8,  9, 10, 11, 12])"
      ]
     },
     "execution_count": 31,
     "metadata": {},
     "output_type": "execute_result"
    }
   ],
   "source": [
    "scores.flatten()"
   ]
  },
  {
   "cell_type": "markdown",
   "id": "0943e205-b477-4281-a662-f9f11049f7c9",
   "metadata": {},
   "source": [
    "---\n",
    "### transposing --->"
   ]
  },
  {
   "cell_type": "code",
   "execution_count": 32,
   "id": "18c1f7dc-1105-4b7f-897f-c9a7b45bfbaa",
   "metadata": {},
   "outputs": [
    {
     "data": {
      "text/plain": [
       "array([[ 1,  4,  7, 10],\n",
       "       [ 2,  5,  8, 11],\n",
       "       [ 3,  6,  9, 12]])"
      ]
     },
     "execution_count": 32,
     "metadata": {},
     "output_type": "execute_result"
    }
   ],
   "source": [
    "scores.transpose()"
   ]
  },
  {
   "cell_type": "markdown",
   "id": "59576c70-8feb-4ccc-972a-84c0df9e1a25",
   "metadata": {},
   "source": [
    "---\n",
    "### concatening --->"
   ]
  },
  {
   "cell_type": "code",
   "execution_count": 33,
   "id": "66330d3c-5844-4cbe-8294-0ab1bd35f1fc",
   "metadata": {},
   "outputs": [
    {
     "data": {
      "text/plain": [
       "array([12, 13, 15, 17])"
      ]
     },
     "execution_count": 33,
     "metadata": {},
     "output_type": "execute_result"
    }
   ],
   "source": [
    "data1 = np.array([12, 13])\n",
    "data2 = np.array([15, 17])\n",
    "\n",
    "np.concatenate((data1, data2))"
   ]
  },
  {
   "cell_type": "code",
   "execution_count": 34,
   "id": "4c5fd41a-3253-484d-899a-e8f27a73d969",
   "metadata": {},
   "outputs": [
    {
     "data": {
      "text/plain": [
       "array([12, 13, 15, 17])"
      ]
     },
     "execution_count": 34,
     "metadata": {},
     "output_type": "execute_result"
    }
   ],
   "source": [
    "np.hstack((data1, data2))"
   ]
  },
  {
   "cell_type": "code",
   "execution_count": 35,
   "id": "583ea4b6-3550-456f-a47f-fe5f281ab243",
   "metadata": {},
   "outputs": [
    {
     "data": {
      "text/plain": [
       "array([[12, 13],\n",
       "       [15, 17]])"
      ]
     },
     "execution_count": 35,
     "metadata": {},
     "output_type": "execute_result"
    }
   ],
   "source": [
    "np.vstack((data1, data2))"
   ]
  },
  {
   "cell_type": "markdown",
   "id": "24a7d29f-1557-4ce9-87eb-22301efd69c3",
   "metadata": {},
   "source": [
    "---\n",
    "### handling missing data --->"
   ]
  },
  {
   "cell_type": "code",
   "execution_count": 36,
   "id": "a9692d83-33d8-4a46-8fda-c3aeeaea4087",
   "metadata": {},
   "outputs": [],
   "source": [
    "import numpy as np\n",
    "customer_data = np.array([100, 150, np.nan, 200, 300, 175])"
   ]
  },
  {
   "cell_type": "code",
   "execution_count": 37,
   "id": "3bdaf5a7-644c-4f01-ad5f-765b184413c7",
   "metadata": {},
   "outputs": [],
   "source": [
    "missing_values = np.isnan(customer_data)"
   ]
  },
  {
   "cell_type": "code",
   "execution_count": 38,
   "id": "0722afba-f0d4-47ea-8a11-186f4ac369cb",
   "metadata": {},
   "outputs": [
    {
     "name": "stdout",
     "output_type": "stream",
     "text": [
      "1\n"
     ]
    }
   ],
   "source": [
    "print(np.sum(missing_values))"
   ]
  },
  {
   "cell_type": "code",
   "execution_count": 39,
   "id": "062f1824-6ed0-4a4e-b1ce-35316b7778f7",
   "metadata": {},
   "outputs": [
    {
     "data": {
      "text/plain": [
       "array([100., 150.,   0., 200., 300., 175.])"
      ]
     },
     "execution_count": 39,
     "metadata": {},
     "output_type": "execute_result"
    }
   ],
   "source": [
    "zero_filled = np.nan_to_num(customer_data)\n",
    "zero_filled"
   ]
  },
  {
   "cell_type": "code",
   "execution_count": 40,
   "id": "420ae6c5-0e73-4950-974a-79bfb817abd9",
   "metadata": {},
   "outputs": [
    {
     "data": {
      "text/plain": [
       "185.0"
      ]
     },
     "execution_count": 40,
     "metadata": {},
     "output_type": "execute_result"
    }
   ],
   "source": [
    "mean_data = np.nanmean(customer_data)\n",
    "mean_data"
   ]
  },
  {
   "cell_type": "code",
   "execution_count": 41,
   "id": "0d1bbe40-d504-4756-95f8-55feabeb2ae5",
   "metadata": {},
   "outputs": [
    {
     "data": {
      "text/plain": [
       "array([100., 150., 185., 200., 300., 175.])"
      ]
     },
     "execution_count": 41,
     "metadata": {},
     "output_type": "execute_result"
    }
   ],
   "source": [
    "data_mean_filled = np.where(np.isnan(customer_data), mean_data, customer_data)\n",
    "data_mean_filled"
   ]
  },
  {
   "cell_type": "code",
   "execution_count": 42,
   "id": "fd578c9d-8136-4116-bd77-d634bc4c09d9",
   "metadata": {},
   "outputs": [
    {
     "data": {
      "text/plain": [
       "array([100., 150., 200., 300., 175.])"
      ]
     },
     "execution_count": 42,
     "metadata": {},
     "output_type": "execute_result"
    }
   ],
   "source": [
    "data_without_nan = customer_data[~np.isnan(customer_data)]\n",
    "data_without_nan"
   ]
  },
  {
   "cell_type": "markdown",
   "id": "d24da469-439e-48ba-ac09-d012d1f32d50",
   "metadata": {},
   "source": [
    "#### forward and backward filling of missing data"
   ]
  },
  {
   "cell_type": "code",
   "execution_count": 43,
   "id": "887a3dcb-8ef9-447f-9bc8-1dbd3e839968",
   "metadata": {},
   "outputs": [
    {
     "name": "stdout",
     "output_type": "stream",
     "text": [
      "[100. 150. 200. 200. 300. 175.]\n",
      "[100. 150. 150. 200. 300. 175.]\n"
     ]
    }
   ],
   "source": [
    "copy_of_cd = np.copy(customer_data)\n",
    "mask = np.isnan(copy_of_cd)\n",
    "\n",
    "copy_of_cd[mask] = np.roll(copy_of_cd, shift=-1)[mask]\n",
    "print(copy_of_cd)\n",
    "\n",
    "copy_of_cd_f = np.copy(customer_data)\n",
    "mask = np.isnan(copy_of_cd_f)\n",
    "copy_of_cd_f[mask] = np.roll(copy_of_cd_f, shift=1)[mask]\n",
    "print(copy_of_cd_f)"
   ]
  },
  {
   "cell_type": "markdown",
   "id": "6b6cae16-b759-47c3-9caa-a0e416115674",
   "metadata": {},
   "source": [
    "---\n",
    "### files --->"
   ]
  },
  {
   "cell_type": "code",
   "execution_count": 44,
   "id": "f6d0ef2d-af4c-45eb-a3b1-7e0bd4326d52",
   "metadata": {},
   "outputs": [],
   "source": [
    "age = np.array([1, 23, 6, 45, 90, 48])"
   ]
  },
  {
   "cell_type": "code",
   "execution_count": 45,
   "id": "69db0cec-3e1f-49d6-b5ad-cffe899b8a5b",
   "metadata": {},
   "outputs": [],
   "source": [
    "np.save(\"age.npy\", age)"
   ]
  },
  {
   "cell_type": "code",
   "execution_count": 46,
   "id": "e77a1e86-77b2-4aec-bdbb-c4df8c026fab",
   "metadata": {},
   "outputs": [
    {
     "name": "stdout",
     "output_type": "stream",
     "text": [
      "[ 1 23  6 45 90 48]\n"
     ]
    }
   ],
   "source": [
    "loaded_age = np.load(\"age.npy\")\n",
    "print(loaded_age)"
   ]
  },
  {
   "cell_type": "code",
   "execution_count": 47,
   "id": "2753cc60-83af-444c-a127-0887f35263f8",
   "metadata": {},
   "outputs": [],
   "source": [
    "np.savetxt(\"age.txt\", loaded_age, delimiter=\",\")"
   ]
  },
  {
   "cell_type": "code",
   "execution_count": 48,
   "id": "5ff48355-b3ff-4d99-aa15-cd8aa1491825",
   "metadata": {},
   "outputs": [
    {
     "name": "stdout",
     "output_type": "stream",
     "text": [
      "[ 1. 23.  6. 45. 90. 48.]\n"
     ]
    }
   ],
   "source": [
    "new_age = np.loadtxt(\"age.txt\", delimiter=\",\")\n",
    "print(new_age)"
   ]
  },
  {
   "cell_type": "markdown",
   "id": "9b7fc34b-6381-4b3b-825c-d1d837c5a107",
   "metadata": {},
   "source": [
    "---"
   ]
  }
 ],
 "metadata": {
  "kernelspec": {
   "display_name": "Python 3 (ipykernel)",
   "language": "python",
   "name": "python3"
  },
  "language_info": {
   "codemirror_mode": {
    "name": "ipython",
    "version": 3
   },
   "file_extension": ".py",
   "mimetype": "text/x-python",
   "name": "python",
   "nbconvert_exporter": "python",
   "pygments_lexer": "ipython3",
   "version": "3.10.13"
  }
 },
 "nbformat": 4,
 "nbformat_minor": 5
}
