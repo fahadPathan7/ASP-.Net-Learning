{
 "cells": [
  {
   "cell_type": "markdown",
   "id": "388e0390-6dab-4441-939b-77e45b0cbab3",
   "metadata": {},
   "source": [
    "## Level 10 Numpy"
   ]
  },
  {
   "cell_type": "markdown",
   "id": "955fc8a1-4ec4-4410-8a87-cd38a0b3ca25",
   "metadata": {},
   "source": [
    "---"
   ]
  },
  {
   "cell_type": "markdown",
   "id": "bf368743-50a7-489c-bdab-04144a2f913a",
   "metadata": {},
   "source": [
    "### numpy basic --->"
   ]
  },
  {
   "cell_type": "code",
   "execution_count": 25,
   "id": "a1252563-5e28-4f07-a728-3f28e419d652",
   "metadata": {},
   "outputs": [],
   "source": [
    "import numpy as np"
   ]
  },
  {
   "cell_type": "code",
   "execution_count": 26,
   "id": "a35f2af1-081b-445f-9cdd-030dda292eda",
   "metadata": {},
   "outputs": [
    {
     "data": {
      "text/plain": [
       "numpy.ndarray"
      ]
     },
     "execution_count": 26,
     "metadata": {},
     "output_type": "execute_result"
    }
   ],
   "source": [
    "a_np = np.array([1, 2, 3, 4, 5])\n",
    "type(a_np)"
   ]
  },
  {
   "cell_type": "code",
   "execution_count": 27,
   "id": "86c2c91f-c9b7-41a9-b8e8-28ced087510b",
   "metadata": {},
   "outputs": [
    {
     "data": {
      "text/plain": [
       "array([3, 4])"
      ]
     },
     "execution_count": 27,
     "metadata": {},
     "output_type": "execute_result"
    }
   ],
   "source": [
    "a_np[2:4]"
   ]
  },
  {
   "cell_type": "code",
   "execution_count": 28,
   "id": "c4772831-9873-461e-92fd-7082389770e6",
   "metadata": {},
   "outputs": [
    {
     "data": {
      "text/plain": [
       "array([2, 3, 4, 5, 6])"
      ]
     },
     "execution_count": 28,
     "metadata": {},
     "output_type": "execute_result"
    }
   ],
   "source": [
    "a_np + 1"
   ]
  },
  {
   "cell_type": "code",
   "execution_count": 29,
   "id": "2071515f-5559-46c3-9710-9975ff6dcb3c",
   "metadata": {},
   "outputs": [
    {
     "data": {
      "text/plain": [
       "array([ 2,  4,  6,  8, 10])"
      ]
     },
     "execution_count": 29,
     "metadata": {},
     "output_type": "execute_result"
    }
   ],
   "source": [
    "a_np * 2"
   ]
  },
  {
   "cell_type": "code",
   "execution_count": 30,
   "id": "42e75188-a365-420b-8e3d-66fd03303946",
   "metadata": {},
   "outputs": [],
   "source": [
    "array_2d = np.array([\n",
    "    [1, 2, 3],\n",
    "    [4, 5, 6],\n",
    "    [4, 9, 12]\n",
    "])"
   ]
  },
  {
   "cell_type": "code",
   "execution_count": 31,
   "id": "896439bb-08a6-4dc3-80e5-a86fe9ddc1fd",
   "metadata": {},
   "outputs": [
    {
     "data": {
      "text/plain": [
       "array([[ 2,  3,  4],\n",
       "       [ 5,  6,  7],\n",
       "       [ 5, 10, 13]])"
      ]
     },
     "execution_count": 31,
     "metadata": {},
     "output_type": "execute_result"
    }
   ],
   "source": [
    "array_2d + 1"
   ]
  },
  {
   "cell_type": "code",
   "execution_count": 32,
   "id": "233afdff-791b-4a34-88cf-619958edd645",
   "metadata": {},
   "outputs": [
    {
     "data": {
      "text/plain": [
       "array([5, 6, 7])"
      ]
     },
     "execution_count": 32,
     "metadata": {},
     "output_type": "execute_result"
    }
   ],
   "source": [
    "array_2d[1] + 1"
   ]
  },
  {
   "cell_type": "code",
   "execution_count": 35,
   "id": "568533e0-4aed-4975-a429-a207c3b6dc45",
   "metadata": {},
   "outputs": [
    {
     "name": "stdout",
     "output_type": "stream",
     "text": [
      "3\n",
      "(3, 3)\n",
      "9\n"
     ]
    }
   ],
   "source": [
    "print(len(array_2d))\n",
    "print(array_2d.shape)\n",
    "print(array_2d.size)"
   ]
  },
  {
   "cell_type": "code",
   "execution_count": 37,
   "id": "0d5bd890-b740-4b1e-abb3-ecfa61c12046",
   "metadata": {},
   "outputs": [
    {
     "name": "stdout",
     "output_type": "stream",
     "text": [
      "1\n",
      "2\n"
     ]
    }
   ],
   "source": [
    "print(a_np.ndim)\n",
    "print(array_2d.ndim)"
   ]
  },
  {
   "cell_type": "code",
   "execution_count": 38,
   "id": "3beffa69-d129-4fe0-8822-5678fecf75b8",
   "metadata": {},
   "outputs": [
    {
     "data": {
      "text/plain": [
       "dtype('int32')"
      ]
     },
     "execution_count": 38,
     "metadata": {},
     "output_type": "execute_result"
    }
   ],
   "source": [
    "array_2d.dtype"
   ]
  },
  {
   "cell_type": "code",
   "execution_count": 41,
   "id": "955a6770-505d-47d4-98fa-f3853c3820ee",
   "metadata": {},
   "outputs": [
    {
     "data": {
      "text/plain": [
       "array([[1., 2., 3.],\n",
       "       [4., 5., 6.],\n",
       "       [7., 8., 9.]], dtype=float32)"
      ]
     },
     "execution_count": 41,
     "metadata": {},
     "output_type": "execute_result"
    }
   ],
   "source": [
    "array_2d = np.array([\n",
    "    [1, 2, 3],\n",
    "    [4, 5, \"6\"],\n",
    "    [7, 8, 9]], dtype=np.float32)\n",
    "array_2d"
   ]
  },
  {
   "cell_type": "code",
   "execution_count": 42,
   "id": "eb1f4baa-0a90-470a-bc93-c6e279b57907",
   "metadata": {},
   "outputs": [
    {
     "data": {
      "text/plain": [
       "array([[10, 10, 10, 10, 10],\n",
       "       [10, 10, 10, 10, 10],\n",
       "       [10, 10, 10, 10, 10],\n",
       "       [10, 10, 10, 10, 10],\n",
       "       [10, 10, 10, 10, 10]])"
      ]
     },
     "execution_count": 42,
     "metadata": {},
     "output_type": "execute_result"
    }
   ],
   "source": [
    "np.full((5, 5), 10)"
   ]
  },
  {
   "cell_type": "code",
   "execution_count": 44,
   "id": "b321f7f9-34df-494b-8476-6d0305f5ea90",
   "metadata": {},
   "outputs": [
    {
     "data": {
      "text/plain": [
       "array([[1., 1., 1.],\n",
       "       [1., 1., 1.],\n",
       "       [1., 1., 1.],\n",
       "       [1., 1., 1.]])"
      ]
     },
     "execution_count": 44,
     "metadata": {},
     "output_type": "execute_result"
    }
   ],
   "source": [
    "np.ones((4, 3))"
   ]
  },
  {
   "cell_type": "code",
   "execution_count": 47,
   "id": "0633ab83-1258-4937-8c73-9b3621971030",
   "metadata": {},
   "outputs": [
    {
     "data": {
      "text/plain": [
       "array([[10., 10.],\n",
       "       [10., 10.],\n",
       "       [10., 10.]])"
      ]
     },
     "execution_count": 47,
     "metadata": {},
     "output_type": "execute_result"
    }
   ],
   "source": [
    "np.zeros((3, 2)) + 10"
   ]
  },
  {
   "cell_type": "code",
   "execution_count": 49,
   "id": "ec74d9b1-0dba-4959-bcf3-dda94e76ba0f",
   "metadata": {},
   "outputs": [
    {
     "data": {
      "text/plain": [
       "array([ 2,  4,  6,  8, 10])"
      ]
     },
     "execution_count": 49,
     "metadata": {},
     "output_type": "execute_result"
    }
   ],
   "source": [
    "np.arange(2, 11, 2)"
   ]
  },
  {
   "cell_type": "code",
   "execution_count": 51,
   "id": "e6ea0b89-6cea-4366-8f36-deef0fa129cb",
   "metadata": {},
   "outputs": [
    {
     "name": "stdout",
     "output_type": "stream",
     "text": [
      "[  1.    25.75  50.5   75.25 100.  ]\n"
     ]
    }
   ],
   "source": [
    "line = np.linspace(1, 100, 5)\n",
    "print(line)"
   ]
  },
  {
   "cell_type": "code",
   "execution_count": 52,
   "id": "0b292704-24ce-4ddd-ac6a-2839601b7ea9",
   "metadata": {},
   "outputs": [
    {
     "data": {
      "text/plain": [
       "array([[1.       , 1.4142135, 1.7320508],\n",
       "       [2.       , 2.236068 , 2.4494898],\n",
       "       [2.6457512, 2.828427 , 3.       ]], dtype=float32)"
      ]
     },
     "execution_count": 52,
     "metadata": {},
     "output_type": "execute_result"
    }
   ],
   "source": [
    "np.sqrt(array_2d)"
   ]
  },
  {
   "cell_type": "code",
   "execution_count": 53,
   "id": "17b8ce8b-3136-4281-ab29-7ef54248f65d",
   "metadata": {},
   "outputs": [
    {
     "data": {
      "text/plain": [
       "array([3, 5, 7, 9])"
      ]
     },
     "execution_count": 53,
     "metadata": {},
     "output_type": "execute_result"
    }
   ],
   "source": [
    "numbers = np.array([1, 2, 3, 4, 5, 6, 7, 8, 9, 10])\n",
    "numbers[2::2]"
   ]
  },
  {
   "cell_type": "code",
   "execution_count": 55,
   "id": "30c33313-eab5-4da5-a833-26db817b4520",
   "metadata": {},
   "outputs": [
    {
     "name": "stdout",
     "output_type": "stream",
     "text": [
      "5.5\n",
      "[False False False False False  True  True  True  True  True]\n",
      "[ 6  7  8  9 10]\n"
     ]
    }
   ],
   "source": [
    "avg = np.mean(numbers)\n",
    "print(avg)\n",
    "print(numbers > avg)\n",
    "print(numbers[numbers > avg])"
   ]
  },
  {
   "cell_type": "markdown",
   "id": "1b5e8757-4cb3-45e7-a8bc-078e7524531e",
   "metadata": {},
   "source": [
    "---\n",
    "### vectorization --->"
   ]
  },
  {
   "cell_type": "code",
   "execution_count": 56,
   "id": "cbf09b3d-339c-4665-9de6-c9bf85e6af29",
   "metadata": {},
   "outputs": [],
   "source": [
    "def calc(val):\n",
    "    if val > 10:\n",
    "        return val * 10\n",
    "    else: return val * 5"
   ]
  },
  {
   "cell_type": "code",
   "execution_count": 57,
   "id": "63939309-22d8-4313-96d9-d1fdef16baa8",
   "metadata": {},
   "outputs": [],
   "source": [
    "mul = np.vectorize(calc)"
   ]
  },
  {
   "cell_type": "code",
   "execution_count": 61,
   "id": "85dbe152-9087-4937-a49c-af021daa4701",
   "metadata": {},
   "outputs": [],
   "source": [
    "arr = np.array([1, 2, 3, 11, 5])"
   ]
  },
  {
   "cell_type": "code",
   "execution_count": 62,
   "id": "346311a1-4c3e-43b2-af76-12b1e4586c21",
   "metadata": {},
   "outputs": [
    {
     "data": {
      "text/plain": [
       "array([  5,  10,  15, 110,  25])"
      ]
     },
     "execution_count": 62,
     "metadata": {},
     "output_type": "execute_result"
    }
   ],
   "source": [
    "mul(arr)"
   ]
  },
  {
   "cell_type": "markdown",
   "id": "496aa729-7c34-4568-a6de-acb405503859",
   "metadata": {},
   "source": [
    "---\n",
    "### condition --->"
   ]
  },
  {
   "cell_type": "code",
   "execution_count": 63,
   "id": "a50b6fb4-223a-4cdb-8f7f-2a23298692f6",
   "metadata": {},
   "outputs": [],
   "source": [
    "arr = np.array([1, 2, 100, 98, 45, 90, 15])\n"
   ]
  },
  {
   "cell_type": "code",
   "execution_count": 64,
   "id": "df3f26e2-76f9-4bb8-a82d-ef5e632fe408",
   "metadata": {},
   "outputs": [
    {
     "data": {
      "text/plain": [
       "array([98, 90])"
      ]
     },
     "execution_count": 64,
     "metadata": {},
     "output_type": "execute_result"
    }
   ],
   "source": [
    "arr[(arr > 50) & (arr < 100)]"
   ]
  },
  {
   "cell_type": "code",
   "execution_count": 66,
   "id": "a468b81d-6ab9-41d9-b6d3-ead1e0575764",
   "metadata": {},
   "outputs": [
    {
     "data": {
      "text/plain": [
       "array(['yes', 'yes', 'yes', 'yes', 'yes', 'no', 'yes'], dtype='<U3')"
      ]
     },
     "execution_count": 66,
     "metadata": {},
     "output_type": "execute_result"
    }
   ],
   "source": [
    "np.where(arr < 50, \"yes\", np.where(arr > 90, \"yes\", \"no\"))"
   ]
  },
  {
   "cell_type": "markdown",
   "id": "c9164ebb-9c32-4a21-a72d-d1fe509ef78f",
   "metadata": {},
   "source": [
    "---\n",
    "### flattening, resizing arrays --->"
   ]
  },
  {
   "cell_type": "code",
   "execution_count": 68,
   "id": "cce8cbde-5ded-48a5-b78d-483a54c83370",
   "metadata": {},
   "outputs": [
    {
     "data": {
      "text/plain": [
       "array([[ 1,  2],\n",
       "       [ 3,  4],\n",
       "       [ 5,  6],\n",
       "       [ 7,  8],\n",
       "       [ 9, 10],\n",
       "       [11, 12]])"
      ]
     },
     "execution_count": 68,
     "metadata": {},
     "output_type": "execute_result"
    }
   ],
   "source": [
    "scores = np.array([\n",
    "    [1, 2, 3],\n",
    "    [4, 5, 6],\n",
    "    [7, 8, 9],\n",
    "    [10, 11, 12]])\n",
    "\n",
    "np.resize(scores, (6, 2))"
   ]
  },
  {
   "cell_type": "code",
   "execution_count": 70,
   "id": "f4e54cb3-14c6-44c9-8931-f46e8ca7cde8",
   "metadata": {},
   "outputs": [
    {
     "data": {
      "text/plain": [
       "array([ 1,  2,  3,  4,  5,  6,  7,  8,  9, 10, 11, 12])"
      ]
     },
     "execution_count": 70,
     "metadata": {},
     "output_type": "execute_result"
    }
   ],
   "source": [
    "scores.flatten()"
   ]
  },
  {
   "cell_type": "markdown",
   "id": "0943e205-b477-4281-a662-f9f11049f7c9",
   "metadata": {},
   "source": [
    "---\n",
    "### transposing --->"
   ]
  },
  {
   "cell_type": "code",
   "execution_count": 71,
   "id": "18c1f7dc-1105-4b7f-897f-c9a7b45bfbaa",
   "metadata": {},
   "outputs": [
    {
     "data": {
      "text/plain": [
       "array([[ 1,  4,  7, 10],\n",
       "       [ 2,  5,  8, 11],\n",
       "       [ 3,  6,  9, 12]])"
      ]
     },
     "execution_count": 71,
     "metadata": {},
     "output_type": "execute_result"
    }
   ],
   "source": [
    "scores.transpose()"
   ]
  },
  {
   "cell_type": "markdown",
   "id": "59576c70-8feb-4ccc-972a-84c0df9e1a25",
   "metadata": {},
   "source": [
    "---\n",
    "### concatening --->"
   ]
  },
  {
   "cell_type": "code",
   "execution_count": 74,
   "id": "66330d3c-5844-4cbe-8294-0ab1bd35f1fc",
   "metadata": {},
   "outputs": [
    {
     "data": {
      "text/plain": [
       "array([12, 13, 15, 17])"
      ]
     },
     "execution_count": 74,
     "metadata": {},
     "output_type": "execute_result"
    }
   ],
   "source": [
    "data1 = np.array([12, 13])\n",
    "data2 = np.array([15, 17])\n",
    "\n",
    "np.concatenate((data1, data2))"
   ]
  },
  {
   "cell_type": "code",
   "execution_count": 75,
   "id": "4c5fd41a-3253-484d-899a-e8f27a73d969",
   "metadata": {},
   "outputs": [
    {
     "data": {
      "text/plain": [
       "array([12, 13, 15, 17])"
      ]
     },
     "execution_count": 75,
     "metadata": {},
     "output_type": "execute_result"
    }
   ],
   "source": [
    "np.hstack((data1, data2))"
   ]
  },
  {
   "cell_type": "code",
   "execution_count": 76,
   "id": "583ea4b6-3550-456f-a47f-fe5f281ab243",
   "metadata": {},
   "outputs": [
    {
     "data": {
      "text/plain": [
       "array([[12, 13],\n",
       "       [15, 17]])"
      ]
     },
     "execution_count": 76,
     "metadata": {},
     "output_type": "execute_result"
    }
   ],
   "source": [
    "np.vstack((data1, data2))"
   ]
  },
  {
   "cell_type": "code",
   "execution_count": null,
   "id": "46aa7d37-f2e4-4163-93cf-8c1d9f71a74b",
   "metadata": {},
   "outputs": [],
   "source": []
  }
 ],
 "metadata": {
  "kernelspec": {
   "display_name": "Python 3 (ipykernel)",
   "language": "python",
   "name": "python3"
  },
  "language_info": {
   "codemirror_mode": {
    "name": "ipython",
    "version": 3
   },
   "file_extension": ".py",
   "mimetype": "text/x-python",
   "name": "python",
   "nbconvert_exporter": "python",
   "pygments_lexer": "ipython3",
   "version": "3.10.13"
  }
 },
 "nbformat": 4,
 "nbformat_minor": 5
}
